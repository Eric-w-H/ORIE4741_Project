{
 "cells": [
  {
   "cell_type": "code",
   "execution_count": 51,
   "metadata": {},
   "outputs": [],
   "source": [
    "import os\n",
    "import json\n",
    "import pandas as pd\n",
    "import numpy as np\n",
    "import seaborn as sns\n",
    "from matplotlib import pyplot as plt\n",
    "import matplotlib as mpl\n",
    "import itertools as it\n",
    "width, height = 10, 5\n",
    "mpl.rcParams['figure.figsize'] = [width, height]"
   ]
  },
  {
   "cell_type": "code",
   "execution_count": 52,
   "metadata": {},
   "outputs": [],
   "source": [
    "project_directory = os.path.dirname(os.getcwd())\n",
    "raw_stats = os.path.join(\"data\", \"raw\", \"stats.json\")\n",
    "with open(os.path.join(project_directory, raw_stats), 'r') as raw_file:\n",
    "  stats = json.load(raw_file)"
   ]
  },
  {
   "cell_type": "code",
   "execution_count": 53,
   "metadata": {},
   "outputs": [
    {
     "data": {
      "text/plain": [
       "dict_keys(['1920', '1921', '1922', '1923', '1924', '1925', '1926', '1927', '1928', '1929', '1930', '1931', '1932', '1933', '1934', '1935', '1936', '1937', '1938', '1939', '1940', '1941', '1942', '1943', '1944', '1945', '1946', '1947', '1948', '1949', '1950', '1951', '1952', '1953', '1954', '1955', '1956', '1957', '1958', '1959', '1960', '1961', '1962', '1963', '1964', '1965', '1966', '1967', '1968', '1969', '1970', '1971', '1972', '1973', '1974', '1975', '1976', '1977', '1978', '1979', '1980', '1981', '1982', '1983', '1984', '1985', '1986', '1987', '1988', '1989', '1990', '1991', '1992', '1993', '1994', '1995', '1996', '1997', '1998', '1999', '2000', '2001', '2002', '2003', '2004', '2005', '2006', '2007', '2008', '2009', '2010', '2011', '2012', '2013', '2014', '2015', '2016', '2017', '2018', '2019', '2020'])"
      ]
     },
     "execution_count": 53,
     "metadata": {},
     "output_type": "execute_result"
    }
   ],
   "source": [
    "stats.keys()"
   ]
  },
  {
   "cell_type": "code",
   "execution_count": 54,
   "metadata": {},
   "outputs": [
    {
     "name": "stdout",
     "output_type": "stream",
     "text": [
      "dict_keys(['akr', 'dec', 'buf', 'day', 'ri', 'chic', 'can', 'det', 'cle', 'chit', 'col', 'ham', 'mun', 'roc'])\n",
      "dict_keys(['lbuf', 'lmia', 'lne', 'lnyj', 'lpit', 'lbal', 'lcle', 'lcin', 'lten', 'lind', 'lhou', 'ljac', 'lkc', 'llv', 'llac', 'lden', 'lwas', 'lnyg', 'ldal', 'lphi', 'lgb', 'lchib', 'lmin', 'ldet', 'lno', 'ltb', 'lcar', 'latl', 'lsea', 'llarm', 'lari', 'lsf'])\n"
     ]
    }
   ],
   "source": [
    "print(stats['1920'].keys())\n",
    "print(stats['2020'].keys())"
   ]
  },
  {
   "cell_type": "code",
   "execution_count": 55,
   "metadata": {},
   "outputs": [
    {
     "name": "stdout",
     "output_type": "stream",
     "text": [
      "dict_keys(['ROSTER', 'SCORING BY QUARTERS', 'SCORING', 'FIELD GOALS', 'RUSHING', 'PASSING', 'RECEIVING', 'INTERCEPTIONS', 'PUNT RETURNS', 'KICKOFF RETURNS', 'FUMBLES'])\n"
     ]
    }
   ],
   "source": [
    "print(stats['1920']['akr'].keys())"
   ]
  },
  {
   "cell_type": "code",
   "execution_count": 56,
   "metadata": {},
   "outputs": [
    {
     "name": "stdout",
     "output_type": "stream",
     "text": [
      "[]\n",
      "[]\n"
     ]
    }
   ],
   "source": [
    "print(stats['1920']['akr']['ROSTER'])\n",
    "print(stats['2020']['lsf']['ROSTER'])"
   ]
  },
  {
   "cell_type": "code",
   "execution_count": 57,
   "metadata": {},
   "outputs": [
    {
     "name": "stdout",
     "output_type": "stream",
     "text": [
      "[{'Totals': 'Team Totals', 'TD': '13', 'X1': '12', 'X1A': '13', 'PCT': None, 'FG': '1', 'FGA': None, 'SAF': '1', 'PTS': '95'}, {'Totals': 'Opponents Totals', 'TD': '1', 'X1': '1', 'X1A': '1', 'PCT': None, 'FG': '0', 'FGA': None, 'SAF': '0', 'PTS': '7'}]\n"
     ]
    }
   ],
   "source": [
    "print(stats['1920']['akr']['SCORING'])"
   ]
  },
  {
   "cell_type": "code",
   "execution_count": null,
   "metadata": {},
   "outputs": [],
   "source": []
  }
 ],
 "metadata": {
  "interpreter": {
   "hash": "43ec02794a5c6caca2187426f9bfbca63869e8dd5c007b90979db8c1bb48c23c"
  },
  "kernelspec": {
   "display_name": "Python 3.7.9 64-bit ('machine_learning': conda)",
   "language": "python",
   "name": "python3"
  },
  "language_info": {
   "codemirror_mode": {
    "name": "ipython",
    "version": 3
   },
   "file_extension": ".py",
   "mimetype": "text/x-python",
   "name": "python",
   "nbconvert_exporter": "python",
   "pygments_lexer": "ipython3",
   "version": "3.7.11"
  },
  "orig_nbformat": 4
 },
 "nbformat": 4,
 "nbformat_minor": 2
}

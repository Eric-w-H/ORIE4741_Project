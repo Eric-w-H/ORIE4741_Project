{
 "cells": [
  {
   "cell_type": "code",
   "execution_count": 1,
   "metadata": {},
   "outputs": [],
   "source": [
    "import os\n",
    "import numpy as np\n",
    "import pandas as pd\n",
    "from matplotlib import pyplot as plt\n",
    "import matplotlib as mpl\n",
    "\n",
    "width, height = 10, 5\n",
    "mpl.rcParams['figure.figsize'] = [width, height]"
   ]
  },
  {
   "cell_type": "code",
   "execution_count": 2,
   "metadata": {},
   "outputs": [],
   "source": [
    "from sklearn import svm\n",
    "from sklearn import pipeline\n",
    "from sklearn import preprocessing\n",
    "from sklearn import model_selection\n"
   ]
  },
  {
   "cell_type": "code",
   "execution_count": 3,
   "metadata": {},
   "outputs": [],
   "source": [
    "basedir = os.path.dirname(os.getcwd())\n",
    "data = os.path.join(basedir, 'data','derived','cleaned_matches.csv')\n",
    "cleaned_matches = pd.read_csv(data)"
   ]
  },
  {
   "cell_type": "code",
   "execution_count": 5,
   "metadata": {},
   "outputs": [
    {
     "name": "stdout",
     "output_type": "stream",
     "text": [
      "<class 'pandas.core.frame.DataFrame'>\n",
      "RangeIndex: 26122 entries, 0 to 26121\n",
      "Data columns (total 19 columns):\n",
      " #   Column          Non-Null Count  Dtype         \n",
      "---  ------          --------------  -----         \n",
      " 0   Day             26122 non-null  object        \n",
      " 1   Date            26122 non-null  datetime64[ns]\n",
      " 2   Home/Away       26122 non-null  object        \n",
      " 3   Opponent        26122 non-null  object        \n",
      " 4   Score           26122 non-null  object        \n",
      " 5   W/L/T           26122 non-null  object        \n",
      " 6   Overtime        948 non-null    object        \n",
      " 7   Location        26122 non-null  object        \n",
      " 8   Venue           26122 non-null  object        \n",
      " 9   Attendance      26098 non-null  float64       \n",
      " 10  Notes           1061 non-null   object        \n",
      " 11  Opponent Code   26122 non-null  object        \n",
      " 12  Team            26122 non-null  object        \n",
      " 13  Team Code       26122 non-null  object        \n",
      " 14  Team Score      25942 non-null  float64       \n",
      " 15  Opponent Score  25942 non-null  float64       \n",
      " 16  Score Sum       25942 non-null  float64       \n",
      " 17  Score Diff      25942 non-null  float64       \n",
      " 18  Class           26122 non-null  int64         \n",
      "dtypes: datetime64[ns](1), float64(5), int64(1), object(12)\n",
      "memory usage: 3.8+ MB\n"
     ]
    }
   ],
   "source": [
    "cleaned_matches.info()"
   ]
  },
  {
   "cell_type": "markdown",
   "metadata": {},
   "source": [
    "## Train to classify on the win/loss of team code"
   ]
  },
  {
   "cell_type": "code",
   "execution_count": 5,
   "metadata": {},
   "outputs": [],
   "source": [
    "x_cols = [\n",
    "  'Team Code',\n",
    "  'Opponent Code',\n",
    "]\n",
    "y_cols = [\n",
    "  'Class'\n",
    "]\n",
    "\n",
    "played_matches = cleaned_matches.dropna(axis=0, how='any', subset=x_cols + y_cols)\n",
    "\n",
    "X = pd.concat([pd.get_dummies(played_matches[xcol],prefix='_'.join(xcol.split())+'_') for xcol in x_cols], axis=1)\n",
    "y = played_matches[y_cols]\n"
   ]
  },
  {
   "cell_type": "code",
   "execution_count": 6,
   "metadata": {},
   "outputs": [
    {
     "data": {
      "text/html": [
       "<div>\n",
       "<style scoped>\n",
       "    .dataframe tbody tr th:only-of-type {\n",
       "        vertical-align: middle;\n",
       "    }\n",
       "\n",
       "    .dataframe tbody tr th {\n",
       "        vertical-align: top;\n",
       "    }\n",
       "\n",
       "    .dataframe thead th {\n",
       "        text-align: right;\n",
       "    }\n",
       "</style>\n",
       "<table border=\"1\" class=\"dataframe\">\n",
       "  <thead>\n",
       "    <tr style=\"text-align: right;\">\n",
       "      <th></th>\n",
       "      <th>Class</th>\n",
       "    </tr>\n",
       "  </thead>\n",
       "  <tbody>\n",
       "    <tr>\n",
       "      <th>0</th>\n",
       "      <td>1</td>\n",
       "    </tr>\n",
       "    <tr>\n",
       "      <th>1</th>\n",
       "      <td>-1</td>\n",
       "    </tr>\n",
       "    <tr>\n",
       "      <th>2</th>\n",
       "      <td>1</td>\n",
       "    </tr>\n",
       "    <tr>\n",
       "      <th>3</th>\n",
       "      <td>-1</td>\n",
       "    </tr>\n",
       "    <tr>\n",
       "      <th>4</th>\n",
       "      <td>1</td>\n",
       "    </tr>\n",
       "  </tbody>\n",
       "</table>\n",
       "</div>"
      ],
      "text/plain": [
       "   Class\n",
       "0      1\n",
       "1     -1\n",
       "2      1\n",
       "3     -1\n",
       "4      1"
      ]
     },
     "execution_count": 6,
     "metadata": {},
     "output_type": "execute_result"
    }
   ],
   "source": [
    "y.head()"
   ]
  },
  {
   "cell_type": "code",
   "execution_count": 7,
   "metadata": {},
   "outputs": [],
   "source": [
    "y=y.dropna()\n",
    "X=X.dropna()"
   ]
  },
  {
   "cell_type": "code",
   "execution_count": 8,
   "metadata": {},
   "outputs": [
    {
     "name": "stdout",
     "output_type": "stream",
     "text": [
      "(16717, 62) (16717,)\n",
      "(4180, 62) (4180,)\n",
      "(5225, 62) (5225,)\n"
     ]
    }
   ],
   "source": [
    "X_train, X_test, y_train, y_test = model_selection.train_test_split(\n",
    "  X.to_numpy(), y.to_numpy(), test_size=0.2, random_state=0\n",
    ")\n",
    "\n",
    "\n",
    "X_train, X_val, y_train, y_val = model_selection.train_test_split(\n",
    "  X_train, y_train, test_size=0.2\n",
    ")\n",
    "\n",
    "y_train=y_train.ravel()\n",
    "y_val=y_val.ravel()\n",
    "y_test=y_test.ravel()\n",
    "\n",
    "print(X_train.shape, y_train.shape)\n",
    "print(X_val.shape, y_val.shape)\n",
    "print(X_test.shape, y_test.shape)"
   ]
  },
  {
   "cell_type": "code",
   "execution_count": 21,
   "metadata": {},
   "outputs": [
    {
     "name": "stdout",
     "output_type": "stream",
     "text": [
      "Evaluating linear kernel for C=1.0\n"
     ]
    }
   ],
   "source": [
    "for kernel in ['linear', 'poly','rbf','sigmoid']:\n",
    "  train_scores = []\n",
    "  val_scores = []\n",
    "  val_space = np.geomspace(start=1, stop=15, num=5)\n",
    "  for C in val_space:\n",
    "    print(f\"Evaluating {kernel} kernel for C={C}\")\n",
    "    model = pipeline.make_pipeline(\n",
    "      preprocessing.MinMaxScaler(),\n",
    "      svm.SVC(C=C,max_iter=10_000,kernel=kernel),\n",
    "    )\n",
    "\n",
    "    model.fit(X_train, y_train)\n",
    "    train_scores.append(model.score(X_train, y_train))\n",
    "    val_scores.append(model.score(X_val, y_val))\n",
    "\n",
    "  plt.title(kernel)\n",
    "  plt.plot(val_space, train_scores, label='Train score')\n",
    "  plt.plot(val_space, val_scores, label='Val score')\n",
    "  plt.ylim(0, 1)\n",
    "  plt.legend()\n",
    "  plt.show()"
   ]
  },
  {
   "cell_type": "code",
   "execution_count": 13,
   "metadata": {},
   "outputs": [
    {
     "name": "stdout",
     "output_type": "stream",
     "text": [
      "............................................................"
     ]
    }
   ],
   "source": [
    "from sklearn.ensemble import BaggingRegressor\n",
    "from sklearn.tree import DecisionTreeRegressor\n",
    "from sklearn.tree import DecisionTreeClassifier\n",
    "\n",
    "best_config = []\n",
    "best_score = 0\n",
    "best_fit_config = []\n",
    "best_fit_score = 0\n",
    "for estimator in [DecisionTreeClassifier(max_leaf_nodes=3), DecisionTreeClassifier(max_leaf_nodes=5), DecisionTreeClassifier(max_leaf_nodes=62), DecisionTreeClassifier(max_leaf_nodes=124)]:\n",
    "  for nestimators in [10, 31, 62, 93, 124]:\n",
    "    for nsamples in [10, 20, 30]:\n",
    "      regressor = BaggingRegressor(base_estimator=estimator, n_estimators=nestimators, max_samples=nsamples)\n",
    "      regressor.fit(X_train, y_train)\n",
    "      \n",
    "      score = regressor.score(X_val, y_val)\n",
    "      if(score > best_score):\n",
    "        best_config = [estimator, nestimators, nsamples]\n",
    "        best_score = score\n",
    "      \n",
    "      score = regressor.score(X_train, y_train)\n",
    "      if(score > best_fit_score):\n",
    "        best_fit_config = [estimator, nestimators, nsamples]\n",
    "        best_fit_score = score\n",
    "        \n",
    "      print(end='.')"
   ]
  },
  {
   "cell_type": "code",
   "execution_count": 14,
   "metadata": {},
   "outputs": [
    {
     "name": "stdout",
     "output_type": "stream",
     "text": [
      "Best validation: 0.008559562387863595, [DecisionTreeClassifier(max_leaf_nodes=124), 93, 30]\n",
      "Best training: 0.007006868667075117, [DecisionTreeClassifier(max_leaf_nodes=124), 93, 30]\n"
     ]
    }
   ],
   "source": [
    "print(f\"Best validation: {best_score}, {best_config}\")\n",
    "print(f\"Best training: {best_fit_score}, {best_fit_config}\")"
   ]
  },
  {
   "cell_type": "code",
   "execution_count": null,
   "metadata": {},
   "outputs": [],
   "source": []
  }
 ],
 "metadata": {
  "interpreter": {
   "hash": "43ec02794a5c6caca2187426f9bfbca63869e8dd5c007b90979db8c1bb48c23c"
  },
  "kernelspec": {
   "display_name": "Python 3.7.11 64-bit ('machine_learning': conda)",
   "language": "python",
   "name": "python3"
  },
  "language_info": {
   "codemirror_mode": {
    "name": "ipython",
    "version": 3
   },
   "file_extension": ".py",
   "mimetype": "text/x-python",
   "name": "python",
   "nbconvert_exporter": "python",
   "pygments_lexer": "ipython3",
   "version": "3.7.11"
  },
  "orig_nbformat": 4
 },
 "nbformat": 4,
 "nbformat_minor": 2
}

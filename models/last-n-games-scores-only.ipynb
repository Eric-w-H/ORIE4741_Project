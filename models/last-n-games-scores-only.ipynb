{
 "cells": [
  {
   "cell_type": "code",
   "execution_count": 1,
   "metadata": {},
   "outputs": [],
   "source": [
    "import os\n",
    "import numpy as np\n",
    "import pandas as pd\n",
    "from matplotlib import pyplot as plt\n",
    "import matplotlib as mpl\n",
    "\n",
    "width, height = 10, 5\n",
    "mpl.rcParams['figure.figsize'] = [width, height]\n"
   ]
  },
  {
   "cell_type": "code",
   "execution_count": 2,
   "metadata": {},
   "outputs": [],
   "source": [
    "from sklearn import svm\n",
    "from sklearn import pipeline\n",
    "from sklearn import preprocessing\n",
    "from sklearn import model_selection\n",
    "\n",
    "from utility_fns import form_last_n_games\n",
    "from utility_fns import make_train_val_test\n"
   ]
  },
  {
   "cell_type": "code",
   "execution_count": 3,
   "metadata": {},
   "outputs": [],
   "source": [
    "from sklearn.model_selection import cross_val_score\n",
    "from sklearn.preprocessing import StandardScaler\n",
    "from sklearn.preprocessing import OneHotEncoder\n",
    "from sklearn.compose import ColumnTransformer\n",
    "from sklearn.pipeline import make_pipeline\n",
    "from sklearn.metrics import precision_recall_fscore_support\n",
    "from sklearn.ensemble import BaggingClassifier\n",
    "from sklearn.tree import DecisionTreeClassifier\n"
   ]
  },
  {
   "cell_type": "code",
   "execution_count": 4,
   "metadata": {},
   "outputs": [],
   "source": [
    "basedir = os.path.dirname(os.getcwd())\n",
    "data = os.path.join(basedir, 'data', 'derived', 'cleaned_matches.csv')\n",
    "defense = os.path.join(basedir, 'data', 'derived', 'stats_categories', 'DEFENSE_stats.csv')\n",
    "snaps = os.path.join(basedir, 'data', 'derived', 'stats_categories', 'SNAP_COUNTS_stats.csv')\n",
    "\n",
    "cleaned_matches = pd.read_csv(data)\n",
    "# defense_stats = pd.read_csv(defense, index_col=[0,1,2])\n",
    "# snaps_stats = pd.read_csv(snaps, index_col=[0,1,2])"
   ]
  },
  {
   "cell_type": "code",
   "execution_count": 5,
   "metadata": {},
   "outputs": [
    {
     "name": "stdout",
     "output_type": "stream",
     "text": [
      "<class 'pandas.core.frame.DataFrame'>\n",
      "Int64Index: 26122 entries, 0 to 26121\n",
      "Data columns (total 19 columns):\n",
      " #   Column          Non-Null Count  Dtype         \n",
      "---  ------          --------------  -----         \n",
      " 0   Day             26122 non-null  object        \n",
      " 1   Date            26122 non-null  datetime64[ns]\n",
      " 2   Home/Away       26122 non-null  object        \n",
      " 3   Opponent        26122 non-null  object        \n",
      " 4   Score           26122 non-null  object        \n",
      " 5   W/L/T           26122 non-null  object        \n",
      " 6   Overtime        948 non-null    object        \n",
      " 7   Location        26122 non-null  object        \n",
      " 8   Venue           26122 non-null  object        \n",
      " 9   Attendance      26098 non-null  float64       \n",
      " 10  Notes           1061 non-null   object        \n",
      " 11  Opponent Code   26122 non-null  object        \n",
      " 12  Team            26122 non-null  object        \n",
      " 13  Team Code       26122 non-null  object        \n",
      " 14  Team Score      25942 non-null  float64       \n",
      " 15  Opponent Score  25942 non-null  float64       \n",
      " 16  Score Sum       25942 non-null  float64       \n",
      " 17  Score Diff      25942 non-null  float64       \n",
      " 18  Class           26122 non-null  int64         \n",
      "dtypes: datetime64[ns](1), float64(5), int64(1), object(12)\n",
      "memory usage: 4.0+ MB\n"
     ]
    }
   ],
   "source": [
    "cleaned_matches.Date = pd.to_datetime(cleaned_matches.Date)\n",
    "cleaned_matches.sort_values(by='Date', inplace=True, ascending=True)\n",
    "cleaned_matches.info()\n"
   ]
  },
  {
   "cell_type": "code",
   "execution_count": 6,
   "metadata": {},
   "outputs": [],
   "source": [
    "cleaned_matches['Pct Team Score'] = cleaned_matches['Team Score'] / \\\n",
    "    (cleaned_matches['Team Score'] + cleaned_matches['Opponent Score'])\n",
    "cleaned_matches['Pct Opponent Score'] = cleaned_matches['Opponent Score'] / \\\n",
    "    (cleaned_matches['Team Score'] + cleaned_matches['Opponent Score'])\n"
   ]
  },
  {
   "cell_type": "markdown",
   "metadata": {},
   "source": [
    "## Train to classify based on the last-n-games a team played"
   ]
  },
  {
   "cell_type": "code",
   "execution_count": 7,
   "metadata": {},
   "outputs": [
    {
     "name": "stdout",
     "output_type": "stream",
     "text": [
      "<class 'pandas.core.frame.DataFrame'>\n",
      "Int64Index: 25914 entries, 0 to 26121\n",
      "Data columns (total 21 columns):\n",
      " #   Column              Non-Null Count  Dtype         \n",
      "---  ------              --------------  -----         \n",
      " 0   Day                 25914 non-null  object        \n",
      " 1   Date                25914 non-null  datetime64[ns]\n",
      " 2   Home/Away           25914 non-null  object        \n",
      " 3   Opponent            25914 non-null  object        \n",
      " 4   Score               25914 non-null  object        \n",
      " 5   W/L/T               25914 non-null  object        \n",
      " 6   Overtime            948 non-null    object        \n",
      " 7   Location            25914 non-null  object        \n",
      " 8   Venue               25914 non-null  object        \n",
      " 9   Attendance          25890 non-null  float64       \n",
      " 10  Notes               1051 non-null   object        \n",
      " 11  Opponent Code       25914 non-null  object        \n",
      " 12  Team                25914 non-null  object        \n",
      " 13  Team Code           25914 non-null  object        \n",
      " 14  Team Score          25914 non-null  float64       \n",
      " 15  Opponent Score      25914 non-null  float64       \n",
      " 16  Score Sum           25914 non-null  float64       \n",
      " 17  Score Diff          25914 non-null  float64       \n",
      " 18  Class               25914 non-null  int64         \n",
      " 19  Pct Team Score      25914 non-null  float64       \n",
      " 20  Pct Opponent Score  25914 non-null  float64       \n",
      "dtypes: datetime64[ns](1), float64(7), int64(1), object(12)\n",
      "memory usage: 4.3+ MB\n"
     ]
    }
   ],
   "source": [
    "x_cols = [\n",
    "    'Team Code',\n",
    "    'Opponent Code',\n",
    "    'Location'\n",
    "]\n",
    "lookup_x_cols = [\n",
    "    'Team Score',\n",
    "    'Opponent Score',\n",
    "    'Pct Team Score',\n",
    "    'Pct Opponent Score',\n",
    "    'Location'\n",
    "]\n",
    "key_x_cols = [\n",
    "    'Team Code',\n",
    "    'Opponent Code'\n",
    "]\n",
    "y_cols = [\n",
    "    'Class'\n",
    "]\n",
    "\n",
    "played_matches = cleaned_matches.dropna(\n",
    "    axis=0, how='any', subset=x_cols + y_cols + lookup_x_cols).copy()\n",
    "\n",
    "played_matches['Class'].where(\n",
    "    played_matches['Class'] > 0, other=0, inplace=True)\n",
    "\n",
    "\n",
    "played_matches.info()\n"
   ]
  },
  {
   "cell_type": "code",
   "execution_count": 8,
   "metadata": {},
   "outputs": [],
   "source": [
    "def dataset_transformer():\n",
    "    return ColumnTransformer([('scaler', StandardScaler(), numeric_columns), ('one-hot', OneHotEncoder(handle_unknown='ignore'), dummies_columns)])"
   ]
  },
  {
   "cell_type": "code",
   "execution_count": 9,
   "metadata": {},
   "outputs": [
    {
     "name": "stdout",
     "output_type": "stream",
     "text": [
      ".................................................\n",
      " Done\n"
     ]
    }
   ],
   "source": [
    "last_n_matches, new_columns = form_last_n_games(\n",
    "    played_matches, 5, lookup_x_cols, key_x_cols)"
   ]
  },
  {
   "cell_type": "code",
   "execution_count": 11,
   "metadata": {},
   "outputs": [
    {
     "name": "stdout",
     "output_type": "stream",
     "text": [
      "Index(['Team Code', 'Opponent Code', 'Location', 'Team Code_p_Location',\n",
      "       'Opponent Code_p_Location', 'Team Code_pp_Location',\n",
      "       'Opponent Code_pp_Location', 'Team Code_ppp_Location',\n",
      "       'Opponent Code_ppp_Location', 'Team Code_pppp_Location',\n",
      "       'Opponent Code_pppp_Location', 'Team Code_ppppp_Location',\n",
      "       'Opponent Code_ppppp_Location'],\n",
      "      dtype='object')\n",
      "Index(['Team Code_p_Team Score', 'Opponent Code_p_Team Score',\n",
      "       'Team Code_pp_Team Score', 'Opponent Code_pp_Team Score',\n",
      "       'Team Code_ppp_Team Score', 'Opponent Code_ppp_Team Score',\n",
      "       'Team Code_pppp_Team Score', 'Opponent Code_pppp_Team Score',\n",
      "       'Team Code_ppppp_Team Score', 'Opponent Code_ppppp_Team Score',\n",
      "       'Team Code_p_Opponent Score', 'Opponent Code_p_Opponent Score',\n",
      "       'Team Code_pp_Opponent Score', 'Opponent Code_pp_Opponent Score',\n",
      "       'Team Code_ppp_Opponent Score', 'Opponent Code_ppp_Opponent Score',\n",
      "       'Team Code_pppp_Opponent Score', 'Opponent Code_pppp_Opponent Score',\n",
      "       'Team Code_ppppp_Opponent Score', 'Opponent Code_ppppp_Opponent Score',\n",
      "       'Team Code_p_Pct Team Score', 'Opponent Code_p_Pct Team Score',\n",
      "       'Team Code_pp_Pct Team Score', 'Opponent Code_pp_Pct Team Score',\n",
      "       'Team Code_ppp_Pct Team Score', 'Opponent Code_ppp_Pct Team Score',\n",
      "       'Team Code_pppp_Pct Team Score', 'Opponent Code_pppp_Pct Team Score',\n",
      "       'Team Code_ppppp_Pct Team Score', 'Opponent Code_ppppp_Pct Team Score',\n",
      "       'Team Code_p_Pct Opponent Score', 'Opponent Code_p_Pct Opponent Score',\n",
      "       'Team Code_pp_Pct Opponent Score',\n",
      "       'Opponent Code_pp_Pct Opponent Score',\n",
      "       'Team Code_ppp_Pct Opponent Score',\n",
      "       'Opponent Code_ppp_Pct Opponent Score',\n",
      "       'Team Code_pppp_Pct Opponent Score',\n",
      "       'Opponent Code_pppp_Pct Opponent Score',\n",
      "       'Team Code_ppppp_Pct Opponent Score',\n",
      "       'Opponent Code_ppppp_Pct Opponent Score'],\n",
      "      dtype='object')\n"
     ]
    }
   ],
   "source": [
    "X = pd.concat([last_n_matches[x_cols], last_n_matches[new_columns]], axis=1)\n",
    "y = last_n_matches[y_cols]\n",
    "\n",
    "numeric_columns = X.columns[X.columns.str.contains('Score')]\n",
    "dummies_columns = X.columns[~X.columns.str.contains('Score')]\n",
    "print(dummies_columns)\n",
    "print(numeric_columns)"
   ]
  },
  {
   "cell_type": "code",
   "execution_count": 12,
   "metadata": {},
   "outputs": [
    {
     "data": {
      "text/html": [
       "<div>\n",
       "<style scoped>\n",
       "    .dataframe tbody tr th:only-of-type {\n",
       "        vertical-align: middle;\n",
       "    }\n",
       "\n",
       "    .dataframe tbody tr th {\n",
       "        vertical-align: top;\n",
       "    }\n",
       "\n",
       "    .dataframe thead th {\n",
       "        text-align: right;\n",
       "    }\n",
       "</style>\n",
       "<table border=\"1\" class=\"dataframe\">\n",
       "  <thead>\n",
       "    <tr style=\"text-align: right;\">\n",
       "      <th></th>\n",
       "      <th>Team Code</th>\n",
       "      <th>Opponent Code</th>\n",
       "      <th>Location</th>\n",
       "      <th>Team Code_p_Team Score</th>\n",
       "      <th>Opponent Code_p_Team Score</th>\n",
       "      <th>Team Code_pp_Team Score</th>\n",
       "      <th>Opponent Code_pp_Team Score</th>\n",
       "      <th>Team Code_ppp_Team Score</th>\n",
       "      <th>Opponent Code_ppp_Team Score</th>\n",
       "      <th>Team Code_pppp_Team Score</th>\n",
       "      <th>...</th>\n",
       "      <th>Team Code_p_Location</th>\n",
       "      <th>Opponent Code_p_Location</th>\n",
       "      <th>Team Code_pp_Location</th>\n",
       "      <th>Opponent Code_pp_Location</th>\n",
       "      <th>Team Code_ppp_Location</th>\n",
       "      <th>Opponent Code_ppp_Location</th>\n",
       "      <th>Team Code_pppp_Location</th>\n",
       "      <th>Opponent Code_pppp_Location</th>\n",
       "      <th>Team Code_ppppp_Location</th>\n",
       "      <th>Opponent Code_ppppp_Location</th>\n",
       "    </tr>\n",
       "  </thead>\n",
       "  <tbody>\n",
       "    <tr>\n",
       "      <th>12</th>\n",
       "      <td>buf</td>\n",
       "      <td>cle</td>\n",
       "      <td>Buffalo, NY</td>\n",
       "      <td>6.0</td>\n",
       "      <td>6.0</td>\n",
       "      <td>0.0</td>\n",
       "      <td>28.0</td>\n",
       "      <td>21.0</td>\n",
       "      <td>0.0</td>\n",
       "      <td>0.0</td>\n",
       "      <td>...</td>\n",
       "      <td>Buffalo, NY</td>\n",
       "      <td>Buffalo, NY</td>\n",
       "      <td>Buffalo, NY</td>\n",
       "      <td>Cleveland, OH</td>\n",
       "      <td>Buffalo, NY</td>\n",
       "      <td>Cleveland, OH</td>\n",
       "      <td>Buffalo, NY</td>\n",
       "      <td>Buffalo, NY</td>\n",
       "      <td>Buffalo, NY</td>\n",
       "      <td>Buffalo, NY</td>\n",
       "    </tr>\n",
       "    <tr>\n",
       "      <th>19</th>\n",
       "      <td>gb</td>\n",
       "      <td>chic</td>\n",
       "      <td>Chicago, IL</td>\n",
       "      <td>16.0</td>\n",
       "      <td>16.0</td>\n",
       "      <td>3.0</td>\n",
       "      <td>3.0</td>\n",
       "      <td>3.0</td>\n",
       "      <td>3.0</td>\n",
       "      <td>6.0</td>\n",
       "      <td>...</td>\n",
       "      <td>Chicago, IL</td>\n",
       "      <td>Chicago, IL</td>\n",
       "      <td>Chicago, IL</td>\n",
       "      <td>Chicago, IL</td>\n",
       "      <td>Chicago, IL</td>\n",
       "      <td>Chicago, IL</td>\n",
       "      <td>Green Bay, WI</td>\n",
       "      <td>Chicago, IL</td>\n",
       "      <td>Green Bay, WI</td>\n",
       "      <td>Chicago, IL</td>\n",
       "    </tr>\n",
       "    <tr>\n",
       "      <th>23</th>\n",
       "      <td>min</td>\n",
       "      <td>chic</td>\n",
       "      <td>Chicago, IL</td>\n",
       "      <td>3.0</td>\n",
       "      <td>3.0</td>\n",
       "      <td>6.0</td>\n",
       "      <td>3.0</td>\n",
       "      <td>7.0</td>\n",
       "      <td>16.0</td>\n",
       "      <td>0.0</td>\n",
       "      <td>...</td>\n",
       "      <td>Chicago, IL</td>\n",
       "      <td>Chicago, IL</td>\n",
       "      <td>Green Bay, WI</td>\n",
       "      <td>Chicago, IL</td>\n",
       "      <td>Green Bay, WI</td>\n",
       "      <td>Chicago, IL</td>\n",
       "      <td>Chicago, IL</td>\n",
       "      <td>Chicago, IL</td>\n",
       "      <td>Chicago, IL</td>\n",
       "      <td>Chicago, IL</td>\n",
       "    </tr>\n",
       "    <tr>\n",
       "      <th>25</th>\n",
       "      <td>chic</td>\n",
       "      <td>buf</td>\n",
       "      <td>Chicago, IL</td>\n",
       "      <td>0.0</td>\n",
       "      <td>7.0</td>\n",
       "      <td>3.0</td>\n",
       "      <td>0.0</td>\n",
       "      <td>3.0</td>\n",
       "      <td>10.0</td>\n",
       "      <td>16.0</td>\n",
       "      <td>...</td>\n",
       "      <td>Chicago, IL</td>\n",
       "      <td>Chicago, IL</td>\n",
       "      <td>Chicago, IL</td>\n",
       "      <td>Chicago, IL</td>\n",
       "      <td>Chicago, IL</td>\n",
       "      <td>Buffalo, NY</td>\n",
       "      <td>Chicago, IL</td>\n",
       "      <td>Buffalo, NY</td>\n",
       "      <td>Chicago, IL</td>\n",
       "      <td>Buffalo, NY</td>\n",
       "    </tr>\n",
       "    <tr>\n",
       "      <th>24</th>\n",
       "      <td>buf</td>\n",
       "      <td>chic</td>\n",
       "      <td>Chicago, IL</td>\n",
       "      <td>9.0</td>\n",
       "      <td>9.0</td>\n",
       "      <td>7.0</td>\n",
       "      <td>0.0</td>\n",
       "      <td>0.0</td>\n",
       "      <td>3.0</td>\n",
       "      <td>10.0</td>\n",
       "      <td>...</td>\n",
       "      <td>Chicago, IL</td>\n",
       "      <td>Chicago, IL</td>\n",
       "      <td>Chicago, IL</td>\n",
       "      <td>Chicago, IL</td>\n",
       "      <td>Chicago, IL</td>\n",
       "      <td>Chicago, IL</td>\n",
       "      <td>Buffalo, NY</td>\n",
       "      <td>Chicago, IL</td>\n",
       "      <td>Buffalo, NY</td>\n",
       "      <td>Chicago, IL</td>\n",
       "    </tr>\n",
       "  </tbody>\n",
       "</table>\n",
       "<p>5 rows × 53 columns</p>\n",
       "</div>"
      ],
      "text/plain": [
       "   Team Code Opponent Code     Location  Team Code_p_Team Score  \\\n",
       "12       buf           cle  Buffalo, NY                     6.0   \n",
       "19        gb          chic  Chicago, IL                    16.0   \n",
       "23       min          chic  Chicago, IL                     3.0   \n",
       "25      chic           buf  Chicago, IL                     0.0   \n",
       "24       buf          chic  Chicago, IL                     9.0   \n",
       "\n",
       "    Opponent Code_p_Team Score  Team Code_pp_Team Score  \\\n",
       "12                         6.0                      0.0   \n",
       "19                        16.0                      3.0   \n",
       "23                         3.0                      6.0   \n",
       "25                         7.0                      3.0   \n",
       "24                         9.0                      7.0   \n",
       "\n",
       "    Opponent Code_pp_Team Score  Team Code_ppp_Team Score  \\\n",
       "12                         28.0                      21.0   \n",
       "19                          3.0                       3.0   \n",
       "23                          3.0                       7.0   \n",
       "25                          0.0                       3.0   \n",
       "24                          0.0                       0.0   \n",
       "\n",
       "    Opponent Code_ppp_Team Score  Team Code_pppp_Team Score  ...  \\\n",
       "12                           0.0                        0.0  ...   \n",
       "19                           3.0                        6.0  ...   \n",
       "23                          16.0                        0.0  ...   \n",
       "25                          10.0                       16.0  ...   \n",
       "24                           3.0                       10.0  ...   \n",
       "\n",
       "    Team Code_p_Location  Opponent Code_p_Location  Team Code_pp_Location  \\\n",
       "12           Buffalo, NY               Buffalo, NY            Buffalo, NY   \n",
       "19           Chicago, IL               Chicago, IL            Chicago, IL   \n",
       "23           Chicago, IL               Chicago, IL          Green Bay, WI   \n",
       "25           Chicago, IL               Chicago, IL            Chicago, IL   \n",
       "24           Chicago, IL               Chicago, IL            Chicago, IL   \n",
       "\n",
       "    Opponent Code_pp_Location  Team Code_ppp_Location  \\\n",
       "12              Cleveland, OH             Buffalo, NY   \n",
       "19                Chicago, IL             Chicago, IL   \n",
       "23                Chicago, IL           Green Bay, WI   \n",
       "25                Chicago, IL             Chicago, IL   \n",
       "24                Chicago, IL             Chicago, IL   \n",
       "\n",
       "    Opponent Code_ppp_Location  Team Code_pppp_Location  \\\n",
       "12               Cleveland, OH              Buffalo, NY   \n",
       "19                 Chicago, IL            Green Bay, WI   \n",
       "23                 Chicago, IL              Chicago, IL   \n",
       "25                 Buffalo, NY              Chicago, IL   \n",
       "24                 Chicago, IL              Buffalo, NY   \n",
       "\n",
       "    Opponent Code_pppp_Location  Team Code_ppppp_Location  \\\n",
       "12                  Buffalo, NY               Buffalo, NY   \n",
       "19                  Chicago, IL             Green Bay, WI   \n",
       "23                  Chicago, IL               Chicago, IL   \n",
       "25                  Buffalo, NY               Chicago, IL   \n",
       "24                  Chicago, IL               Buffalo, NY   \n",
       "\n",
       "    Opponent Code_ppppp_Location  \n",
       "12                   Buffalo, NY  \n",
       "19                   Chicago, IL  \n",
       "23                   Chicago, IL  \n",
       "25                   Buffalo, NY  \n",
       "24                   Chicago, IL  \n",
       "\n",
       "[5 rows x 53 columns]"
      ]
     },
     "execution_count": 12,
     "metadata": {},
     "output_type": "execute_result"
    }
   ],
   "source": [
    "X.head()"
   ]
  },
  {
   "cell_type": "code",
   "execution_count": 13,
   "metadata": {},
   "outputs": [
    {
     "data": {
      "text/html": [
       "<div>\n",
       "<style scoped>\n",
       "    .dataframe tbody tr th:only-of-type {\n",
       "        vertical-align: middle;\n",
       "    }\n",
       "\n",
       "    .dataframe tbody tr th {\n",
       "        vertical-align: top;\n",
       "    }\n",
       "\n",
       "    .dataframe thead th {\n",
       "        text-align: right;\n",
       "    }\n",
       "</style>\n",
       "<table border=\"1\" class=\"dataframe\">\n",
       "  <thead>\n",
       "    <tr style=\"text-align: right;\">\n",
       "      <th></th>\n",
       "      <th>Team Code_p_Team Score</th>\n",
       "      <th>Opponent Code_p_Team Score</th>\n",
       "      <th>Team Code_pp_Team Score</th>\n",
       "      <th>Opponent Code_pp_Team Score</th>\n",
       "      <th>Team Code_ppp_Team Score</th>\n",
       "      <th>Opponent Code_ppp_Team Score</th>\n",
       "      <th>Team Code_pppp_Team Score</th>\n",
       "      <th>Opponent Code_pppp_Team Score</th>\n",
       "      <th>Team Code_ppppp_Team Score</th>\n",
       "      <th>Opponent Code_ppppp_Team Score</th>\n",
       "      <th>...</th>\n",
       "      <th>Team Code_p_Pct Opponent Score</th>\n",
       "      <th>Opponent Code_p_Pct Opponent Score</th>\n",
       "      <th>Team Code_pp_Pct Opponent Score</th>\n",
       "      <th>Opponent Code_pp_Pct Opponent Score</th>\n",
       "      <th>Team Code_ppp_Pct Opponent Score</th>\n",
       "      <th>Opponent Code_ppp_Pct Opponent Score</th>\n",
       "      <th>Team Code_pppp_Pct Opponent Score</th>\n",
       "      <th>Opponent Code_pppp_Pct Opponent Score</th>\n",
       "      <th>Team Code_ppppp_Pct Opponent Score</th>\n",
       "      <th>Opponent Code_ppppp_Pct Opponent Score</th>\n",
       "    </tr>\n",
       "  </thead>\n",
       "  <tbody>\n",
       "    <tr>\n",
       "      <th>count</th>\n",
       "      <td>25778.000000</td>\n",
       "      <td>25778.000000</td>\n",
       "      <td>25778.000000</td>\n",
       "      <td>25778.000000</td>\n",
       "      <td>25778.000000</td>\n",
       "      <td>25778.000000</td>\n",
       "      <td>25778.000000</td>\n",
       "      <td>25778.000000</td>\n",
       "      <td>25778.000000</td>\n",
       "      <td>25778.000000</td>\n",
       "      <td>...</td>\n",
       "      <td>25778.000000</td>\n",
       "      <td>25778.000000</td>\n",
       "      <td>25778.000000</td>\n",
       "      <td>25778.000000</td>\n",
       "      <td>25778.000000</td>\n",
       "      <td>25778.000000</td>\n",
       "      <td>25778.000000</td>\n",
       "      <td>25778.000000</td>\n",
       "      <td>25778.000000</td>\n",
       "      <td>25778.000000</td>\n",
       "    </tr>\n",
       "    <tr>\n",
       "      <th>mean</th>\n",
       "      <td>20.625107</td>\n",
       "      <td>20.520327</td>\n",
       "      <td>20.486810</td>\n",
       "      <td>20.644154</td>\n",
       "      <td>20.674645</td>\n",
       "      <td>20.441811</td>\n",
       "      <td>20.419195</td>\n",
       "      <td>20.685701</td>\n",
       "      <td>20.621732</td>\n",
       "      <td>20.473427</td>\n",
       "      <td>...</td>\n",
       "      <td>0.498744</td>\n",
       "      <td>0.500914</td>\n",
       "      <td>0.502107</td>\n",
       "      <td>0.497647</td>\n",
       "      <td>0.497084</td>\n",
       "      <td>0.502712</td>\n",
       "      <td>0.503303</td>\n",
       "      <td>0.496486</td>\n",
       "      <td>0.497757</td>\n",
       "      <td>0.501936</td>\n",
       "    </tr>\n",
       "    <tr>\n",
       "      <th>std</th>\n",
       "      <td>10.556309</td>\n",
       "      <td>10.545986</td>\n",
       "      <td>10.527367</td>\n",
       "      <td>10.582325</td>\n",
       "      <td>10.575580</td>\n",
       "      <td>10.530929</td>\n",
       "      <td>10.528366</td>\n",
       "      <td>10.576797</td>\n",
       "      <td>10.559674</td>\n",
       "      <td>10.552603</td>\n",
       "      <td>...</td>\n",
       "      <td>0.209992</td>\n",
       "      <td>0.209965</td>\n",
       "      <td>0.210238</td>\n",
       "      <td>0.210033</td>\n",
       "      <td>0.209733</td>\n",
       "      <td>0.210612</td>\n",
       "      <td>0.210089</td>\n",
       "      <td>0.210319</td>\n",
       "      <td>0.210526</td>\n",
       "      <td>0.210269</td>\n",
       "    </tr>\n",
       "    <tr>\n",
       "      <th>min</th>\n",
       "      <td>0.000000</td>\n",
       "      <td>0.000000</td>\n",
       "      <td>0.000000</td>\n",
       "      <td>0.000000</td>\n",
       "      <td>0.000000</td>\n",
       "      <td>0.000000</td>\n",
       "      <td>0.000000</td>\n",
       "      <td>0.000000</td>\n",
       "      <td>0.000000</td>\n",
       "      <td>0.000000</td>\n",
       "      <td>...</td>\n",
       "      <td>0.000000</td>\n",
       "      <td>0.000000</td>\n",
       "      <td>0.000000</td>\n",
       "      <td>0.000000</td>\n",
       "      <td>0.000000</td>\n",
       "      <td>0.000000</td>\n",
       "      <td>0.000000</td>\n",
       "      <td>0.000000</td>\n",
       "      <td>0.000000</td>\n",
       "      <td>0.000000</td>\n",
       "    </tr>\n",
       "    <tr>\n",
       "      <th>25%</th>\n",
       "      <td>13.000000</td>\n",
       "      <td>13.000000</td>\n",
       "      <td>13.000000</td>\n",
       "      <td>13.000000</td>\n",
       "      <td>13.000000</td>\n",
       "      <td>13.000000</td>\n",
       "      <td>13.000000</td>\n",
       "      <td>13.000000</td>\n",
       "      <td>13.000000</td>\n",
       "      <td>13.000000</td>\n",
       "      <td>...</td>\n",
       "      <td>0.370370</td>\n",
       "      <td>0.375000</td>\n",
       "      <td>0.377049</td>\n",
       "      <td>0.370370</td>\n",
       "      <td>0.370370</td>\n",
       "      <td>0.377049</td>\n",
       "      <td>0.375000</td>\n",
       "      <td>0.370370</td>\n",
       "      <td>0.370370</td>\n",
       "      <td>0.375000</td>\n",
       "    </tr>\n",
       "    <tr>\n",
       "      <th>50%</th>\n",
       "      <td>20.000000</td>\n",
       "      <td>20.000000</td>\n",
       "      <td>20.000000</td>\n",
       "      <td>20.000000</td>\n",
       "      <td>20.000000</td>\n",
       "      <td>20.000000</td>\n",
       "      <td>20.000000</td>\n",
       "      <td>20.000000</td>\n",
       "      <td>20.000000</td>\n",
       "      <td>20.000000</td>\n",
       "      <td>...</td>\n",
       "      <td>0.500000</td>\n",
       "      <td>0.500000</td>\n",
       "      <td>0.500000</td>\n",
       "      <td>0.500000</td>\n",
       "      <td>0.500000</td>\n",
       "      <td>0.500000</td>\n",
       "      <td>0.500000</td>\n",
       "      <td>0.500000</td>\n",
       "      <td>0.500000</td>\n",
       "      <td>0.500000</td>\n",
       "    </tr>\n",
       "    <tr>\n",
       "      <th>75%</th>\n",
       "      <td>27.000000</td>\n",
       "      <td>27.000000</td>\n",
       "      <td>27.000000</td>\n",
       "      <td>27.000000</td>\n",
       "      <td>27.000000</td>\n",
       "      <td>27.000000</td>\n",
       "      <td>27.000000</td>\n",
       "      <td>27.000000</td>\n",
       "      <td>27.000000</td>\n",
       "      <td>27.000000</td>\n",
       "      <td>...</td>\n",
       "      <td>0.625000</td>\n",
       "      <td>0.629630</td>\n",
       "      <td>0.629630</td>\n",
       "      <td>0.624632</td>\n",
       "      <td>0.625000</td>\n",
       "      <td>0.629630</td>\n",
       "      <td>0.629630</td>\n",
       "      <td>0.625000</td>\n",
       "      <td>0.625000</td>\n",
       "      <td>0.629630</td>\n",
       "    </tr>\n",
       "    <tr>\n",
       "      <th>max</th>\n",
       "      <td>53.000000</td>\n",
       "      <td>53.000000</td>\n",
       "      <td>53.000000</td>\n",
       "      <td>53.000000</td>\n",
       "      <td>53.000000</td>\n",
       "      <td>53.000000</td>\n",
       "      <td>53.000000</td>\n",
       "      <td>53.000000</td>\n",
       "      <td>53.000000</td>\n",
       "      <td>53.000000</td>\n",
       "      <td>...</td>\n",
       "      <td>1.000000</td>\n",
       "      <td>1.000000</td>\n",
       "      <td>1.000000</td>\n",
       "      <td>1.000000</td>\n",
       "      <td>1.000000</td>\n",
       "      <td>1.000000</td>\n",
       "      <td>1.000000</td>\n",
       "      <td>1.000000</td>\n",
       "      <td>1.000000</td>\n",
       "      <td>1.000000</td>\n",
       "    </tr>\n",
       "  </tbody>\n",
       "</table>\n",
       "<p>8 rows × 40 columns</p>\n",
       "</div>"
      ],
      "text/plain": [
       "       Team Code_p_Team Score  Opponent Code_p_Team Score  \\\n",
       "count            25778.000000                25778.000000   \n",
       "mean                20.625107                   20.520327   \n",
       "std                 10.556309                   10.545986   \n",
       "min                  0.000000                    0.000000   \n",
       "25%                 13.000000                   13.000000   \n",
       "50%                 20.000000                   20.000000   \n",
       "75%                 27.000000                   27.000000   \n",
       "max                 53.000000                   53.000000   \n",
       "\n",
       "       Team Code_pp_Team Score  Opponent Code_pp_Team Score  \\\n",
       "count             25778.000000                 25778.000000   \n",
       "mean                 20.486810                    20.644154   \n",
       "std                  10.527367                    10.582325   \n",
       "min                   0.000000                     0.000000   \n",
       "25%                  13.000000                    13.000000   \n",
       "50%                  20.000000                    20.000000   \n",
       "75%                  27.000000                    27.000000   \n",
       "max                  53.000000                    53.000000   \n",
       "\n",
       "       Team Code_ppp_Team Score  Opponent Code_ppp_Team Score  \\\n",
       "count              25778.000000                  25778.000000   \n",
       "mean                  20.674645                     20.441811   \n",
       "std                   10.575580                     10.530929   \n",
       "min                    0.000000                      0.000000   \n",
       "25%                   13.000000                     13.000000   \n",
       "50%                   20.000000                     20.000000   \n",
       "75%                   27.000000                     27.000000   \n",
       "max                   53.000000                     53.000000   \n",
       "\n",
       "       Team Code_pppp_Team Score  Opponent Code_pppp_Team Score  \\\n",
       "count               25778.000000                   25778.000000   \n",
       "mean                   20.419195                      20.685701   \n",
       "std                    10.528366                      10.576797   \n",
       "min                     0.000000                       0.000000   \n",
       "25%                    13.000000                      13.000000   \n",
       "50%                    20.000000                      20.000000   \n",
       "75%                    27.000000                      27.000000   \n",
       "max                    53.000000                      53.000000   \n",
       "\n",
       "       Team Code_ppppp_Team Score  Opponent Code_ppppp_Team Score  ...  \\\n",
       "count                25778.000000                    25778.000000  ...   \n",
       "mean                    20.621732                       20.473427  ...   \n",
       "std                     10.559674                       10.552603  ...   \n",
       "min                      0.000000                        0.000000  ...   \n",
       "25%                     13.000000                       13.000000  ...   \n",
       "50%                     20.000000                       20.000000  ...   \n",
       "75%                     27.000000                       27.000000  ...   \n",
       "max                     53.000000                       53.000000  ...   \n",
       "\n",
       "       Team Code_p_Pct Opponent Score  Opponent Code_p_Pct Opponent Score  \\\n",
       "count                    25778.000000                        25778.000000   \n",
       "mean                         0.498744                            0.500914   \n",
       "std                          0.209992                            0.209965   \n",
       "min                          0.000000                            0.000000   \n",
       "25%                          0.370370                            0.375000   \n",
       "50%                          0.500000                            0.500000   \n",
       "75%                          0.625000                            0.629630   \n",
       "max                          1.000000                            1.000000   \n",
       "\n",
       "       Team Code_pp_Pct Opponent Score  Opponent Code_pp_Pct Opponent Score  \\\n",
       "count                     25778.000000                         25778.000000   \n",
       "mean                          0.502107                             0.497647   \n",
       "std                           0.210238                             0.210033   \n",
       "min                           0.000000                             0.000000   \n",
       "25%                           0.377049                             0.370370   \n",
       "50%                           0.500000                             0.500000   \n",
       "75%                           0.629630                             0.624632   \n",
       "max                           1.000000                             1.000000   \n",
       "\n",
       "       Team Code_ppp_Pct Opponent Score  Opponent Code_ppp_Pct Opponent Score  \\\n",
       "count                      25778.000000                          25778.000000   \n",
       "mean                           0.497084                              0.502712   \n",
       "std                            0.209733                              0.210612   \n",
       "min                            0.000000                              0.000000   \n",
       "25%                            0.370370                              0.377049   \n",
       "50%                            0.500000                              0.500000   \n",
       "75%                            0.625000                              0.629630   \n",
       "max                            1.000000                              1.000000   \n",
       "\n",
       "       Team Code_pppp_Pct Opponent Score  \\\n",
       "count                       25778.000000   \n",
       "mean                            0.503303   \n",
       "std                             0.210089   \n",
       "min                             0.000000   \n",
       "25%                             0.375000   \n",
       "50%                             0.500000   \n",
       "75%                             0.629630   \n",
       "max                             1.000000   \n",
       "\n",
       "       Opponent Code_pppp_Pct Opponent Score  \\\n",
       "count                           25778.000000   \n",
       "mean                                0.496486   \n",
       "std                                 0.210319   \n",
       "min                                 0.000000   \n",
       "25%                                 0.370370   \n",
       "50%                                 0.500000   \n",
       "75%                                 0.625000   \n",
       "max                                 1.000000   \n",
       "\n",
       "       Team Code_ppppp_Pct Opponent Score  \\\n",
       "count                        25778.000000   \n",
       "mean                             0.497757   \n",
       "std                              0.210526   \n",
       "min                              0.000000   \n",
       "25%                              0.370370   \n",
       "50%                              0.500000   \n",
       "75%                              0.625000   \n",
       "max                              1.000000   \n",
       "\n",
       "       Opponent Code_ppppp_Pct Opponent Score  \n",
       "count                            25778.000000  \n",
       "mean                                 0.501936  \n",
       "std                                  0.210269  \n",
       "min                                  0.000000  \n",
       "25%                                  0.375000  \n",
       "50%                                  0.500000  \n",
       "75%                                  0.629630  \n",
       "max                                  1.000000  \n",
       "\n",
       "[8 rows x 40 columns]"
      ]
     },
     "execution_count": 13,
     "metadata": {},
     "output_type": "execute_result"
    }
   ],
   "source": [
    "X.describe()"
   ]
  },
  {
   "cell_type": "code",
   "execution_count": 14,
   "metadata": {},
   "outputs": [
    {
     "data": {
      "text/html": [
       "<div>\n",
       "<style scoped>\n",
       "    .dataframe tbody tr th:only-of-type {\n",
       "        vertical-align: middle;\n",
       "    }\n",
       "\n",
       "    .dataframe tbody tr th {\n",
       "        vertical-align: top;\n",
       "    }\n",
       "\n",
       "    .dataframe thead th {\n",
       "        text-align: right;\n",
       "    }\n",
       "</style>\n",
       "<table border=\"1\" class=\"dataframe\">\n",
       "  <thead>\n",
       "    <tr style=\"text-align: right;\">\n",
       "      <th></th>\n",
       "      <th>Class</th>\n",
       "    </tr>\n",
       "  </thead>\n",
       "  <tbody>\n",
       "    <tr>\n",
       "      <th>12</th>\n",
       "      <td>1</td>\n",
       "    </tr>\n",
       "    <tr>\n",
       "      <th>19</th>\n",
       "      <td>0</td>\n",
       "    </tr>\n",
       "    <tr>\n",
       "      <th>23</th>\n",
       "      <td>0</td>\n",
       "    </tr>\n",
       "    <tr>\n",
       "      <th>25</th>\n",
       "      <td>1</td>\n",
       "    </tr>\n",
       "    <tr>\n",
       "      <th>24</th>\n",
       "      <td>0</td>\n",
       "    </tr>\n",
       "  </tbody>\n",
       "</table>\n",
       "</div>"
      ],
      "text/plain": [
       "    Class\n",
       "12      1\n",
       "19      0\n",
       "23      0\n",
       "25      1\n",
       "24      0"
      ]
     },
     "execution_count": 14,
     "metadata": {},
     "output_type": "execute_result"
    }
   ],
   "source": [
    "y.head()"
   ]
  },
  {
   "cell_type": "code",
   "execution_count": 15,
   "metadata": {},
   "outputs": [
    {
     "name": "stdout",
     "output_type": "stream",
     "text": [
      "(15466, 53) (15466, 1)\n",
      "(5156, 53) (5156, 1)\n",
      "(5156, 53) (5156, 1)\n"
     ]
    }
   ],
   "source": [
    "X_train, X_val, X_test, y_train, y_val, y_test = make_train_val_test(\n",
    "    X, y, test_pct=0.2, val_pct=0.2, random_state=0\n",
    ")\n",
    "\n",
    "print(X_train.shape, y_train.shape)\n",
    "print(X_val.shape, y_val.shape)\n",
    "print(X_test.shape, y_test.shape)\n"
   ]
  },
  {
   "cell_type": "code",
   "execution_count": 17,
   "metadata": {},
   "outputs": [
    {
     "name": "stdout",
     "output_type": "stream",
     "text": [
      "Evaluating linear kernel for C=0.01\n",
      "Evaluating linear kernel for C=0.22360679774997896\n"
     ]
    },
    {
     "name": "stderr",
     "output_type": "stream",
     "text": [
      "C:\\Users\\Eric\\anaconda3\\envs\\machine_learning\\lib\\site-packages\\sklearn\\svm\\_base.py:289: ConvergenceWarning: Solver terminated early (max_iter=10000).  Consider pre-processing your data with StandardScaler or MinMaxScaler.\n",
      "  ConvergenceWarning,\n"
     ]
    },
    {
     "name": "stdout",
     "output_type": "stream",
     "text": [
      "Evaluating linear kernel for C=5.000000000000001\n"
     ]
    },
    {
     "name": "stderr",
     "output_type": "stream",
     "text": [
      "C:\\Users\\Eric\\anaconda3\\envs\\machine_learning\\lib\\site-packages\\sklearn\\svm\\_base.py:289: ConvergenceWarning: Solver terminated early (max_iter=10000).  Consider pre-processing your data with StandardScaler or MinMaxScaler.\n",
      "  ConvergenceWarning,\n"
     ]
    },
    {
     "data": {
      "image/png": "[encoded data removed]",
      "text/plain": [
       "<Figure size 720x360 with 1 Axes>"
      ]
     },
     "metadata": {
      "needs_background": "light"
     },
     "output_type": "display_data"
    },
    {
     "name": "stdout",
     "output_type": "stream",
     "text": [
      "Evaluating poly kernel for C=0.01\n",
      "Evaluating poly kernel for C=0.22360679774997896\n",
      "Evaluating poly kernel for C=5.000000000000001\n"
     ]
    },
    {
     "name": "stderr",
     "output_type": "stream",
     "text": [
      "C:\\Users\\Eric\\anaconda3\\envs\\machine_learning\\lib\\site-packages\\sklearn\\svm\\_base.py:289: ConvergenceWarning: Solver terminated early (max_iter=10000).  Consider pre-processing your data with StandardScaler or MinMaxScaler.\n",
      "  ConvergenceWarning,\n"
     ]
    },
    {
     "data": {
      "image/png": "[encoded data removed]",
      "text/plain": [
       "<Figure size 720x360 with 1 Axes>"
      ]
     },
     "metadata": {
      "needs_background": "light"
     },
     "output_type": "display_data"
    },
    {
     "name": "stdout",
     "output_type": "stream",
     "text": [
      "Evaluating rbf kernel for C=0.01\n",
      "Evaluating rbf kernel for C=0.22360679774997896\n",
      "Evaluating rbf kernel for C=5.000000000000001\n"
     ]
    }
   ],
   "source": [
    "best_model = None\n",
    "for kernel in ['linear', 'poly', 'rbf', 'sigmoid']:\n",
    "    train_scores = []\n",
    "    val_scores = []\n",
    "    val_space = np.geomspace(start=0.01, stop=5, num=3)\n",
    "    for C in val_space:\n",
    "        print(f\"Evaluating {kernel} kernel for C={C}\")\n",
    "        model = make_pipeline(dataset_transformer(), svm.SVC(\n",
    "            C=C, max_iter=10_000, kernel=kernel))\n",
    "\n",
    "        model.fit(X_train, y_train.values.ravel())\n",
    "        train_scores.append(model.score(X_train, y_train.values.ravel()))\n",
    "        val_scores.append(model.score(X_val, y_val.values.ravel()))\n",
    "\n",
    "        if best_model is None or val_scores[-1] == np.max(val_scores):\n",
    "            best_model = model\n",
    "\n",
    "    plt.title(f'Best C for {kernel}: {val_space[np.argmax(val_scores)]}')\n",
    "    plt.plot(val_space, train_scores, label='Train score')\n",
    "    plt.plot(val_space, val_scores, label='Val score')\n",
    "    # plt.ylim(0, 1.1)\n",
    "    plt.xscale('log')\n",
    "    plt.legend()\n",
    "    plt.show()\n"
   ]
  },
  {
   "cell_type": "code",
   "execution_count": null,
   "metadata": {},
   "outputs": [],
   "source": [
    "y_pred = best_model.predict(X_test)\n",
    "precision, recall, fbeta_score, _ = precision_recall_fscore_support(y_test, y_pred, average='binary')"
   ]
  },
  {
   "cell_type": "code",
   "execution_count": null,
   "metadata": {},
   "outputs": [
    {
     "name": "stdout",
     "output_type": "stream",
     "text": [
      "........................................................................................................................................................................"
     ]
    }
   ],
   "source": [
    "best_config = []\n",
    "best_score = 0\n",
    "best_fit_config = []\n",
    "best_fit_score = 0\n",
    "for estimator in [DecisionTreeClassifier(max_leaf_nodes=3), DecisionTreeClassifier(max_leaf_nodes=5), DecisionTreeClassifier(max_leaf_nodes=10), DecisionTreeClassifier(max_leaf_nodes=50), DecisionTreeClassifier()]:\n",
    "  for nestimators in [10, 31, 62, 93, 124, 200, 300, 400, 500]:\n",
    "    for nsamples in [0.01, 0.02, 0.05, 0.1, 0.2, 0.4, 0.6]:\n",
    "      clf = make_pipeline(dataset_transformer(), BaggingClassifier(base_estimator=estimator, n_estimators=nestimators, max_samples=nsamples))\n",
    "      clf.fit(X_train, y_train.values.ravel())\n",
    "      \n",
    "      score = clf.score(X_val, y_val.values.ravel())\n",
    "      if(score > best_score):\n",
    "        best_config = [estimator, nestimators, nsamples]\n",
    "        best_score = score\n",
    "      \n",
    "      score = clf.score(X_train, y_train)\n",
    "      if(score > best_fit_score):\n",
    "        best_fit_config = [estimator, nestimators, nsamples]\n",
    "        best_fit_score = score\n",
    "        \n",
    "      print(end='.')"
   ]
  },
  {
   "cell_type": "code",
   "execution_count": null,
   "metadata": {},
   "outputs": [
    {
     "name": "stdout",
     "output_type": "stream",
     "text": [
      "Best validation: 0.7647401086113266, [DecisionTreeClassifier(max_leaf_nodes=50), 300, 100]\n",
      "Best training: 0.7656795551532394, [DecisionTreeClassifier(max_leaf_nodes=50), 300, 100]\n"
     ]
    }
   ],
   "source": [
    "print(f\"Best validation: {best_score}, {best_config}\")\n",
    "print(f\"Best training: {best_fit_score}, {best_fit_config}\")"
   ]
  },
  {
   "cell_type": "code",
   "execution_count": null,
   "metadata": {},
   "outputs": [
    {
     "data": {
      "text/plain": [
       "0.7531031807602793"
      ]
     },
     "execution_count": 19,
     "metadata": {},
     "output_type": "execute_result"
    }
   ],
   "source": [
    "clf = make_pipeline(dataset_transformer(), DecisionTreeClassifier())\n",
    "clf.fit(X_train, y_train)\n",
    "clf.score(X_val, y_val)"
   ]
  },
  {
   "cell_type": "code",
   "execution_count": null,
   "metadata": {},
   "outputs": [
    {
     "data": {
      "text/plain": [
       "(array([[2526.,    0.,    0.,    0.,    0.,    0.,    0.,    0.,    0.,\n",
       "         2630.],\n",
       "        [2630.,    0.,    0.,    0.,    0.,    0.,    0.,    0.,    0.,\n",
       "         2526.]]),\n",
       " array([0. , 0.1, 0.2, 0.3, 0.4, 0.5, 0.6, 0.7, 0.8, 0.9, 1. ]),\n",
       " <a list of 2 BarContainer objects>)"
      ]
     },
     "execution_count": 20,
     "metadata": {},
     "output_type": "execute_result"
    },
    {
     "data": {
      "image/png": "[encoded data removed]",
      "text/plain": [
       "<Figure size 720x360 with 1 Axes>"
      ]
     },
     "metadata": {
      "needs_background": "light"
     },
     "output_type": "display_data"
    }
   ],
   "source": [
    "plt.hist(clf.predict_proba(X_test))"
   ]
  },
  {
   "cell_type": "code",
   "execution_count": null,
   "metadata": {},
   "outputs": [],
   "source": [
    "X_cv = pd.concat([X_train, X_val])\n",
    "y_cv = pd.concat([y_train, y_val])"
   ]
  },
  {
   "cell_type": "code",
   "execution_count": null,
   "metadata": {},
   "outputs": [
    {
     "name": "stdout",
     "output_type": "stream",
     "text": [
      "..........................................................................."
     ]
    }
   ],
   "source": [
    "Cs = np.geomspace(0.01, 15, num=75)\n",
    "scores = []\n",
    "for c in Cs:\n",
    "    model = make_pipeline(dataset_transformer(), svm.LinearSVC(dual=False, C=c, max_iter=100_000))\n",
    "    scores.append(cross_val_score(\n",
    "        model, X_cv, y_cv.values.ravel(), cv=5))\n",
    "    print(end='.')\n"
   ]
  },
  {
   "cell_type": "code",
   "execution_count": null,
   "metadata": {},
   "outputs": [
    {
     "data": {
      "image/png": "[encoded data removed]",
      "text/plain": [
       "<Figure size 720x360 with 1 Axes>"
      ]
     },
     "metadata": {
      "needs_background": "light"
     },
     "output_type": "display_data"
    }
   ],
   "source": [
    "x = Cs\n",
    "plt.errorbar(x, np.mean(scores,axis=1), np.std(scores,axis=1), label='Mean & Std Dev. of CV Score', linewidth=1)\n",
    "plt.plot(x, np.sort(scores, axis=1), linewidth=0.2)\n",
    "plt.legend()\n",
    "plt.xscale('log')\n",
    "plt.xlabel('C')\n",
    "plt.ylabel('Accuracy')\n",
    "plt.title('Cross-Validation Score')\n",
    "plt.show()"
   ]
  },
  {
   "cell_type": "code",
   "execution_count": null,
   "metadata": {},
   "outputs": [
    {
     "name": "stdout",
     "output_type": "stream",
     "text": [
      "Maximum mean: 0.7234983158451636\n",
      "Corresponding std deviation: 0.009122151868515147\n",
      "C: 0.013451182233396298\n"
     ]
    }
   ],
   "source": [
    "print('Maximum mean:', np.max(np.mean(scores,axis=1)))\n",
    "print('Corresponding std deviation:', np.std(scores,axis=1)[np.argmax(np.mean(scores,axis=1))])\n",
    "print('C:',Cs[np.argmax(np.mean(scores,axis=1))])"
   ]
  },
  {
   "cell_type": "code",
   "execution_count": null,
   "metadata": {},
   "outputs": [
    {
     "name": "stdout",
     "output_type": "stream",
     "text": [
      "Minimum std deviation: 0.007320006427824609\n",
      "Corresponding mean: 0.7204435705258208\n",
      "C: 2.078204189865019\n"
     ]
    }
   ],
   "source": [
    "print('Minimum std deviation:', np.min(np.std(scores,axis=1)))\n",
    "print('Corresponding mean:', np.mean(scores,axis=1)[np.argmin(np.std(scores,axis=1))])\n",
    "print('C:',Cs[np.argmin(np.std(scores,axis=1))])"
   ]
  },
  {
   "cell_type": "code",
   "execution_count": null,
   "metadata": {},
   "outputs": [],
   "source": [
    "best_mean_cs = np.flip(np.argsort(np.mean(scores,axis=1)))\n",
    "best_std_cs = np.argsort(np.std(scores,axis=1))"
   ]
  },
  {
   "cell_type": "code",
   "execution_count": null,
   "metadata": {},
   "outputs": [
    {
     "name": "stdout",
     "output_type": "stream",
     "text": [
      "...................."
     ]
    }
   ],
   "source": [
    "# Do some random perturbation of the Cs\n",
    "scores = []\n",
    "\n",
    "Cs_to_examine = np.unique(np.concatenate(\n",
    "    (Cs[best_mean_cs[:5]], Cs[best_std_cs[:5]])))\n",
    "Cs_to_examine = np.unique(np.concatenate([Cs_to_examine, np.abs(Cs_to_examine + np.random.normal(scale=0.2,size=len(Cs_to_examine)))]))\n",
    "\n",
    "for c in Cs_to_examine:\n",
    "    model = make_pipeline(dataset_transformer(), svm.LinearSVC(dual=False, C=c, max_iter=100_000))\n",
    "    \n",
    "    scores.append(cross_val_score(\n",
    "        model, X_cv, y_cv.values.ravel(), cv=100, n_jobs=-1))\n",
    "    \n",
    "    print(end='.')"
   ]
  },
  {
   "cell_type": "code",
   "execution_count": null,
   "metadata": {},
   "outputs": [
    {
     "data": {
      "image/png": "[encoded data removed]",
      "text/plain": [
       "<Figure size 720x360 with 1 Axes>"
      ]
     },
     "metadata": {
      "needs_background": "light"
     },
     "output_type": "display_data"
    }
   ],
   "source": [
    "x = Cs_to_examine\n",
    "quantiles = [0, 0.1, 0.2, 0.3, 0.4, 0.6, 0.8, 1.0]\n",
    "plt.errorbar(x, np.mean(scores,axis=1), np.std(scores,axis=1), label='Mean & Std Dev. of CV Score', linewidth=1)\n",
    "plt.plot(x, np.quantile(scores, quantiles, axis=1).T, linewidth=0.2)\n",
    "plt.legend()\n",
    "plt.xscale('log')\n",
    "plt.xlabel('C')\n",
    "plt.ylabel('Accuracy')\n",
    "plt.title('Cross-Validation Score')\n",
    "plt.show()"
   ]
  },
  {
   "cell_type": "code",
   "execution_count": null,
   "metadata": {},
   "outputs": [
    {
     "name": "stdout",
     "output_type": "stream",
     "text": [
      "Best C=0.04158646420719468 with mean=0.7260065193940245, std=0.031382126242176366\n"
     ]
    }
   ],
   "source": [
    "best_mean_idx = np.argmax(np.mean(scores,axis=1))\n",
    "\n",
    "print(f'Best C={Cs_to_examine[best_mean_idx]} with mean={np.mean(scores,axis=1)[best_mean_idx]}, std={np.std(scores,axis=1)[best_mean_idx]}')"
   ]
  },
  {
   "cell_type": "code",
   "execution_count": null,
   "metadata": {},
   "outputs": [
    {
     "data": {
      "text/plain": [
       "0.730411171450737"
      ]
     },
     "execution_count": 30,
     "metadata": {},
     "output_type": "execute_result"
    }
   ],
   "source": [
    "# Train the best model.\n",
    "\n",
    "model = make_pipeline(dataset_transformer(),\n",
    "    svm.LinearSVC(dual=False, C=Cs_to_examine[best_mean_idx], max_iter=100_000))\n",
    "model.fit(X_cv, y_cv.values.ravel())\n",
    "model.score(X_test, y_test.values.ravel())"
   ]
  },
  {
   "cell_type": "code",
   "execution_count": null,
   "metadata": {},
   "outputs": [
    {
     "data": {
      "image/png": "[encoded data removed]",
      "text/plain": [
       "<Figure size 720x360 with 1 Axes>"
      ]
     },
     "metadata": {
      "needs_background": "light"
     },
     "output_type": "display_data"
    }
   ],
   "source": [
    "coefs = model[1].coef_[0]\n",
    "plt.scatter(x=np.arange(len(coefs)),y=coefs)\n",
    "plt.show()"
   ]
  },
  {
   "cell_type": "code",
   "execution_count": null,
   "metadata": {},
   "outputs": [],
   "source": [
    "model.fit(X, y.values.ravel())\n",
    "confidences = model.decision_function(X)"
   ]
  },
  {
   "cell_type": "code",
   "execution_count": null,
   "metadata": {},
   "outputs": [
    {
     "data": {
      "image/png": "[encoded data removed]",
      "text/plain": [
       "<Figure size 720x360 with 1 Axes>"
      ]
     },
     "metadata": {
      "needs_background": "light"
     },
     "output_type": "display_data"
    }
   ],
   "source": [
    "plt.hist(confidences, bins=25)\n",
    "plt.show()"
   ]
  },
  {
   "cell_type": "code",
   "execution_count": null,
   "metadata": {},
   "outputs": [
    {
     "data": {
      "image/png": "[encoded data removed]",
      "text/plain": [
       "<Figure size 720x360 with 1 Axes>"
      ]
     },
     "metadata": {
      "needs_background": "light"
     },
     "output_type": "display_data"
    }
   ],
   "source": [
    "plt.hist(confidences * (2 * y.to_numpy().ravel() - 1), bins=25)\n",
    "plt.show()"
   ]
  },
  {
   "cell_type": "code",
   "execution_count": null,
   "metadata": {},
   "outputs": [
    {
     "data": {
      "text/plain": [
       "-1.6749158517683027"
      ]
     },
     "execution_count": 35,
     "metadata": {},
     "output_type": "execute_result"
    }
   ],
   "source": [
    "np.min(confidences * (2 * y.to_numpy().ravel() - 1))"
   ]
  },
  {
   "cell_type": "code",
   "execution_count": null,
   "metadata": {},
   "outputs": [],
   "source": []
  }
 ],
 "metadata": {
  "interpreter": {
   "hash": "43ec02794a5c6caca2187426f9bfbca63869e8dd5c007b90979db8c1bb48c23c"
  },
  "kernelspec": {
   "display_name": "Python 3.7.11 64-bit ('machine_learning': conda)",
   "language": "python",
   "name": "python3"
  },
  "language_info": {
   "codemirror_mode": {
    "name": "ipython",
    "version": 3
   },
   "file_extension": ".py",
   "mimetype": "text/x-python",
   "name": "python",
   "nbconvert_exporter": "python",
   "pygments_lexer": "ipython3",
   "version": "3.7.11"
  },
  "orig_nbformat": 4
 },
 "nbformat": 4,
 "nbformat_minor": 2
}

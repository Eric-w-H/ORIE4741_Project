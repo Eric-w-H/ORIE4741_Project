{
 "cells": [
  {
   "cell_type": "code",
   "execution_count": 8,
   "metadata": {},
   "outputs": [],
   "source": [
    "import os\n",
    "import numpy as np\n",
    "import pandas as pd\n",
    "from matplotlib import pyplot as plt\n",
    "import matplotlib as mpl\n",
    "\n",
    "width, height = 10, 5\n",
    "mpl.rcParams['figure.figsize'] = [width, height]"
   ]
  },
  {
   "cell_type": "code",
   "execution_count": 26,
   "metadata": {},
   "outputs": [],
   "source": [
    "from sklearn import svm\n",
    "from sklearn import pipeline\n",
    "from sklearn import preprocessing\n",
    "from sklearn import model_selection\n",
    "\n",
    "from utility_fns import form_last_n_games\n"
   ]
  },
  {
   "cell_type": "code",
   "execution_count": 10,
   "metadata": {},
   "outputs": [],
   "source": [
    "\n",
    "basedir = os.path.dirname(os.getcwd())\n",
    "data = os.path.join(basedir, 'data','derived','cleaned_matches.csv')\n",
    "cleaned_matches = pd.read_csv(data)"
   ]
  },
  {
   "cell_type": "code",
   "execution_count": 11,
   "metadata": {},
   "outputs": [
    {
     "name": "stdout",
     "output_type": "stream",
     "text": [
      "<class 'pandas.core.frame.DataFrame'>\n",
      "Int64Index: 26122 entries, 0 to 26121\n",
      "Data columns (total 19 columns):\n",
      " #   Column          Non-Null Count  Dtype         \n",
      "---  ------          --------------  -----         \n",
      " 0   Day             26122 non-null  object        \n",
      " 1   Date            26122 non-null  datetime64[ns]\n",
      " 2   Home/Away       26122 non-null  object        \n",
      " 3   Opponent        26122 non-null  object        \n",
      " 4   Score           26122 non-null  object        \n",
      " 5   W/L/T           26122 non-null  object        \n",
      " 6   Overtime        948 non-null    object        \n",
      " 7   Location        26122 non-null  object        \n",
      " 8   Venue           26122 non-null  object        \n",
      " 9   Attendance      26098 non-null  float64       \n",
      " 10  Notes           1061 non-null   object        \n",
      " 11  Opponent Code   26122 non-null  object        \n",
      " 12  Team            26122 non-null  object        \n",
      " 13  Team Code       26122 non-null  object        \n",
      " 14  Team Score      25942 non-null  float64       \n",
      " 15  Opponent Score  25942 non-null  float64       \n",
      " 16  Score Sum       25942 non-null  float64       \n",
      " 17  Score Diff      25942 non-null  float64       \n",
      " 18  Class           26122 non-null  int64         \n",
      "dtypes: datetime64[ns](1), float64(5), int64(1), object(12)\n",
      "memory usage: 4.0+ MB\n"
     ]
    }
   ],
   "source": [
    "cleaned_matches.Date = pd.to_datetime(cleaned_matches.Date)\n",
    "cleaned_matches.sort_values(by='Date',inplace=True,ascending=True)\n",
    "cleaned_matches.info()"
   ]
  },
  {
   "cell_type": "markdown",
   "metadata": {},
   "source": [
    "## Train to classify based on the last-n-games a team played"
   ]
  },
  {
   "cell_type": "code",
   "execution_count": 27,
   "metadata": {},
   "outputs": [
    {
     "name": "stdout",
     "output_type": "stream",
     "text": [
      "................................................."
     ]
    },
    {
     "data": {
      "text/html": [
       "<div>\n",
       "<style scoped>\n",
       "    .dataframe tbody tr th:only-of-type {\n",
       "        vertical-align: middle;\n",
       "    }\n",
       "\n",
       "    .dataframe tbody tr th {\n",
       "        vertical-align: top;\n",
       "    }\n",
       "\n",
       "    .dataframe thead th {\n",
       "        text-align: right;\n",
       "    }\n",
       "</style>\n",
       "<table border=\"1\" class=\"dataframe\">\n",
       "  <thead>\n",
       "    <tr style=\"text-align: right;\">\n",
       "      <th></th>\n",
       "      <th>Day</th>\n",
       "      <th>Date</th>\n",
       "      <th>Home/Away</th>\n",
       "      <th>Opponent</th>\n",
       "      <th>Score</th>\n",
       "      <th>W/L/T</th>\n",
       "      <th>Overtime</th>\n",
       "      <th>Location</th>\n",
       "      <th>Venue</th>\n",
       "      <th>Attendance</th>\n",
       "      <th>...</th>\n",
       "      <th>Team</th>\n",
       "      <th>Team Code</th>\n",
       "      <th>Team Score</th>\n",
       "      <th>Opponent Score</th>\n",
       "      <th>Score Sum</th>\n",
       "      <th>Score Diff</th>\n",
       "      <th>Class</th>\n",
       "      <th>Team Code_p_Date</th>\n",
       "      <th>Team Code_pp_Date</th>\n",
       "      <th>Team Code_ppp_Date</th>\n",
       "    </tr>\n",
       "  </thead>\n",
       "  <tbody>\n",
       "    <tr>\n",
       "      <th>16</th>\n",
       "      <td>Sun</td>\n",
       "      <td>1921-12-11</td>\n",
       "      <td>A</td>\n",
       "      <td>Washington Senators</td>\n",
       "      <td>0-7</td>\n",
       "      <td>L</td>\n",
       "      <td>NaN</td>\n",
       "      <td>Washington, DC</td>\n",
       "      <td>National Park</td>\n",
       "      <td>5000.0</td>\n",
       "      <td>...</td>\n",
       "      <td>Cleveland Tigers</td>\n",
       "      <td>cle</td>\n",
       "      <td>0.0</td>\n",
       "      <td>7.0</td>\n",
       "      <td>7.0</td>\n",
       "      <td>-7.0</td>\n",
       "      <td>-1</td>\n",
       "      <td>1921-11-06</td>\n",
       "      <td>1921-10-23</td>\n",
       "      <td>1920-11-28</td>\n",
       "    </tr>\n",
       "    <tr>\n",
       "      <th>18</th>\n",
       "      <td>Sun</td>\n",
       "      <td>1922-10-15</td>\n",
       "      <td>H</td>\n",
       "      <td>Green Bay Packers</td>\n",
       "      <td>16-3</td>\n",
       "      <td>W</td>\n",
       "      <td>NaN</td>\n",
       "      <td>Chicago, IL</td>\n",
       "      <td>Normal Park</td>\n",
       "      <td>3500.0</td>\n",
       "      <td>...</td>\n",
       "      <td>Chicago Cardinals</td>\n",
       "      <td>chic</td>\n",
       "      <td>16.0</td>\n",
       "      <td>3.0</td>\n",
       "      <td>19.0</td>\n",
       "      <td>13.0</td>\n",
       "      <td>1</td>\n",
       "      <td>1921-11-20</td>\n",
       "      <td>1921-10-02</td>\n",
       "      <td>1920-10-31</td>\n",
       "    </tr>\n",
       "    <tr>\n",
       "      <th>20</th>\n",
       "      <td>Sun</td>\n",
       "      <td>1922-10-22</td>\n",
       "      <td>A</td>\n",
       "      <td>Chicago Bears</td>\n",
       "      <td>0-7</td>\n",
       "      <td>L</td>\n",
       "      <td>NaN</td>\n",
       "      <td>Chicago, IL</td>\n",
       "      <td>Cubs Park</td>\n",
       "      <td>6500.0</td>\n",
       "      <td>...</td>\n",
       "      <td>Buffalo All-Americans</td>\n",
       "      <td>buf</td>\n",
       "      <td>0.0</td>\n",
       "      <td>7.0</td>\n",
       "      <td>7.0</td>\n",
       "      <td>-7.0</td>\n",
       "      <td>-1</td>\n",
       "      <td>1921-11-06</td>\n",
       "      <td>1921-10-30</td>\n",
       "      <td>1920-11-28</td>\n",
       "    </tr>\n",
       "    <tr>\n",
       "      <th>22</th>\n",
       "      <td>Sun</td>\n",
       "      <td>1922-10-22</td>\n",
       "      <td>H</td>\n",
       "      <td>Minneapolis Marines</td>\n",
       "      <td>3-0</td>\n",
       "      <td>W</td>\n",
       "      <td>NaN</td>\n",
       "      <td>Chicago, IL</td>\n",
       "      <td>Comiskey Park</td>\n",
       "      <td>4000.0</td>\n",
       "      <td>...</td>\n",
       "      <td>Chicago Cardinals</td>\n",
       "      <td>chic</td>\n",
       "      <td>3.0</td>\n",
       "      <td>0.0</td>\n",
       "      <td>3.0</td>\n",
       "      <td>3.0</td>\n",
       "      <td>1</td>\n",
       "      <td>1922-10-15</td>\n",
       "      <td>1921-11-20</td>\n",
       "      <td>1921-10-02</td>\n",
       "    </tr>\n",
       "    <tr>\n",
       "      <th>25</th>\n",
       "      <td>Sun</td>\n",
       "      <td>1922-11-05</td>\n",
       "      <td>H</td>\n",
       "      <td>Buffalo All-Americans</td>\n",
       "      <td>9-7</td>\n",
       "      <td>W</td>\n",
       "      <td>NaN</td>\n",
       "      <td>Chicago, IL</td>\n",
       "      <td>Comiskey Park</td>\n",
       "      <td>4000.0</td>\n",
       "      <td>...</td>\n",
       "      <td>Chicago Cardinals</td>\n",
       "      <td>chic</td>\n",
       "      <td>9.0</td>\n",
       "      <td>7.0</td>\n",
       "      <td>16.0</td>\n",
       "      <td>2.0</td>\n",
       "      <td>1</td>\n",
       "      <td>1922-10-22</td>\n",
       "      <td>1922-10-15</td>\n",
       "      <td>1921-11-20</td>\n",
       "    </tr>\n",
       "  </tbody>\n",
       "</table>\n",
       "<p>5 rows × 22 columns</p>\n",
       "</div>"
      ],
      "text/plain": [
       "    Day       Date Home/Away               Opponent Score W/L/T Overtime  \\\n",
       "16  Sun 1921-12-11         A    Washington Senators   0-7     L      NaN   \n",
       "18  Sun 1922-10-15         H      Green Bay Packers  16-3     W      NaN   \n",
       "20  Sun 1922-10-22         A          Chicago Bears   0-7     L      NaN   \n",
       "22  Sun 1922-10-22         H    Minneapolis Marines   3-0     W      NaN   \n",
       "25  Sun 1922-11-05         H  Buffalo All-Americans   9-7     W      NaN   \n",
       "\n",
       "          Location          Venue  Attendance  ...                   Team  \\\n",
       "16  Washington, DC  National Park      5000.0  ...       Cleveland Tigers   \n",
       "18     Chicago, IL    Normal Park      3500.0  ...      Chicago Cardinals   \n",
       "20     Chicago, IL      Cubs Park      6500.0  ...  Buffalo All-Americans   \n",
       "22     Chicago, IL  Comiskey Park      4000.0  ...      Chicago Cardinals   \n",
       "25     Chicago, IL  Comiskey Park      4000.0  ...      Chicago Cardinals   \n",
       "\n",
       "   Team Code Team Score Opponent Score  Score Sum  Score Diff  Class  \\\n",
       "16       cle        0.0            7.0        7.0        -7.0     -1   \n",
       "18      chic       16.0            3.0       19.0        13.0      1   \n",
       "20       buf        0.0            7.0        7.0        -7.0     -1   \n",
       "22      chic        3.0            0.0        3.0         3.0      1   \n",
       "25      chic        9.0            7.0       16.0         2.0      1   \n",
       "\n",
       "    Team Code_p_Date  Team Code_pp_Date Team Code_ppp_Date  \n",
       "16        1921-11-06         1921-10-23         1920-11-28  \n",
       "18        1921-11-20         1921-10-02         1920-10-31  \n",
       "20        1921-11-06         1921-10-30         1920-11-28  \n",
       "22        1922-10-15         1921-11-20         1921-10-02  \n",
       "25        1922-10-22         1922-10-15         1921-11-20  \n",
       "\n",
       "[5 rows x 22 columns]"
      ]
     },
     "execution_count": 27,
     "metadata": {},
     "output_type": "execute_result"
    }
   ],
   "source": [
    "check_dates, new_columns = form_last_n_games(cleaned_matches[:150], 3, ['Date'])\n",
    "check_dates.head()"
   ]
  },
  {
   "cell_type": "code",
   "execution_count": 28,
   "metadata": {},
   "outputs": [
    {
     "name": "stdout",
     "output_type": "stream",
     "text": [
      "..."
     ]
    }
   ],
   "source": [
    "x_cols = [\n",
    "  'Team Code',\n",
    "  'Opponent Code',\n",
    "]\n",
    "y_cols = [\n",
    "  'Class'\n",
    "]\n",
    "\n",
    "played_matches = cleaned_matches.dropna(axis=0, how='any', subset=x_cols + y_cols)\n",
    "\n",
    "last_1_match, new_columns = form_last_n_games(played_matches, 3, ['Class'])"
   ]
  },
  {
   "cell_type": "code",
   "execution_count": 14,
   "metadata": {},
   "outputs": [],
   "source": [
    "\n",
    "X = pd.concat([pd.get_dummies(last_1_match[xcol],prefix='_'.join(xcol.split())+'_') for xcol in x_cols] + [last_1_match[new_columns]], axis=1)\n",
    "y = last_1_match[y_cols]\n"
   ]
  },
  {
   "cell_type": "code",
   "execution_count": 15,
   "metadata": {},
   "outputs": [
    {
     "data": {
      "text/html": [
       "<div>\n",
       "<style scoped>\n",
       "    .dataframe tbody tr th:only-of-type {\n",
       "        vertical-align: middle;\n",
       "    }\n",
       "\n",
       "    .dataframe tbody tr th {\n",
       "        vertical-align: top;\n",
       "    }\n",
       "\n",
       "    .dataframe thead th {\n",
       "        text-align: right;\n",
       "    }\n",
       "</style>\n",
       "<table border=\"1\" class=\"dataframe\">\n",
       "  <thead>\n",
       "    <tr style=\"text-align: right;\">\n",
       "      <th></th>\n",
       "      <th>Team_Code__ari</th>\n",
       "      <th>Team_Code__atl</th>\n",
       "      <th>Team_Code__bal</th>\n",
       "      <th>Team_Code__buf</th>\n",
       "      <th>Team_Code__chib</th>\n",
       "      <th>Team_Code__chic</th>\n",
       "      <th>Team_Code__cin</th>\n",
       "      <th>Team_Code__cle</th>\n",
       "      <th>Team_Code__dal</th>\n",
       "      <th>Team_Code__den</th>\n",
       "      <th>...</th>\n",
       "      <th>Opponent_Code__phi</th>\n",
       "      <th>Opponent_Code__pit</th>\n",
       "      <th>Opponent_Code__sd</th>\n",
       "      <th>Opponent_Code__sea</th>\n",
       "      <th>Opponent_Code__sf</th>\n",
       "      <th>Opponent_Code__stl</th>\n",
       "      <th>Opponent_Code__tb</th>\n",
       "      <th>Opponent_Code__was</th>\n",
       "      <th>Team Code_p_Class</th>\n",
       "      <th>Team Code_pp_Class</th>\n",
       "    </tr>\n",
       "  </thead>\n",
       "  <tbody>\n",
       "    <tr>\n",
       "      <th>13</th>\n",
       "      <td>0</td>\n",
       "      <td>0</td>\n",
       "      <td>0</td>\n",
       "      <td>0</td>\n",
       "      <td>0</td>\n",
       "      <td>0</td>\n",
       "      <td>0</td>\n",
       "      <td>1</td>\n",
       "      <td>0</td>\n",
       "      <td>0</td>\n",
       "      <td>...</td>\n",
       "      <td>0</td>\n",
       "      <td>0</td>\n",
       "      <td>0</td>\n",
       "      <td>0</td>\n",
       "      <td>0</td>\n",
       "      <td>0</td>\n",
       "      <td>0</td>\n",
       "      <td>0</td>\n",
       "      <td>1.0</td>\n",
       "      <td>-1.0</td>\n",
       "    </tr>\n",
       "    <tr>\n",
       "      <th>12</th>\n",
       "      <td>0</td>\n",
       "      <td>0</td>\n",
       "      <td>0</td>\n",
       "      <td>1</td>\n",
       "      <td>0</td>\n",
       "      <td>0</td>\n",
       "      <td>0</td>\n",
       "      <td>0</td>\n",
       "      <td>0</td>\n",
       "      <td>0</td>\n",
       "      <td>...</td>\n",
       "      <td>0</td>\n",
       "      <td>0</td>\n",
       "      <td>0</td>\n",
       "      <td>0</td>\n",
       "      <td>0</td>\n",
       "      <td>0</td>\n",
       "      <td>0</td>\n",
       "      <td>0</td>\n",
       "      <td>1.0</td>\n",
       "      <td>1.0</td>\n",
       "    </tr>\n",
       "    <tr>\n",
       "      <th>14</th>\n",
       "      <td>0</td>\n",
       "      <td>0</td>\n",
       "      <td>0</td>\n",
       "      <td>0</td>\n",
       "      <td>0</td>\n",
       "      <td>1</td>\n",
       "      <td>0</td>\n",
       "      <td>0</td>\n",
       "      <td>0</td>\n",
       "      <td>0</td>\n",
       "      <td>...</td>\n",
       "      <td>0</td>\n",
       "      <td>0</td>\n",
       "      <td>0</td>\n",
       "      <td>0</td>\n",
       "      <td>0</td>\n",
       "      <td>0</td>\n",
       "      <td>0</td>\n",
       "      <td>0</td>\n",
       "      <td>1.0</td>\n",
       "      <td>1.0</td>\n",
       "    </tr>\n",
       "    <tr>\n",
       "      <th>16</th>\n",
       "      <td>0</td>\n",
       "      <td>0</td>\n",
       "      <td>0</td>\n",
       "      <td>0</td>\n",
       "      <td>0</td>\n",
       "      <td>0</td>\n",
       "      <td>0</td>\n",
       "      <td>1</td>\n",
       "      <td>0</td>\n",
       "      <td>0</td>\n",
       "      <td>...</td>\n",
       "      <td>0</td>\n",
       "      <td>0</td>\n",
       "      <td>0</td>\n",
       "      <td>0</td>\n",
       "      <td>0</td>\n",
       "      <td>0</td>\n",
       "      <td>0</td>\n",
       "      <td>1</td>\n",
       "      <td>-1.0</td>\n",
       "      <td>1.0</td>\n",
       "    </tr>\n",
       "    <tr>\n",
       "      <th>18</th>\n",
       "      <td>0</td>\n",
       "      <td>0</td>\n",
       "      <td>0</td>\n",
       "      <td>0</td>\n",
       "      <td>0</td>\n",
       "      <td>1</td>\n",
       "      <td>0</td>\n",
       "      <td>0</td>\n",
       "      <td>0</td>\n",
       "      <td>0</td>\n",
       "      <td>...</td>\n",
       "      <td>0</td>\n",
       "      <td>0</td>\n",
       "      <td>0</td>\n",
       "      <td>0</td>\n",
       "      <td>0</td>\n",
       "      <td>0</td>\n",
       "      <td>0</td>\n",
       "      <td>0</td>\n",
       "      <td>0.0</td>\n",
       "      <td>1.0</td>\n",
       "    </tr>\n",
       "  </tbody>\n",
       "</table>\n",
       "<p>5 rows × 64 columns</p>\n",
       "</div>"
      ],
      "text/plain": [
       "    Team_Code__ari  Team_Code__atl  Team_Code__bal  Team_Code__buf  \\\n",
       "13               0               0               0               0   \n",
       "12               0               0               0               1   \n",
       "14               0               0               0               0   \n",
       "16               0               0               0               0   \n",
       "18               0               0               0               0   \n",
       "\n",
       "    Team_Code__chib  Team_Code__chic  Team_Code__cin  Team_Code__cle  \\\n",
       "13                0                0               0               1   \n",
       "12                0                0               0               0   \n",
       "14                0                1               0               0   \n",
       "16                0                0               0               1   \n",
       "18                0                1               0               0   \n",
       "\n",
       "    Team_Code__dal  Team_Code__den  ...  Opponent_Code__phi  \\\n",
       "13               0               0  ...                   0   \n",
       "12               0               0  ...                   0   \n",
       "14               0               0  ...                   0   \n",
       "16               0               0  ...                   0   \n",
       "18               0               0  ...                   0   \n",
       "\n",
       "    Opponent_Code__pit  Opponent_Code__sd  Opponent_Code__sea  \\\n",
       "13                   0                  0                   0   \n",
       "12                   0                  0                   0   \n",
       "14                   0                  0                   0   \n",
       "16                   0                  0                   0   \n",
       "18                   0                  0                   0   \n",
       "\n",
       "    Opponent_Code__sf  Opponent_Code__stl  Opponent_Code__tb  \\\n",
       "13                  0                   0                  0   \n",
       "12                  0                   0                  0   \n",
       "14                  0                   0                  0   \n",
       "16                  0                   0                  0   \n",
       "18                  0                   0                  0   \n",
       "\n",
       "    Opponent_Code__was  Team Code_p_Class  Team Code_pp_Class  \n",
       "13                   0                1.0                -1.0  \n",
       "12                   0                1.0                 1.0  \n",
       "14                   0                1.0                 1.0  \n",
       "16                   1               -1.0                 1.0  \n",
       "18                   0                0.0                 1.0  \n",
       "\n",
       "[5 rows x 64 columns]"
      ]
     },
     "execution_count": 15,
     "metadata": {},
     "output_type": "execute_result"
    }
   ],
   "source": [
    "X.head()"
   ]
  },
  {
   "cell_type": "code",
   "execution_count": 16,
   "metadata": {},
   "outputs": [
    {
     "data": {
      "text/html": [
       "<div>\n",
       "<style scoped>\n",
       "    .dataframe tbody tr th:only-of-type {\n",
       "        vertical-align: middle;\n",
       "    }\n",
       "\n",
       "    .dataframe tbody tr th {\n",
       "        vertical-align: top;\n",
       "    }\n",
       "\n",
       "    .dataframe thead th {\n",
       "        text-align: right;\n",
       "    }\n",
       "</style>\n",
       "<table border=\"1\" class=\"dataframe\">\n",
       "  <thead>\n",
       "    <tr style=\"text-align: right;\">\n",
       "      <th></th>\n",
       "      <th>Class</th>\n",
       "    </tr>\n",
       "  </thead>\n",
       "  <tbody>\n",
       "    <tr>\n",
       "      <th>13</th>\n",
       "      <td>-1</td>\n",
       "    </tr>\n",
       "    <tr>\n",
       "      <th>12</th>\n",
       "      <td>1</td>\n",
       "    </tr>\n",
       "    <tr>\n",
       "      <th>14</th>\n",
       "      <td>0</td>\n",
       "    </tr>\n",
       "    <tr>\n",
       "      <th>16</th>\n",
       "      <td>-1</td>\n",
       "    </tr>\n",
       "    <tr>\n",
       "      <th>18</th>\n",
       "      <td>1</td>\n",
       "    </tr>\n",
       "  </tbody>\n",
       "</table>\n",
       "</div>"
      ],
      "text/plain": [
       "    Class\n",
       "13     -1\n",
       "12      1\n",
       "14      0\n",
       "16     -1\n",
       "18      1"
      ]
     },
     "execution_count": 16,
     "metadata": {},
     "output_type": "execute_result"
    }
   ],
   "source": [
    "y.head()"
   ]
  },
  {
   "cell_type": "code",
   "execution_count": 17,
   "metadata": {},
   "outputs": [],
   "source": [
    "y=y.dropna()\n",
    "X=X.dropna()"
   ]
  },
  {
   "cell_type": "code",
   "execution_count": 18,
   "metadata": {},
   "outputs": [
    {
     "name": "stdout",
     "output_type": "stream",
     "text": [
      "(15636, 64) (15636,)\n",
      "(5212, 64) (5212,)\n",
      "(5212, 64) (5212,)\n"
     ]
    }
   ],
   "source": [
    "X_train, X_test, y_train, y_test = model_selection.train_test_split(\n",
    "  X.to_numpy(), y.to_numpy(), test_size=0.2, random_state=0\n",
    ")\n",
    "\n",
    "\n",
    "X_train, X_val, y_train, y_val = model_selection.train_test_split(\n",
    "  X_train, y_train, test_size=0.25\n",
    ")\n",
    "\n",
    "y_train=y_train.ravel()\n",
    "y_val=y_val.ravel()\n",
    "y_test=y_test.ravel()\n",
    "\n",
    "print(X_train.shape, y_train.shape)\n",
    "print(X_val.shape, y_val.shape)\n",
    "print(X_test.shape, y_test.shape)"
   ]
  },
  {
   "cell_type": "code",
   "execution_count": 19,
   "metadata": {},
   "outputs": [
    {
     "name": "stdout",
     "output_type": "stream",
     "text": [
      "Evaluating linear kernel for C=0.01\n",
      "Evaluating linear kernel for C=0.03760603093086394\n",
      "Evaluating linear kernel for C=0.1414213562373095\n",
      "Evaluating linear kernel for C=0.5318295896944989\n"
     ]
    },
    {
     "name": "stderr",
     "output_type": "stream",
     "text": [
      "C:\\Users\\Eric\\anaconda3\\envs\\machine_learning\\lib\\site-packages\\sklearn\\svm\\_base.py:289: ConvergenceWarning: Solver terminated early (max_iter=10000).  Consider pre-processing your data with StandardScaler or MinMaxScaler.\n",
      "  ConvergenceWarning,\n"
     ]
    },
    {
     "name": "stdout",
     "output_type": "stream",
     "text": [
      "Evaluating linear kernel for C=2.0\n"
     ]
    },
    {
     "name": "stderr",
     "output_type": "stream",
     "text": [
      "C:\\Users\\Eric\\anaconda3\\envs\\machine_learning\\lib\\site-packages\\sklearn\\svm\\_base.py:289: ConvergenceWarning: Solver terminated early (max_iter=10000).  Consider pre-processing your data with StandardScaler or MinMaxScaler.\n",
      "  ConvergenceWarning,\n"
     ]
    },
    {
     "data": {
      "image/png": "[encoded data removed]",
      "text/plain": [
       "<Figure size 720x360 with 1 Axes>"
      ]
     },
     "metadata": {
      "needs_background": "light"
     },
     "output_type": "display_data"
    }
   ],
   "source": [
    "for kernel in ['linear']: #, 'poly','rbf','sigmoid']:\n",
    "  train_scores = []\n",
    "  val_scores = []\n",
    "  val_space = np.geomspace(start=0.01, stop=2, num=5)\n",
    "  for C in val_space:\n",
    "    print(f\"Evaluating {kernel} kernel for C={C}\")\n",
    "    model = pipeline.make_pipeline(\n",
    "      # preprocessing.MinMaxScaler(),\n",
    "      svm.SVC(C=C,max_iter=10_000,kernel=kernel),\n",
    "    )\n",
    "\n",
    "    model.fit(X_train, y_train)\n",
    "    train_scores.append(model.score(X_train, y_train))\n",
    "    val_scores.append(model.score(X_val, y_val))\n",
    "\n",
    "  plt.title(kernel)\n",
    "  plt.plot(val_space, train_scores, label='Train score')\n",
    "  plt.plot(val_space, val_scores, label='Val score')\n",
    "  plt.ylim(0, 1)\n",
    "  plt.legend()\n",
    "  plt.show()"
   ]
  },
  {
   "cell_type": "code",
   "execution_count": 20,
   "metadata": {},
   "outputs": [
    {
     "data": {
      "text/plain": [
       "array([[ 2.19081461, -0.22223657,  1.13271303]])"
      ]
     },
     "execution_count": 20,
     "metadata": {},
     "output_type": "execute_result"
    }
   ],
   "source": [
    "model.decision_function(X_test[0:1])"
   ]
  },
  {
   "cell_type": "code",
   "execution_count": 21,
   "metadata": {},
   "outputs": [
    {
     "name": "stdout",
     "output_type": "stream",
     "text": [
      "................................................................................"
     ]
    }
   ],
   "source": [
    "from sklearn.ensemble import BaggingRegressor\n",
    "from sklearn.tree import DecisionTreeRegressor\n",
    "from sklearn.tree import DecisionTreeClassifier\n",
    "\n",
    "best_config = []\n",
    "best_score = 0\n",
    "best_fit_config = []\n",
    "best_fit_score = 0\n",
    "for estimator in [DecisionTreeClassifier(max_leaf_nodes=3), DecisionTreeClassifier(max_leaf_nodes=5), DecisionTreeClassifier(max_leaf_nodes=62), DecisionTreeClassifier(max_leaf_nodes=124)]:\n",
    "  for nestimators in [10, 31, 62, 93, 124]:\n",
    "    for nsamples in [10, 20, 30, 50]:\n",
    "      regressor = BaggingRegressor(base_estimator=estimator, n_estimators=nestimators, max_samples=nsamples)\n",
    "      regressor.fit(X_train, y_train)\n",
    "      \n",
    "      score = regressor.score(X_val, y_val)\n",
    "      if(score > best_score):\n",
    "        best_config = [estimator, nestimators, nsamples]\n",
    "        best_score = score\n",
    "      \n",
    "      score = regressor.score(X_train, y_train)\n",
    "      if(score > best_fit_score):\n",
    "        best_fit_config = [estimator, nestimators, nsamples]\n",
    "        best_fit_score = score\n",
    "        \n",
    "      print(end='.')"
   ]
  },
  {
   "cell_type": "code",
   "execution_count": 22,
   "metadata": {},
   "outputs": [
    {
     "name": "stdout",
     "output_type": "stream",
     "text": [
      "Best validation: 0.016112129110475104, [DecisionTreeClassifier(max_leaf_nodes=124), 124, 50]\n",
      "Best training: 0.021913794623077187, [DecisionTreeClassifier(max_leaf_nodes=124), 124, 50]\n"
     ]
    }
   ],
   "source": [
    "print(f\"Best validation: {best_score}, {best_config}\")\n",
    "print(f\"Best training: {best_fit_score}, {best_fit_config}\")"
   ]
  },
  {
   "cell_type": "code",
   "execution_count": 23,
   "metadata": {},
   "outputs": [
    {
     "data": {
      "text/plain": [
       "0.514006139677667"
      ]
     },
     "execution_count": 23,
     "metadata": {},
     "output_type": "execute_result"
    }
   ],
   "source": [
    "clf = DecisionTreeClassifier()\n",
    "clf.fit(X_train, y_train)\n",
    "clf.score(X_val, y_val)"
   ]
  },
  {
   "cell_type": "code",
   "execution_count": 24,
   "metadata": {},
   "outputs": [
    {
     "data": {
      "text/plain": [
       "array([[0.45454545, 0.        , 0.54545455]])"
      ]
     },
     "execution_count": 24,
     "metadata": {},
     "output_type": "execute_result"
    }
   ],
   "source": [
    "clf.predict_proba(X_test[0:1])"
   ]
  },
  {
   "cell_type": "code",
   "execution_count": null,
   "metadata": {},
   "outputs": [],
   "source": []
  }
 ],
 "metadata": {
  "interpreter": {
   "hash": "43ec02794a5c6caca2187426f9bfbca63869e8dd5c007b90979db8c1bb48c23c"
  },
  "kernelspec": {
   "display_name": "Python 3.7.11 64-bit ('machine_learning': conda)",
   "language": "python",
   "name": "python3"
  },
  "language_info": {
   "codemirror_mode": {
    "name": "ipython",
    "version": 3
   },
   "file_extension": ".py",
   "mimetype": "text/x-python",
   "name": "python",
   "nbconvert_exporter": "python",
   "pygments_lexer": "ipython3",
   "version": "3.7.11"
  },
  "orig_nbformat": 4
 },
 "nbformat": 4,
 "nbformat_minor": 2
}

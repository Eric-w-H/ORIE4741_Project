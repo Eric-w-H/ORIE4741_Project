{
 "cells": [
  {
   "cell_type": "code",
   "execution_count": 1,
   "metadata": {},
   "outputs": [],
   "source": [
    "import os\n",
    "import numpy as np\n",
    "import pandas as pd\n",
    "from matplotlib import pyplot as plt\n",
    "import matplotlib as mpl\n",
    "\n",
    "width, height = 10, 5\n",
    "mpl.rcParams['figure.figsize'] = [width, height]\n"
   ]
  },
  {
   "cell_type": "code",
   "execution_count": 2,
   "metadata": {},
   "outputs": [],
   "source": [
    "from sklearn import svm\n",
    "from sklearn import pipeline\n",
    "from sklearn import preprocessing\n",
    "from sklearn import model_selection\n",
    "\n",
    "from utility_fns import form_last_n_games\n",
    "from utility_fns import make_train_val_test\n"
   ]
  },
  {
   "cell_type": "code",
   "execution_count": 3,
   "metadata": {},
   "outputs": [],
   "source": [
    "from sklearn.model_selection import cross_val_score\n",
    "from sklearn.preprocessing import StandardScaler\n",
    "from sklearn.preprocessing import OneHotEncoder\n",
    "from sklearn.compose import ColumnTransformer\n",
    "from sklearn.pipeline import make_pipeline\n",
    "from sklearn.metrics import precision_recall_fscore_support\n",
    "from sklearn.ensemble import BaggingClassifier\n",
    "from sklearn.tree import DecisionTreeClassifier"
   ]
  },
  {
   "cell_type": "code",
   "execution_count": 4,
   "metadata": {},
   "outputs": [],
   "source": [
    "basedir = os.path.dirname(os.getcwd())\n",
    "data = os.path.join(basedir, 'data', 'derived', 'cleaned_matches.csv')\n",
    "cleaned_matches = pd.read_csv(data)\n"
   ]
  },
  {
   "cell_type": "code",
   "execution_count": 5,
   "metadata": {},
   "outputs": [
    {
     "name": "stdout",
     "output_type": "stream",
     "text": [
      "<class 'pandas.core.frame.DataFrame'>\n",
      "Int64Index: 26122 entries, 0 to 26121\n",
      "Data columns (total 19 columns):\n",
      " #   Column          Non-Null Count  Dtype         \n",
      "---  ------          --------------  -----         \n",
      " 0   Day             26122 non-null  object        \n",
      " 1   Date            26122 non-null  datetime64[ns]\n",
      " 2   Home/Away       26122 non-null  object        \n",
      " 3   Opponent        26122 non-null  object        \n",
      " 4   Score           26122 non-null  object        \n",
      " 5   W/L/T           26122 non-null  object        \n",
      " 6   Overtime        948 non-null    object        \n",
      " 7   Location        26122 non-null  object        \n",
      " 8   Venue           26122 non-null  object        \n",
      " 9   Attendance      26098 non-null  float64       \n",
      " 10  Notes           1061 non-null   object        \n",
      " 11  Opponent Code   26122 non-null  object        \n",
      " 12  Team            26122 non-null  object        \n",
      " 13  Team Code       26122 non-null  object        \n",
      " 14  Team Score      25942 non-null  float64       \n",
      " 15  Opponent Score  25942 non-null  float64       \n",
      " 16  Score Sum       25942 non-null  float64       \n",
      " 17  Score Diff      25942 non-null  float64       \n",
      " 18  Class           26122 non-null  int64         \n",
      "dtypes: datetime64[ns](1), float64(5), int64(1), object(12)\n",
      "memory usage: 4.0+ MB\n"
     ]
    }
   ],
   "source": [
    "cleaned_matches.Date = pd.to_datetime(cleaned_matches.Date)\n",
    "cleaned_matches.sort_values(by='Date', inplace=True, ascending=True)\n",
    "cleaned_matches.info()\n"
   ]
  },
  {
   "cell_type": "markdown",
   "metadata": {},
   "source": [
    "## Train to classify based on the last-n-games a team played"
   ]
  },
  {
   "cell_type": "code",
   "execution_count": 6,
   "metadata": {},
   "outputs": [
    {
     "name": "stdout",
     "output_type": "stream",
     "text": [
      "<class 'pandas.core.frame.DataFrame'>\n",
      "Int64Index: 25942 entries, 0 to 26121\n",
      "Data columns (total 19 columns):\n",
      " #   Column          Non-Null Count  Dtype         \n",
      "---  ------          --------------  -----         \n",
      " 0   Day             25942 non-null  object        \n",
      " 1   Date            25942 non-null  datetime64[ns]\n",
      " 2   Home/Away       25942 non-null  object        \n",
      " 3   Opponent        25942 non-null  object        \n",
      " 4   Score           25942 non-null  object        \n",
      " 5   W/L/T           25942 non-null  object        \n",
      " 6   Overtime        948 non-null    object        \n",
      " 7   Location        25942 non-null  object        \n",
      " 8   Venue           25942 non-null  object        \n",
      " 9   Attendance      25918 non-null  float64       \n",
      " 10  Notes           1051 non-null   object        \n",
      " 11  Opponent Code   25942 non-null  object        \n",
      " 12  Team            25942 non-null  object        \n",
      " 13  Team Code       25942 non-null  object        \n",
      " 14  Team Score      25942 non-null  float64       \n",
      " 15  Opponent Score  25942 non-null  float64       \n",
      " 16  Score Sum       25942 non-null  float64       \n",
      " 17  Score Diff      25942 non-null  float64       \n",
      " 18  Class           25942 non-null  int64         \n",
      "dtypes: datetime64[ns](1), float64(5), int64(1), object(12)\n",
      "memory usage: 4.0+ MB\n"
     ]
    }
   ],
   "source": [
    "x_cols = [\n",
    "    'Team Code',\n",
    "    'Opponent Code'\n",
    "]\n",
    "lookup_x_cols = [\n",
    "    'Team Score',\n",
    "    'Opponent Score',\n",
    "    'Opponent Code'\n",
    "]\n",
    "y_cols = [\n",
    "    'Class'\n",
    "]\n",
    "\n",
    "played_matches = cleaned_matches.dropna(\n",
    "    axis=0, how='any', subset=x_cols + y_cols + lookup_x_cols).copy()\n",
    "\n",
    "played_matches['Class'].where(\n",
    "    played_matches['Class'] > 0, other=0, inplace=True)\n",
    "played_matches.info()\n"
   ]
  },
  {
   "cell_type": "code",
   "execution_count": 7,
   "metadata": {},
   "outputs": [
    {
     "name": "stdout",
     "output_type": "stream",
     "text": [
      ".................................................\n",
      " Done\n"
     ]
    }
   ],
   "source": [
    "last_n_matches, new_columns = form_last_n_games(\n",
    "    played_matches, 5, lookup_x_cols, x_cols)"
   ]
  },
  {
   "cell_type": "code",
   "execution_count": 8,
   "metadata": {},
   "outputs": [
    {
     "name": "stdout",
     "output_type": "stream",
     "text": [
      "Index(['Team Code', 'Opponent Code', 'Team Code_p_Opponent Code',\n",
      "       'Opponent Code_p_Opponent Code', 'Team Code_pp_Opponent Code',\n",
      "       'Opponent Code_pp_Opponent Code', 'Team Code_ppp_Opponent Code',\n",
      "       'Opponent Code_ppp_Opponent Code', 'Team Code_pppp_Opponent Code',\n",
      "       'Opponent Code_pppp_Opponent Code', 'Team Code_ppppp_Opponent Code',\n",
      "       'Opponent Code_ppppp_Opponent Code'],\n",
      "      dtype='object')\n",
      "Index(['Team Code_p_Team Score', 'Opponent Code_p_Team Score',\n",
      "       'Team Code_pp_Team Score', 'Opponent Code_pp_Team Score',\n",
      "       'Team Code_ppp_Team Score', 'Opponent Code_ppp_Team Score',\n",
      "       'Team Code_pppp_Team Score', 'Opponent Code_pppp_Team Score',\n",
      "       'Team Code_ppppp_Team Score', 'Opponent Code_ppppp_Team Score',\n",
      "       'Team Code_p_Opponent Score', 'Opponent Code_p_Opponent Score',\n",
      "       'Team Code_pp_Opponent Score', 'Opponent Code_pp_Opponent Score',\n",
      "       'Team Code_ppp_Opponent Score', 'Opponent Code_ppp_Opponent Score',\n",
      "       'Team Code_pppp_Opponent Score', 'Opponent Code_pppp_Opponent Score',\n",
      "       'Team Code_ppppp_Opponent Score', 'Opponent Code_ppppp_Opponent Score'],\n",
      "      dtype='object')\n"
     ]
    }
   ],
   "source": [
    "X = pd.concat([last_n_matches[x_cols], last_n_matches[new_columns]], axis=1)\n",
    "y = last_n_matches[y_cols]\n",
    "\n",
    "numeric_columns = X.columns[X.columns.str.contains('Score')]\n",
    "dummies_columns = X.columns[~X.columns.str.contains('Score')]\n",
    "print(dummies_columns)\n",
    "print(numeric_columns)"
   ]
  },
  {
   "cell_type": "code",
   "execution_count": 9,
   "metadata": {},
   "outputs": [
    {
     "data": {
      "text/html": [
       "<div>\n",
       "<style scoped>\n",
       "    .dataframe tbody tr th:only-of-type {\n",
       "        vertical-align: middle;\n",
       "    }\n",
       "\n",
       "    .dataframe tbody tr th {\n",
       "        vertical-align: top;\n",
       "    }\n",
       "\n",
       "    .dataframe thead th {\n",
       "        text-align: right;\n",
       "    }\n",
       "</style>\n",
       "<table border=\"1\" class=\"dataframe\">\n",
       "  <thead>\n",
       "    <tr style=\"text-align: right;\">\n",
       "      <th></th>\n",
       "      <th>Team Code</th>\n",
       "      <th>Opponent Code</th>\n",
       "      <th>Team Code_p_Team Score</th>\n",
       "      <th>Opponent Code_p_Team Score</th>\n",
       "      <th>Team Code_pp_Team Score</th>\n",
       "      <th>Opponent Code_pp_Team Score</th>\n",
       "      <th>Team Code_ppp_Team Score</th>\n",
       "      <th>Opponent Code_ppp_Team Score</th>\n",
       "      <th>Team Code_pppp_Team Score</th>\n",
       "      <th>Opponent Code_pppp_Team Score</th>\n",
       "      <th>...</th>\n",
       "      <th>Team Code_p_Opponent Code</th>\n",
       "      <th>Opponent Code_p_Opponent Code</th>\n",
       "      <th>Team Code_pp_Opponent Code</th>\n",
       "      <th>Opponent Code_pp_Opponent Code</th>\n",
       "      <th>Team Code_ppp_Opponent Code</th>\n",
       "      <th>Opponent Code_ppp_Opponent Code</th>\n",
       "      <th>Team Code_pppp_Opponent Code</th>\n",
       "      <th>Opponent Code_pppp_Opponent Code</th>\n",
       "      <th>Team Code_ppppp_Opponent Code</th>\n",
       "      <th>Opponent Code_ppppp_Opponent Code</th>\n",
       "    </tr>\n",
       "  </thead>\n",
       "  <tbody>\n",
       "    <tr>\n",
       "      <th>12</th>\n",
       "      <td>buf</td>\n",
       "      <td>cle</td>\n",
       "      <td>6.0</td>\n",
       "      <td>6.0</td>\n",
       "      <td>0.0</td>\n",
       "      <td>28.0</td>\n",
       "      <td>21.0</td>\n",
       "      <td>0.0</td>\n",
       "      <td>0.0</td>\n",
       "      <td>0.0</td>\n",
       "      <td>...</td>\n",
       "      <td>buf</td>\n",
       "      <td>buf</td>\n",
       "      <td>buf</td>\n",
       "      <td>cin</td>\n",
       "      <td>det</td>\n",
       "      <td>cle</td>\n",
       "      <td>buf</td>\n",
       "      <td>buf</td>\n",
       "      <td>cle</td>\n",
       "      <td>cle</td>\n",
       "    </tr>\n",
       "    <tr>\n",
       "      <th>19</th>\n",
       "      <td>gb</td>\n",
       "      <td>chic</td>\n",
       "      <td>16.0</td>\n",
       "      <td>16.0</td>\n",
       "      <td>3.0</td>\n",
       "      <td>3.0</td>\n",
       "      <td>3.0</td>\n",
       "      <td>3.0</td>\n",
       "      <td>6.0</td>\n",
       "      <td>0.0</td>\n",
       "      <td>...</td>\n",
       "      <td>gb</td>\n",
       "      <td>gb</td>\n",
       "      <td>chic</td>\n",
       "      <td>chic</td>\n",
       "      <td>gb</td>\n",
       "      <td>gb</td>\n",
       "      <td>gb</td>\n",
       "      <td>chic</td>\n",
       "      <td>min</td>\n",
       "      <td>min</td>\n",
       "    </tr>\n",
       "    <tr>\n",
       "      <th>23</th>\n",
       "      <td>min</td>\n",
       "      <td>chic</td>\n",
       "      <td>3.0</td>\n",
       "      <td>3.0</td>\n",
       "      <td>6.0</td>\n",
       "      <td>3.0</td>\n",
       "      <td>7.0</td>\n",
       "      <td>16.0</td>\n",
       "      <td>0.0</td>\n",
       "      <td>3.0</td>\n",
       "      <td>...</td>\n",
       "      <td>min</td>\n",
       "      <td>min</td>\n",
       "      <td>gb</td>\n",
       "      <td>chic</td>\n",
       "      <td>min</td>\n",
       "      <td>gb</td>\n",
       "      <td>chic</td>\n",
       "      <td>chic</td>\n",
       "      <td>min</td>\n",
       "      <td>gb</td>\n",
       "    </tr>\n",
       "    <tr>\n",
       "      <th>25</th>\n",
       "      <td>chic</td>\n",
       "      <td>buf</td>\n",
       "      <td>0.0</td>\n",
       "      <td>7.0</td>\n",
       "      <td>3.0</td>\n",
       "      <td>0.0</td>\n",
       "      <td>3.0</td>\n",
       "      <td>10.0</td>\n",
       "      <td>16.0</td>\n",
       "      <td>6.0</td>\n",
       "      <td>...</td>\n",
       "      <td>chic</td>\n",
       "      <td>buf</td>\n",
       "      <td>min</td>\n",
       "      <td>chib</td>\n",
       "      <td>chic</td>\n",
       "      <td>cle</td>\n",
       "      <td>gb</td>\n",
       "      <td>buf</td>\n",
       "      <td>chic</td>\n",
       "      <td>buf</td>\n",
       "    </tr>\n",
       "    <tr>\n",
       "      <th>24</th>\n",
       "      <td>buf</td>\n",
       "      <td>chic</td>\n",
       "      <td>9.0</td>\n",
       "      <td>9.0</td>\n",
       "      <td>7.0</td>\n",
       "      <td>0.0</td>\n",
       "      <td>0.0</td>\n",
       "      <td>3.0</td>\n",
       "      <td>10.0</td>\n",
       "      <td>3.0</td>\n",
       "      <td>...</td>\n",
       "      <td>buf</td>\n",
       "      <td>buf</td>\n",
       "      <td>buf</td>\n",
       "      <td>chic</td>\n",
       "      <td>chib</td>\n",
       "      <td>min</td>\n",
       "      <td>cle</td>\n",
       "      <td>chic</td>\n",
       "      <td>buf</td>\n",
       "      <td>gb</td>\n",
       "    </tr>\n",
       "  </tbody>\n",
       "</table>\n",
       "<p>5 rows × 32 columns</p>\n",
       "</div>"
      ],
      "text/plain": [
       "   Team Code Opponent Code  Team Code_p_Team Score  \\\n",
       "12       buf           cle                     6.0   \n",
       "19        gb          chic                    16.0   \n",
       "23       min          chic                     3.0   \n",
       "25      chic           buf                     0.0   \n",
       "24       buf          chic                     9.0   \n",
       "\n",
       "    Opponent Code_p_Team Score  Team Code_pp_Team Score  \\\n",
       "12                         6.0                      0.0   \n",
       "19                        16.0                      3.0   \n",
       "23                         3.0                      6.0   \n",
       "25                         7.0                      3.0   \n",
       "24                         9.0                      7.0   \n",
       "\n",
       "    Opponent Code_pp_Team Score  Team Code_ppp_Team Score  \\\n",
       "12                         28.0                      21.0   \n",
       "19                          3.0                       3.0   \n",
       "23                          3.0                       7.0   \n",
       "25                          0.0                       3.0   \n",
       "24                          0.0                       0.0   \n",
       "\n",
       "    Opponent Code_ppp_Team Score  Team Code_pppp_Team Score  \\\n",
       "12                           0.0                        0.0   \n",
       "19                           3.0                        6.0   \n",
       "23                          16.0                        0.0   \n",
       "25                          10.0                       16.0   \n",
       "24                           3.0                       10.0   \n",
       "\n",
       "    Opponent Code_pppp_Team Score  ...  Team Code_p_Opponent Code  \\\n",
       "12                            0.0  ...                        buf   \n",
       "19                            0.0  ...                         gb   \n",
       "23                            3.0  ...                        min   \n",
       "25                            6.0  ...                       chic   \n",
       "24                            3.0  ...                        buf   \n",
       "\n",
       "    Opponent Code_p_Opponent Code  Team Code_pp_Opponent Code  \\\n",
       "12                            buf                         buf   \n",
       "19                             gb                        chic   \n",
       "23                            min                          gb   \n",
       "25                            buf                         min   \n",
       "24                            buf                         buf   \n",
       "\n",
       "    Opponent Code_pp_Opponent Code  Team Code_ppp_Opponent Code  \\\n",
       "12                             cin                          det   \n",
       "19                            chic                           gb   \n",
       "23                            chic                          min   \n",
       "25                            chib                         chic   \n",
       "24                            chic                         chib   \n",
       "\n",
       "    Opponent Code_ppp_Opponent Code  Team Code_pppp_Opponent Code  \\\n",
       "12                              cle                           buf   \n",
       "19                               gb                            gb   \n",
       "23                               gb                          chic   \n",
       "25                              cle                            gb   \n",
       "24                              min                           cle   \n",
       "\n",
       "    Opponent Code_pppp_Opponent Code  Team Code_ppppp_Opponent Code  \\\n",
       "12                               buf                            cle   \n",
       "19                              chic                            min   \n",
       "23                              chic                            min   \n",
       "25                               buf                           chic   \n",
       "24                              chic                            buf   \n",
       "\n",
       "    Opponent Code_ppppp_Opponent Code  \n",
       "12                                cle  \n",
       "19                                min  \n",
       "23                                 gb  \n",
       "25                                buf  \n",
       "24                                 gb  \n",
       "\n",
       "[5 rows x 32 columns]"
      ]
     },
     "execution_count": 9,
     "metadata": {},
     "output_type": "execute_result"
    }
   ],
   "source": [
    "X.head()"
   ]
  },
  {
   "cell_type": "code",
   "execution_count": 27,
   "metadata": {},
   "outputs": [
    {
     "data": {
      "text/plain": [
       "[('scaler',\n",
       "  StandardScaler(),\n",
       "  Index(['Team Code_p_Team Score', 'Opponent Code_p_Team Score',\n",
       "         'Team Code_pp_Team Score', 'Opponent Code_pp_Team Score',\n",
       "         'Team Code_ppp_Team Score', 'Opponent Code_ppp_Team Score',\n",
       "         'Team Code_pppp_Team Score', 'Opponent Code_pppp_Team Score',\n",
       "         'Team Code_ppppp_Team Score', 'Opponent Code_ppppp_Team Score',\n",
       "         'Team Code_p_Opponent Score', 'Opponent Code_p_Opponent Score',\n",
       "         'Team Code_pp_Opponent Score', 'Opponent Code_pp_Opponent Score',\n",
       "         'Team Code_ppp_Opponent Score', 'Opponent Code_ppp_Opponent Score',\n",
       "         'Team Code_pppp_Opponent Score', 'Opponent Code_pppp_Opponent Score',\n",
       "         'Team Code_ppppp_Opponent Score', 'Opponent Code_ppppp_Opponent Score'],\n",
       "        dtype='object')),\n",
       " ('one-hot',\n",
       "  OneHotEncoder(handle_unknown='ignore'),\n",
       "  Index(['Team Code', 'Opponent Code', 'Team Code_p_Opponent Code',\n",
       "         'Opponent Code_p_Opponent Code', 'Team Code_pp_Opponent Code',\n",
       "         'Opponent Code_pp_Opponent Code', 'Team Code_ppp_Opponent Code',\n",
       "         'Opponent Code_ppp_Opponent Code', 'Team Code_pppp_Opponent Code',\n",
       "         'Opponent Code_pppp_Opponent Code', 'Team Code_ppppp_Opponent Code',\n",
       "         'Opponent Code_ppppp_Opponent Code'],\n",
       "        dtype='object'))]"
      ]
     },
     "execution_count": 27,
     "metadata": {},
     "output_type": "execute_result"
    }
   ],
   "source": [
    "def dataset_transformer():\n",
    "    return ColumnTransformer([('scaler', StandardScaler(), numeric_columns), ('one-hot', OneHotEncoder(handle_unknown='ignore'), dummies_columns)])\n",
    "\n",
    "dataset_transformer().fit(X, y).transformers"
   ]
  },
  {
   "cell_type": "code",
   "execution_count": 11,
   "metadata": {},
   "outputs": [
    {
     "data": {
      "text/html": [
       "<div>\n",
       "<style scoped>\n",
       "    .dataframe tbody tr th:only-of-type {\n",
       "        vertical-align: middle;\n",
       "    }\n",
       "\n",
       "    .dataframe tbody tr th {\n",
       "        vertical-align: top;\n",
       "    }\n",
       "\n",
       "    .dataframe thead th {\n",
       "        text-align: right;\n",
       "    }\n",
       "</style>\n",
       "<table border=\"1\" class=\"dataframe\">\n",
       "  <thead>\n",
       "    <tr style=\"text-align: right;\">\n",
       "      <th></th>\n",
       "      <th>Team Code_p_Team Score</th>\n",
       "      <th>Opponent Code_p_Team Score</th>\n",
       "      <th>Team Code_pp_Team Score</th>\n",
       "      <th>Opponent Code_pp_Team Score</th>\n",
       "      <th>Team Code_ppp_Team Score</th>\n",
       "      <th>Opponent Code_ppp_Team Score</th>\n",
       "      <th>Team Code_pppp_Team Score</th>\n",
       "      <th>Opponent Code_pppp_Team Score</th>\n",
       "      <th>Team Code_ppppp_Team Score</th>\n",
       "      <th>Opponent Code_ppppp_Team Score</th>\n",
       "      <th>Team Code_p_Opponent Score</th>\n",
       "      <th>Opponent Code_p_Opponent Score</th>\n",
       "      <th>Team Code_pp_Opponent Score</th>\n",
       "      <th>Opponent Code_pp_Opponent Score</th>\n",
       "      <th>Team Code_ppp_Opponent Score</th>\n",
       "      <th>Opponent Code_ppp_Opponent Score</th>\n",
       "      <th>Team Code_pppp_Opponent Score</th>\n",
       "      <th>Opponent Code_pppp_Opponent Score</th>\n",
       "      <th>Team Code_ppppp_Opponent Score</th>\n",
       "      <th>Opponent Code_ppppp_Opponent Score</th>\n",
       "    </tr>\n",
       "  </thead>\n",
       "  <tbody>\n",
       "    <tr>\n",
       "      <th>count</th>\n",
       "      <td>25806.000000</td>\n",
       "      <td>25806.000000</td>\n",
       "      <td>25806.000000</td>\n",
       "      <td>25806.000000</td>\n",
       "      <td>25806.000000</td>\n",
       "      <td>25806.000000</td>\n",
       "      <td>25806.000000</td>\n",
       "      <td>25806.000000</td>\n",
       "      <td>25806.000000</td>\n",
       "      <td>25806.000000</td>\n",
       "      <td>25806.000000</td>\n",
       "      <td>25806.000000</td>\n",
       "      <td>25806.000000</td>\n",
       "      <td>25806.000000</td>\n",
       "      <td>25806.000000</td>\n",
       "      <td>25806.000000</td>\n",
       "      <td>25806.000000</td>\n",
       "      <td>25806.000000</td>\n",
       "      <td>25806.000000</td>\n",
       "      <td>25806.000000</td>\n",
       "    </tr>\n",
       "    <tr>\n",
       "      <th>mean</th>\n",
       "      <td>20.606564</td>\n",
       "      <td>20.497016</td>\n",
       "      <td>20.467721</td>\n",
       "      <td>20.619740</td>\n",
       "      <td>20.649384</td>\n",
       "      <td>20.423119</td>\n",
       "      <td>20.391692</td>\n",
       "      <td>20.666860</td>\n",
       "      <td>20.601643</td>\n",
       "      <td>20.451445</td>\n",
       "      <td>20.523173</td>\n",
       "      <td>20.562815</td>\n",
       "      <td>20.614663</td>\n",
       "      <td>20.464117</td>\n",
       "      <td>20.428854</td>\n",
       "      <td>20.634155</td>\n",
       "      <td>20.660467</td>\n",
       "      <td>20.385492</td>\n",
       "      <td>20.408510</td>\n",
       "      <td>20.627257</td>\n",
       "    </tr>\n",
       "    <tr>\n",
       "      <th>std</th>\n",
       "      <td>10.570109</td>\n",
       "      <td>10.562621</td>\n",
       "      <td>10.543124</td>\n",
       "      <td>10.597195</td>\n",
       "      <td>10.594489</td>\n",
       "      <td>10.543052</td>\n",
       "      <td>10.542007</td>\n",
       "      <td>10.596455</td>\n",
       "      <td>10.575879</td>\n",
       "      <td>10.565614</td>\n",
       "      <td>10.546515</td>\n",
       "      <td>10.597641</td>\n",
       "      <td>10.600641</td>\n",
       "      <td>10.542176</td>\n",
       "      <td>10.545444</td>\n",
       "      <td>10.597746</td>\n",
       "      <td>10.585354</td>\n",
       "      <td>10.550893</td>\n",
       "      <td>10.543692</td>\n",
       "      <td>10.598442</td>\n",
       "    </tr>\n",
       "    <tr>\n",
       "      <th>min</th>\n",
       "      <td>0.000000</td>\n",
       "      <td>0.000000</td>\n",
       "      <td>0.000000</td>\n",
       "      <td>0.000000</td>\n",
       "      <td>0.000000</td>\n",
       "      <td>0.000000</td>\n",
       "      <td>0.000000</td>\n",
       "      <td>0.000000</td>\n",
       "      <td>0.000000</td>\n",
       "      <td>0.000000</td>\n",
       "      <td>0.000000</td>\n",
       "      <td>0.000000</td>\n",
       "      <td>0.000000</td>\n",
       "      <td>0.000000</td>\n",
       "      <td>0.000000</td>\n",
       "      <td>0.000000</td>\n",
       "      <td>0.000000</td>\n",
       "      <td>0.000000</td>\n",
       "      <td>0.000000</td>\n",
       "      <td>0.000000</td>\n",
       "    </tr>\n",
       "    <tr>\n",
       "      <th>25%</th>\n",
       "      <td>13.000000</td>\n",
       "      <td>13.000000</td>\n",
       "      <td>13.000000</td>\n",
       "      <td>13.000000</td>\n",
       "      <td>13.000000</td>\n",
       "      <td>13.000000</td>\n",
       "      <td>13.000000</td>\n",
       "      <td>13.000000</td>\n",
       "      <td>13.000000</td>\n",
       "      <td>13.000000</td>\n",
       "      <td>13.000000</td>\n",
       "      <td>13.000000</td>\n",
       "      <td>13.000000</td>\n",
       "      <td>13.000000</td>\n",
       "      <td>13.000000</td>\n",
       "      <td>13.000000</td>\n",
       "      <td>13.000000</td>\n",
       "      <td>13.000000</td>\n",
       "      <td>13.000000</td>\n",
       "      <td>13.000000</td>\n",
       "    </tr>\n",
       "    <tr>\n",
       "      <th>50%</th>\n",
       "      <td>20.000000</td>\n",
       "      <td>20.000000</td>\n",
       "      <td>20.000000</td>\n",
       "      <td>20.000000</td>\n",
       "      <td>20.000000</td>\n",
       "      <td>20.000000</td>\n",
       "      <td>20.000000</td>\n",
       "      <td>20.000000</td>\n",
       "      <td>20.000000</td>\n",
       "      <td>20.000000</td>\n",
       "      <td>20.000000</td>\n",
       "      <td>20.000000</td>\n",
       "      <td>20.000000</td>\n",
       "      <td>20.000000</td>\n",
       "      <td>20.000000</td>\n",
       "      <td>20.000000</td>\n",
       "      <td>20.000000</td>\n",
       "      <td>20.000000</td>\n",
       "      <td>20.000000</td>\n",
       "      <td>20.000000</td>\n",
       "    </tr>\n",
       "    <tr>\n",
       "      <th>75%</th>\n",
       "      <td>27.000000</td>\n",
       "      <td>27.000000</td>\n",
       "      <td>27.000000</td>\n",
       "      <td>27.000000</td>\n",
       "      <td>27.000000</td>\n",
       "      <td>27.000000</td>\n",
       "      <td>27.000000</td>\n",
       "      <td>27.000000</td>\n",
       "      <td>27.000000</td>\n",
       "      <td>27.000000</td>\n",
       "      <td>27.000000</td>\n",
       "      <td>27.000000</td>\n",
       "      <td>27.000000</td>\n",
       "      <td>27.000000</td>\n",
       "      <td>27.000000</td>\n",
       "      <td>27.000000</td>\n",
       "      <td>27.000000</td>\n",
       "      <td>27.000000</td>\n",
       "      <td>27.000000</td>\n",
       "      <td>28.000000</td>\n",
       "    </tr>\n",
       "    <tr>\n",
       "      <th>max</th>\n",
       "      <td>53.000000</td>\n",
       "      <td>53.000000</td>\n",
       "      <td>53.000000</td>\n",
       "      <td>53.000000</td>\n",
       "      <td>53.000000</td>\n",
       "      <td>53.000000</td>\n",
       "      <td>53.000000</td>\n",
       "      <td>53.000000</td>\n",
       "      <td>53.000000</td>\n",
       "      <td>53.000000</td>\n",
       "      <td>53.000000</td>\n",
       "      <td>53.000000</td>\n",
       "      <td>53.000000</td>\n",
       "      <td>53.000000</td>\n",
       "      <td>53.000000</td>\n",
       "      <td>53.000000</td>\n",
       "      <td>53.000000</td>\n",
       "      <td>53.000000</td>\n",
       "      <td>53.000000</td>\n",
       "      <td>53.000000</td>\n",
       "    </tr>\n",
       "  </tbody>\n",
       "</table>\n",
       "</div>"
      ],
      "text/plain": [
       "       Team Code_p_Team Score  Opponent Code_p_Team Score  \\\n",
       "count            25806.000000                25806.000000   \n",
       "mean                20.606564                   20.497016   \n",
       "std                 10.570109                   10.562621   \n",
       "min                  0.000000                    0.000000   \n",
       "25%                 13.000000                   13.000000   \n",
       "50%                 20.000000                   20.000000   \n",
       "75%                 27.000000                   27.000000   \n",
       "max                 53.000000                   53.000000   \n",
       "\n",
       "       Team Code_pp_Team Score  Opponent Code_pp_Team Score  \\\n",
       "count             25806.000000                 25806.000000   \n",
       "mean                 20.467721                    20.619740   \n",
       "std                  10.543124                    10.597195   \n",
       "min                   0.000000                     0.000000   \n",
       "25%                  13.000000                    13.000000   \n",
       "50%                  20.000000                    20.000000   \n",
       "75%                  27.000000                    27.000000   \n",
       "max                  53.000000                    53.000000   \n",
       "\n",
       "       Team Code_ppp_Team Score  Opponent Code_ppp_Team Score  \\\n",
       "count              25806.000000                  25806.000000   \n",
       "mean                  20.649384                     20.423119   \n",
       "std                   10.594489                     10.543052   \n",
       "min                    0.000000                      0.000000   \n",
       "25%                   13.000000                     13.000000   \n",
       "50%                   20.000000                     20.000000   \n",
       "75%                   27.000000                     27.000000   \n",
       "max                   53.000000                     53.000000   \n",
       "\n",
       "       Team Code_pppp_Team Score  Opponent Code_pppp_Team Score  \\\n",
       "count               25806.000000                   25806.000000   \n",
       "mean                   20.391692                      20.666860   \n",
       "std                    10.542007                      10.596455   \n",
       "min                     0.000000                       0.000000   \n",
       "25%                    13.000000                      13.000000   \n",
       "50%                    20.000000                      20.000000   \n",
       "75%                    27.000000                      27.000000   \n",
       "max                    53.000000                      53.000000   \n",
       "\n",
       "       Team Code_ppppp_Team Score  Opponent Code_ppppp_Team Score  \\\n",
       "count                25806.000000                    25806.000000   \n",
       "mean                    20.601643                       20.451445   \n",
       "std                     10.575879                       10.565614   \n",
       "min                      0.000000                        0.000000   \n",
       "25%                     13.000000                       13.000000   \n",
       "50%                     20.000000                       20.000000   \n",
       "75%                     27.000000                       27.000000   \n",
       "max                     53.000000                       53.000000   \n",
       "\n",
       "       Team Code_p_Opponent Score  Opponent Code_p_Opponent Score  \\\n",
       "count                25806.000000                    25806.000000   \n",
       "mean                    20.523173                       20.562815   \n",
       "std                     10.546515                       10.597641   \n",
       "min                      0.000000                        0.000000   \n",
       "25%                     13.000000                       13.000000   \n",
       "50%                     20.000000                       20.000000   \n",
       "75%                     27.000000                       27.000000   \n",
       "max                     53.000000                       53.000000   \n",
       "\n",
       "       Team Code_pp_Opponent Score  Opponent Code_pp_Opponent Score  \\\n",
       "count                 25806.000000                     25806.000000   \n",
       "mean                     20.614663                        20.464117   \n",
       "std                      10.600641                        10.542176   \n",
       "min                       0.000000                         0.000000   \n",
       "25%                      13.000000                        13.000000   \n",
       "50%                      20.000000                        20.000000   \n",
       "75%                      27.000000                        27.000000   \n",
       "max                      53.000000                        53.000000   \n",
       "\n",
       "       Team Code_ppp_Opponent Score  Opponent Code_ppp_Opponent Score  \\\n",
       "count                  25806.000000                      25806.000000   \n",
       "mean                      20.428854                         20.634155   \n",
       "std                       10.545444                         10.597746   \n",
       "min                        0.000000                          0.000000   \n",
       "25%                       13.000000                         13.000000   \n",
       "50%                       20.000000                         20.000000   \n",
       "75%                       27.000000                         27.000000   \n",
       "max                       53.000000                         53.000000   \n",
       "\n",
       "       Team Code_pppp_Opponent Score  Opponent Code_pppp_Opponent Score  \\\n",
       "count                   25806.000000                       25806.000000   \n",
       "mean                       20.660467                          20.385492   \n",
       "std                        10.585354                          10.550893   \n",
       "min                         0.000000                           0.000000   \n",
       "25%                        13.000000                          13.000000   \n",
       "50%                        20.000000                          20.000000   \n",
       "75%                        27.000000                          27.000000   \n",
       "max                        53.000000                          53.000000   \n",
       "\n",
       "       Team Code_ppppp_Opponent Score  Opponent Code_ppppp_Opponent Score  \n",
       "count                    25806.000000                        25806.000000  \n",
       "mean                        20.408510                           20.627257  \n",
       "std                         10.543692                           10.598442  \n",
       "min                          0.000000                            0.000000  \n",
       "25%                         13.000000                           13.000000  \n",
       "50%                         20.000000                           20.000000  \n",
       "75%                         27.000000                           28.000000  \n",
       "max                         53.000000                           53.000000  "
      ]
     },
     "execution_count": 11,
     "metadata": {},
     "output_type": "execute_result"
    }
   ],
   "source": [
    "X.describe()"
   ]
  },
  {
   "cell_type": "code",
   "execution_count": 12,
   "metadata": {},
   "outputs": [
    {
     "data": {
      "text/html": [
       "<div>\n",
       "<style scoped>\n",
       "    .dataframe tbody tr th:only-of-type {\n",
       "        vertical-align: middle;\n",
       "    }\n",
       "\n",
       "    .dataframe tbody tr th {\n",
       "        vertical-align: top;\n",
       "    }\n",
       "\n",
       "    .dataframe thead th {\n",
       "        text-align: right;\n",
       "    }\n",
       "</style>\n",
       "<table border=\"1\" class=\"dataframe\">\n",
       "  <thead>\n",
       "    <tr style=\"text-align: right;\">\n",
       "      <th></th>\n",
       "      <th>Class</th>\n",
       "    </tr>\n",
       "  </thead>\n",
       "  <tbody>\n",
       "    <tr>\n",
       "      <th>12</th>\n",
       "      <td>1</td>\n",
       "    </tr>\n",
       "    <tr>\n",
       "      <th>19</th>\n",
       "      <td>0</td>\n",
       "    </tr>\n",
       "    <tr>\n",
       "      <th>23</th>\n",
       "      <td>0</td>\n",
       "    </tr>\n",
       "    <tr>\n",
       "      <th>25</th>\n",
       "      <td>1</td>\n",
       "    </tr>\n",
       "    <tr>\n",
       "      <th>24</th>\n",
       "      <td>0</td>\n",
       "    </tr>\n",
       "  </tbody>\n",
       "</table>\n",
       "</div>"
      ],
      "text/plain": [
       "    Class\n",
       "12      1\n",
       "19      0\n",
       "23      0\n",
       "25      1\n",
       "24      0"
      ]
     },
     "execution_count": 12,
     "metadata": {},
     "output_type": "execute_result"
    }
   ],
   "source": [
    "y.head()"
   ]
  },
  {
   "cell_type": "code",
   "execution_count": 13,
   "metadata": {},
   "outputs": [
    {
     "name": "stdout",
     "output_type": "stream",
     "text": [
      "(15483, 32) (15483, 1)\n",
      "(5161, 32) (5161, 1)\n",
      "(5162, 32) (5162, 1)\n"
     ]
    }
   ],
   "source": [
    "X_train, X_val, X_test, y_train, y_val, y_test = make_train_val_test(\n",
    "    X, y, test_pct=0.2, val_pct=0.2, random_state=0\n",
    ")\n",
    "\n",
    "# y_train = y_train.ravel()\n",
    "# y_val = y_val.ravel()\n",
    "# y_test = y_test.ravel()\n",
    "\n",
    "print(X_train.shape, y_train.shape)\n",
    "print(X_val.shape, y_val.shape)\n",
    "print(X_test.shape, y_test.shape)\n"
   ]
  },
  {
   "cell_type": "code",
   "execution_count": 15,
   "metadata": {},
   "outputs": [
    {
     "name": "stdout",
     "output_type": "stream",
     "text": [
      "Evaluating linear kernel for C=0.01\n"
     ]
    },
    {
     "name": "stderr",
     "output_type": "stream",
     "text": [
      "C:\\Users\\Eric\\anaconda3\\envs\\machine_learning\\lib\\site-packages\\sklearn\\utils\\validation.py:985: DataConversionWarning: A column-vector y was passed when a 1d array was expected. Please change the shape of y to (n_samples, ), for example using ravel().\n",
      "  y = column_or_1d(y, warn=True)\n"
     ]
    },
    {
     "name": "stdout",
     "output_type": "stream",
     "text": [
      "Evaluating linear kernel for C=0.31622776601683794\n"
     ]
    },
    {
     "name": "stderr",
     "output_type": "stream",
     "text": [
      "C:\\Users\\Eric\\anaconda3\\envs\\machine_learning\\lib\\site-packages\\sklearn\\utils\\validation.py:985: DataConversionWarning: A column-vector y was passed when a 1d array was expected. Please change the shape of y to (n_samples, ), for example using ravel().\n",
      "  y = column_or_1d(y, warn=True)\n",
      "C:\\Users\\Eric\\anaconda3\\envs\\machine_learning\\lib\\site-packages\\sklearn\\svm\\_base.py:289: ConvergenceWarning: Solver terminated early (max_iter=10000).  Consider pre-processing your data with StandardScaler or MinMaxScaler.\n",
      "  ConvergenceWarning,\n"
     ]
    },
    {
     "name": "stdout",
     "output_type": "stream",
     "text": [
      "Evaluating linear kernel for C=10.0\n"
     ]
    },
    {
     "name": "stderr",
     "output_type": "stream",
     "text": [
      "C:\\Users\\Eric\\anaconda3\\envs\\machine_learning\\lib\\site-packages\\sklearn\\utils\\validation.py:985: DataConversionWarning: A column-vector y was passed when a 1d array was expected. Please change the shape of y to (n_samples, ), for example using ravel().\n",
      "  y = column_or_1d(y, warn=True)\n",
      "C:\\Users\\Eric\\anaconda3\\envs\\machine_learning\\lib\\site-packages\\sklearn\\svm\\_base.py:289: ConvergenceWarning: Solver terminated early (max_iter=10000).  Consider pre-processing your data with StandardScaler or MinMaxScaler.\n",
      "  ConvergenceWarning,\n"
     ]
    },
    {
     "data": {
      "image/png": "[encoded data removed]",
      "text/plain": [
       "<Figure size 720x360 with 1 Axes>"
      ]
     },
     "metadata": {
      "needs_background": "light"
     },
     "output_type": "display_data"
    },
    {
     "name": "stdout",
     "output_type": "stream",
     "text": [
      "Evaluating poly kernel for C=0.01\n"
     ]
    },
    {
     "name": "stderr",
     "output_type": "stream",
     "text": [
      "C:\\Users\\Eric\\anaconda3\\envs\\machine_learning\\lib\\site-packages\\sklearn\\utils\\validation.py:985: DataConversionWarning: A column-vector y was passed when a 1d array was expected. Please change the shape of y to (n_samples, ), for example using ravel().\n",
      "  y = column_or_1d(y, warn=True)\n"
     ]
    },
    {
     "name": "stdout",
     "output_type": "stream",
     "text": [
      "Evaluating poly kernel for C=0.31622776601683794\n"
     ]
    },
    {
     "name": "stderr",
     "output_type": "stream",
     "text": [
      "C:\\Users\\Eric\\anaconda3\\envs\\machine_learning\\lib\\site-packages\\sklearn\\utils\\validation.py:985: DataConversionWarning: A column-vector y was passed when a 1d array was expected. Please change the shape of y to (n_samples, ), for example using ravel().\n",
      "  y = column_or_1d(y, warn=True)\n"
     ]
    },
    {
     "name": "stdout",
     "output_type": "stream",
     "text": [
      "Evaluating poly kernel for C=10.0\n"
     ]
    },
    {
     "name": "stderr",
     "output_type": "stream",
     "text": [
      "C:\\Users\\Eric\\anaconda3\\envs\\machine_learning\\lib\\site-packages\\sklearn\\utils\\validation.py:985: DataConversionWarning: A column-vector y was passed when a 1d array was expected. Please change the shape of y to (n_samples, ), for example using ravel().\n",
      "  y = column_or_1d(y, warn=True)\n",
      "C:\\Users\\Eric\\anaconda3\\envs\\machine_learning\\lib\\site-packages\\sklearn\\svm\\_base.py:289: ConvergenceWarning: Solver terminated early (max_iter=10000).  Consider pre-processing your data with StandardScaler or MinMaxScaler.\n",
      "  ConvergenceWarning,\n"
     ]
    },
    {
     "data": {
      "image/png": "[encoded data removed]",
      "text/plain": [
       "<Figure size 720x360 with 1 Axes>"
      ]
     },
     "metadata": {
      "needs_background": "light"
     },
     "output_type": "display_data"
    },
    {
     "name": "stdout",
     "output_type": "stream",
     "text": [
      "Evaluating rbf kernel for C=0.01\n"
     ]
    },
    {
     "name": "stderr",
     "output_type": "stream",
     "text": [
      "C:\\Users\\Eric\\anaconda3\\envs\\machine_learning\\lib\\site-packages\\sklearn\\utils\\validation.py:985: DataConversionWarning: A column-vector y was passed when a 1d array was expected. Please change the shape of y to (n_samples, ), for example using ravel().\n",
      "  y = column_or_1d(y, warn=True)\n"
     ]
    },
    {
     "name": "stdout",
     "output_type": "stream",
     "text": [
      "Evaluating rbf kernel for C=0.31622776601683794\n"
     ]
    },
    {
     "name": "stderr",
     "output_type": "stream",
     "text": [
      "C:\\Users\\Eric\\anaconda3\\envs\\machine_learning\\lib\\site-packages\\sklearn\\utils\\validation.py:985: DataConversionWarning: A column-vector y was passed when a 1d array was expected. Please change the shape of y to (n_samples, ), for example using ravel().\n",
      "  y = column_or_1d(y, warn=True)\n"
     ]
    },
    {
     "name": "stdout",
     "output_type": "stream",
     "text": [
      "Evaluating rbf kernel for C=10.0\n"
     ]
    },
    {
     "name": "stderr",
     "output_type": "stream",
     "text": [
      "C:\\Users\\Eric\\anaconda3\\envs\\machine_learning\\lib\\site-packages\\sklearn\\utils\\validation.py:985: DataConversionWarning: A column-vector y was passed when a 1d array was expected. Please change the shape of y to (n_samples, ), for example using ravel().\n",
      "  y = column_or_1d(y, warn=True)\n",
      "C:\\Users\\Eric\\anaconda3\\envs\\machine_learning\\lib\\site-packages\\sklearn\\svm\\_base.py:289: ConvergenceWarning: Solver terminated early (max_iter=10000).  Consider pre-processing your data with StandardScaler or MinMaxScaler.\n",
      "  ConvergenceWarning,\n"
     ]
    },
    {
     "data": {
      "image/png": "[encoded data removed]",
      "text/plain": [
       "<Figure size 720x360 with 1 Axes>"
      ]
     },
     "metadata": {
      "needs_background": "light"
     },
     "output_type": "display_data"
    },
    {
     "name": "stdout",
     "output_type": "stream",
     "text": [
      "Evaluating sigmoid kernel for C=0.01\n"
     ]
    },
    {
     "name": "stderr",
     "output_type": "stream",
     "text": [
      "C:\\Users\\Eric\\anaconda3\\envs\\machine_learning\\lib\\site-packages\\sklearn\\utils\\validation.py:985: DataConversionWarning: A column-vector y was passed when a 1d array was expected. Please change the shape of y to (n_samples, ), for example using ravel().\n",
      "  y = column_or_1d(y, warn=True)\n"
     ]
    },
    {
     "name": "stdout",
     "output_type": "stream",
     "text": [
      "Evaluating sigmoid kernel for C=0.31622776601683794\n"
     ]
    },
    {
     "name": "stderr",
     "output_type": "stream",
     "text": [
      "C:\\Users\\Eric\\anaconda3\\envs\\machine_learning\\lib\\site-packages\\sklearn\\utils\\validation.py:985: DataConversionWarning: A column-vector y was passed when a 1d array was expected. Please change the shape of y to (n_samples, ), for example using ravel().\n",
      "  y = column_or_1d(y, warn=True)\n",
      "C:\\Users\\Eric\\anaconda3\\envs\\machine_learning\\lib\\site-packages\\sklearn\\svm\\_base.py:289: ConvergenceWarning: Solver terminated early (max_iter=10000).  Consider pre-processing your data with StandardScaler or MinMaxScaler.\n",
      "  ConvergenceWarning,\n"
     ]
    },
    {
     "name": "stdout",
     "output_type": "stream",
     "text": [
      "Evaluating sigmoid kernel for C=10.0\n"
     ]
    },
    {
     "name": "stderr",
     "output_type": "stream",
     "text": [
      "C:\\Users\\Eric\\anaconda3\\envs\\machine_learning\\lib\\site-packages\\sklearn\\utils\\validation.py:985: DataConversionWarning: A column-vector y was passed when a 1d array was expected. Please change the shape of y to (n_samples, ), for example using ravel().\n",
      "  y = column_or_1d(y, warn=True)\n",
      "C:\\Users\\Eric\\anaconda3\\envs\\machine_learning\\lib\\site-packages\\sklearn\\svm\\_base.py:289: ConvergenceWarning: Solver terminated early (max_iter=10000).  Consider pre-processing your data with StandardScaler or MinMaxScaler.\n",
      "  ConvergenceWarning,\n"
     ]
    },
    {
     "data": {
      "image/png": "[encoded data removed]",
      "text/plain": [
       "<Figure size 720x360 with 1 Axes>"
      ]
     },
     "metadata": {
      "needs_background": "light"
     },
     "output_type": "display_data"
    }
   ],
   "source": [
    "for kernel in ['linear', 'poly', 'rbf', 'sigmoid']:\n",
    "    train_scores = []\n",
    "    val_scores = []\n",
    "    val_space = np.geomspace(start=0.01, stop=10, num=3)\n",
    "    for C in val_space:\n",
    "        print(f\"Evaluating {kernel} kernel for C={C}\")\n",
    "        model = make_pipeline(dataset_transformer(), svm.SVC(C=C, max_iter=10_000, kernel=kernel))\n",
    "\n",
    "        model.fit(X_train, y_train.values.ravel())\n",
    "        train_scores.append(model.score(X_train, y_train.values.ravel()))\n",
    "        val_scores.append(model.score(X_val, y_val.values.ravel()))\n",
    "\n",
    "    plt.title(f'Best C for {kernel}: {val_space[np.argmax(val_scores)]}')\n",
    "    plt.plot(val_space, train_scores, label='Train score')\n",
    "    plt.plot(val_space, val_scores, label='Val score')\n",
    "    # plt.ylim(0, 1.1)\n",
    "    plt.xscale('log')\n",
    "    plt.legend()\n",
    "    plt.show()\n"
   ]
  },
  {
   "cell_type": "code",
   "execution_count": 16,
   "metadata": {},
   "outputs": [],
   "source": [
    "y_pred = model.predict(X_test)\n",
    "precision, recall, fbeta_score, _ = precision_recall_fscore_support(y_test, y_pred, average='binary')"
   ]
  },
  {
   "cell_type": "code",
   "execution_count": 29,
   "metadata": {},
   "outputs": [
    {
     "name": "stdout",
     "output_type": "stream",
     "text": [
      "................................................................................"
     ]
    }
   ],
   "source": [
    "best_config = []\n",
    "best_score = 0\n",
    "best_fit_config = []\n",
    "best_fit_score = 0\n",
    "for estimator in [DecisionTreeClassifier(max_leaf_nodes=3), DecisionTreeClassifier(max_leaf_nodes=5), DecisionTreeClassifier(max_leaf_nodes=62), DecisionTreeClassifier(max_leaf_nodes=124)]:\n",
    "  for nestimators in [10, 31, 62, 93, 124]:\n",
    "    for nsamples in [10, 20, 30, 50]:\n",
    "      clf = make_pipeline(dataset_transformer(), BaggingClassifier(base_estimator=estimator, n_estimators=nestimators, max_samples=nsamples))\n",
    "      clf.fit(X_train, y_train.values.ravel())\n",
    "      \n",
    "      score = clf.score(X_val, y_val.values.ravel())\n",
    "      if(score > best_score):\n",
    "        best_config = [estimator, nestimators, nsamples]\n",
    "        best_score = score\n",
    "      \n",
    "      score = clf.score(X_train, y_train)\n",
    "      if(score > best_fit_score):\n",
    "        best_fit_config = [estimator, nestimators, nsamples]\n",
    "        best_fit_score = score\n",
    "        \n",
    "      print(end='.')"
   ]
  },
  {
   "cell_type": "code",
   "execution_count": 30,
   "metadata": {},
   "outputs": [
    {
     "name": "stdout",
     "output_type": "stream",
     "text": [
      "Best validation: 0.7378415035845767, [DecisionTreeClassifier(max_leaf_nodes=5), 124, 50]\n",
      "Best training: 0.73900406897888, [DecisionTreeClassifier(max_leaf_nodes=5), 124, 50]\n"
     ]
    }
   ],
   "source": [
    "print(f\"Best validation: {best_score}, {best_config}\")\n",
    "print(f\"Best training: {best_fit_score}, {best_fit_config}\")"
   ]
  },
  {
   "cell_type": "code",
   "execution_count": 31,
   "metadata": {},
   "outputs": [
    {
     "data": {
      "text/plain": [
       "0.7473357876380546"
      ]
     },
     "execution_count": 31,
     "metadata": {},
     "output_type": "execute_result"
    }
   ],
   "source": [
    "clf = make_pipeline(dataset_transformer(), DecisionTreeClassifier())\n",
    "clf.fit(X_train, y_train)\n",
    "clf.score(X_val, y_val)"
   ]
  },
  {
   "cell_type": "code",
   "execution_count": null,
   "metadata": {},
   "outputs": [
    {
     "data": {
      "text/plain": [
       "array([[1., 0.]])"
      ]
     },
     "execution_count": 32,
     "metadata": {},
     "output_type": "execute_result"
    }
   ],
   "source": [
    "plt.hist(clf.predict_proba(X_test))"
   ]
  },
  {
   "cell_type": "code",
   "execution_count": 46,
   "metadata": {},
   "outputs": [],
   "source": [
    "X_cv = pd.concat([X_train, X_val])\n",
    "y_cv = pd.concat([y_train, y_val])"
   ]
  },
  {
   "cell_type": "code",
   "execution_count": 48,
   "metadata": {},
   "outputs": [
    {
     "name": "stdout",
     "output_type": "stream",
     "text": [
      "..........................................................................."
     ]
    }
   ],
   "source": [
    "Cs = np.geomspace(0.01, 15, num=75)\n",
    "scores = []\n",
    "for c in Cs:\n",
    "    model = make_pipeline(dataset_transformer(), svm.LinearSVC(dual=False, C=c, max_iter=100_000))\n",
    "    scores.append(cross_val_score(\n",
    "        model, X_cv, y_cv.values.ravel(), cv=5))\n",
    "    print(end='.')\n"
   ]
  },
  {
   "cell_type": "code",
   "execution_count": 49,
   "metadata": {},
   "outputs": [
    {
     "data": {
      "image/png": "[encoded data removed]",
      "text/plain": [
       "<Figure size 720x360 with 1 Axes>"
      ]
     },
     "metadata": {
      "needs_background": "light"
     },
     "output_type": "display_data"
    }
   ],
   "source": [
    "x = Cs\n",
    "plt.errorbar(x, np.mean(scores,axis=1), np.std(scores,axis=1), label='Mean & Std Dev. of CV Score', linewidth=1)\n",
    "plt.plot(x, np.sort(scores, axis=1), linewidth=0.2)\n",
    "plt.legend()\n",
    "plt.xscale('log')\n",
    "plt.xlabel('C')\n",
    "plt.ylabel('Accuracy')\n",
    "plt.title('Cross-Validation Score')\n",
    "plt.show()"
   ]
  },
  {
   "cell_type": "code",
   "execution_count": 50,
   "metadata": {},
   "outputs": [
    {
     "name": "stdout",
     "output_type": "stream",
     "text": [
      "Maximum mean: 0.7238909040047611\n",
      "Corresponding std deviation: 0.0050817615459196296\n",
      "C: 0.01\n"
     ]
    }
   ],
   "source": [
    "print('Maximum mean:', np.max(np.mean(scores,axis=1)))\n",
    "print('Corresponding std deviation:', np.std(scores,axis=1)[np.argmax(np.mean(scores,axis=1))])\n",
    "print('C:',Cs[np.argmax(np.mean(scores,axis=1))])"
   ]
  },
  {
   "cell_type": "code",
   "execution_count": 51,
   "metadata": {},
   "outputs": [
    {
     "name": "stdout",
     "output_type": "stream",
     "text": [
      "Minimum std deviation: 0.004965350097015623\n",
      "Corresponding mean: 0.723600229798307\n",
      "C: 0.011038756465634198\n"
     ]
    }
   ],
   "source": [
    "print('Minimum std deviation:', np.min(np.std(scores,axis=1)))\n",
    "print('Corresponding mean:', np.mean(scores,axis=1)[np.argmin(np.std(scores,axis=1))])\n",
    "print('C:',Cs[np.argmin(np.std(scores,axis=1))])"
   ]
  },
  {
   "cell_type": "code",
   "execution_count": 52,
   "metadata": {},
   "outputs": [],
   "source": [
    "best_mean_cs = np.flip(np.argsort(np.mean(scores,axis=1)))\n",
    "best_std_cs = np.argsort(np.std(scores,axis=1))"
   ]
  },
  {
   "cell_type": "code",
   "execution_count": 56,
   "metadata": {},
   "outputs": [
    {
     "name": "stdout",
     "output_type": "stream",
     "text": [
      "............"
     ]
    }
   ],
   "source": [
    "# Do some random perturbation of the Cs\n",
    "scores = []\n",
    "\n",
    "Cs_to_examine = np.unique(np.concatenate(\n",
    "    (Cs[best_mean_cs[:5]], Cs[best_std_cs[:5]])))\n",
    "Cs_to_examine = np.unique(np.concatenate([Cs_to_examine, np.abs(Cs_to_examine + np.random.normal(scale=0.2,size=len(Cs_to_examine)))]))\n",
    "\n",
    "for c in Cs_to_examine:\n",
    "    model = make_pipeline(dataset_transformer(), svm.LinearSVC(dual=False, C=c, max_iter=100_000))\n",
    "    \n",
    "    scores.append(cross_val_score(\n",
    "        model, X_cv, y_cv.values.ravel(), cv=100, n_jobs=-1))\n",
    "    \n",
    "    print(end='.')"
   ]
  },
  {
   "cell_type": "code",
   "execution_count": 57,
   "metadata": {},
   "outputs": [
    {
     "data": {
      "image/png": "[encoded data removed]",
      "text/plain": [
       "<Figure size 720x360 with 1 Axes>"
      ]
     },
     "metadata": {
      "needs_background": "light"
     },
     "output_type": "display_data"
    }
   ],
   "source": [
    "x = Cs_to_examine\n",
    "quantiles = [0, 0.1, 0.2, 0.3, 0.4, 0.6, 0.8, 1.0]\n",
    "plt.errorbar(x, np.mean(scores,axis=1), np.std(scores,axis=1), label='Mean & Std Dev. of CV Score', linewidth=1)\n",
    "plt.plot(x, np.quantile(scores, quantiles, axis=1).T, linewidth=0.2)\n",
    "plt.legend()\n",
    "plt.xscale('log')\n",
    "plt.xlabel('C')\n",
    "plt.ylabel('Accuracy')\n",
    "plt.title('Cross-Validation Score')\n",
    "plt.show()"
   ]
  },
  {
   "cell_type": "code",
   "execution_count": 58,
   "metadata": {},
   "outputs": [
    {
     "name": "stdout",
     "output_type": "stream",
     "text": [
      "Best C=0.01 with mean=0.7241297312508793, std=0.03340201460025943\n"
     ]
    }
   ],
   "source": [
    "best_mean_idx = np.argmax(np.mean(scores,axis=1))\n",
    "\n",
    "print(f'Best C={Cs_to_examine[best_mean_idx]} with mean={np.mean(scores,axis=1)[best_mean_idx]}, std={np.std(scores,axis=1)[best_mean_idx]}')"
   ]
  },
  {
   "cell_type": "code",
   "execution_count": 59,
   "metadata": {},
   "outputs": [
    {
     "name": "stderr",
     "output_type": "stream",
     "text": [
      "C:\\Users\\Eric\\anaconda3\\envs\\machine_learning\\lib\\site-packages\\sklearn\\utils\\validation.py:985: DataConversionWarning: A column-vector y was passed when a 1d array was expected. Please change the shape of y to (n_samples, ), for example using ravel().\n",
      "  y = column_or_1d(y, warn=True)\n"
     ]
    },
    {
     "data": {
      "text/plain": [
       "0.7216195273149942"
      ]
     },
     "execution_count": 59,
     "metadata": {},
     "output_type": "execute_result"
    }
   ],
   "source": [
    "# Train the best model.\n",
    "\n",
    "model = make_pipeline(dataset_transformer(),\n",
    "    svm.LinearSVC(dual=False, C=Cs_to_examine[best_mean_idx], max_iter=100_000))\n",
    "model.fit(X_cv, y_cv)\n",
    "model.score(X_test, y_test)"
   ]
  },
  {
   "cell_type": "code",
   "execution_count": 60,
   "metadata": {},
   "outputs": [
    {
     "data": {
      "image/png": "[encoded data removed]",
      "text/plain": [
       "<Figure size 720x360 with 1 Axes>"
      ]
     },
     "metadata": {
      "needs_background": "light"
     },
     "output_type": "display_data"
    }
   ],
   "source": [
    "coefs = model[1].coef_[0]\n",
    "plt.scatter(x=np.arange(len(coefs)),y=coefs)\n",
    "plt.show()"
   ]
  },
  {
   "cell_type": "code",
   "execution_count": 62,
   "metadata": {},
   "outputs": [],
   "source": [
    "model.fit(X, y.values.ravel())\n",
    "confidences = model.decision_function(X)"
   ]
  },
  {
   "cell_type": "code",
   "execution_count": 63,
   "metadata": {},
   "outputs": [
    {
     "data": {
      "text/plain": [
       "(array([1.000e+00, 5.000e+00, 1.300e+01, 1.800e+01, 8.600e+01, 1.260e+02,\n",
       "        2.780e+02, 4.240e+02, 6.270e+02, 8.660e+02, 1.357e+03, 3.342e+03,\n",
       "        7.330e+03, 5.969e+03, 2.196e+03, 1.051e+03, 8.030e+02, 5.770e+02,\n",
       "        3.280e+02, 2.120e+02, 1.180e+02, 4.600e+01, 2.100e+01, 7.000e+00,\n",
       "        5.000e+00]),\n",
       " array([-5.06794629, -4.67332178, -4.27869727, -3.88407276, -3.48944825,\n",
       "        -3.09482374, -2.70019923, -2.30557472, -1.91095021, -1.5163257 ,\n",
       "        -1.12170119, -0.72707668, -0.33245217,  0.06217234,  0.45679685,\n",
       "         0.85142136,  1.24604587,  1.64067038,  2.03529489,  2.4299194 ,\n",
       "         2.82454391,  3.21916842,  3.61379293,  4.00841744,  4.40304195,\n",
       "         4.79766646]),\n",
       " <BarContainer object of 25 artists>)"
      ]
     },
     "execution_count": 63,
     "metadata": {},
     "output_type": "execute_result"
    },
    {
     "data": {
      "image/png": "[encoded data removed]",
      "text/plain": [
       "<Figure size 720x360 with 1 Axes>"
      ]
     },
     "metadata": {
      "needs_background": "light"
     },
     "output_type": "display_data"
    }
   ],
   "source": [
    "plt.hist(confidences, bins=25)"
   ]
  },
  {
   "cell_type": "code",
   "execution_count": 64,
   "metadata": {},
   "outputs": [
    {
     "data": {
      "text/plain": [
       "(array([1.000e+00, 0.000e+00, 4.000e+00, 8.800e+01, 7.820e+02, 2.896e+03,\n",
       "        5.333e+03, 5.400e+03, 3.387e+03, 2.047e+03, 1.447e+03, 1.204e+03,\n",
       "        9.180e+02, 7.880e+02, 4.870e+02, 4.000e+02, 2.600e+02, 1.580e+02,\n",
       "        1.090e+02, 4.100e+01, 2.400e+01, 2.000e+01, 6.000e+00, 4.000e+00,\n",
       "        2.000e+00]),\n",
       " array([-1.81807596, -1.54263507, -1.26719418, -0.99175329, -0.7163124 ,\n",
       "        -0.44087151, -0.16543062,  0.11001027,  0.38545116,  0.66089205,\n",
       "         0.93633294,  1.21177383,  1.48721472,  1.76265561,  2.0380965 ,\n",
       "         2.31353739,  2.58897828,  2.86441917,  3.13986006,  3.41530095,\n",
       "         3.69074184,  3.96618273,  4.24162362,  4.51706451,  4.7925054 ,\n",
       "         5.06794629]),\n",
       " <BarContainer object of 25 artists>)"
      ]
     },
     "execution_count": 64,
     "metadata": {},
     "output_type": "execute_result"
    },
    {
     "data": {
      "image/png": "[encoded data removed]",
      "text/plain": [
       "<Figure size 720x360 with 1 Axes>"
      ]
     },
     "metadata": {
      "needs_background": "light"
     },
     "output_type": "display_data"
    }
   ],
   "source": [
    "plt.hist(confidences * (2 * y.to_numpy().ravel() - 1), bins=25)"
   ]
  },
  {
   "cell_type": "code",
   "execution_count": null,
   "metadata": {},
   "outputs": [],
   "source": []
  }
 ],
 "metadata": {
  "interpreter": {
   "hash": "43ec02794a5c6caca2187426f9bfbca63869e8dd5c007b90979db8c1bb48c23c"
  },
  "kernelspec": {
   "display_name": "Python 3.7.11 64-bit ('machine_learning': conda)",
   "language": "python",
   "name": "python3"
  },
  "language_info": {
   "codemirror_mode": {
    "name": "ipython",
    "version": 3
   },
   "file_extension": ".py",
   "mimetype": "text/x-python",
   "name": "python",
   "nbconvert_exporter": "python",
   "pygments_lexer": "ipython3",
   "version": "3.7.11"
  },
  "orig_nbformat": 4
 },
 "nbformat": 4,
 "nbformat_minor": 2
}

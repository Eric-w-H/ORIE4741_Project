{
 "cells": [
  {
   "cell_type": "code",
   "execution_count": 1,
   "metadata": {},
   "outputs": [],
   "source": [
    "import os\n",
    "import numpy as np\n",
    "import pandas as pd\n",
    "from matplotlib import pyplot as plt\n",
    "import matplotlib as mpl\n",
    "\n",
    "width, height = 10, 5\n",
    "mpl.rcParams['figure.figsize'] = [width, height]"
   ]
  },
  {
   "cell_type": "code",
   "execution_count": 2,
   "metadata": {},
   "outputs": [],
   "source": [
    "from sklearn import svm\n",
    "from sklearn import pipeline\n",
    "from sklearn import preprocessing\n",
    "from sklearn import model_selection\n",
    "\n",
    "from utility_fns import form_last_n_games\n"
   ]
  },
  {
   "cell_type": "code",
   "execution_count": 3,
   "metadata": {},
   "outputs": [],
   "source": [
    "\n",
    "basedir = os.path.dirname(os.getcwd())\n",
    "data = os.path.join(basedir, 'data','derived','cleaned_matches.csv')\n",
    "cleaned_matches = pd.read_csv(data)"
   ]
  },
  {
   "cell_type": "code",
   "execution_count": 4,
   "metadata": {},
   "outputs": [
    {
     "name": "stdout",
     "output_type": "stream",
     "text": [
      "<class 'pandas.core.frame.DataFrame'>\n",
      "Int64Index: 26122 entries, 0 to 26121\n",
      "Data columns (total 19 columns):\n",
      " #   Column          Non-Null Count  Dtype         \n",
      "---  ------          --------------  -----         \n",
      " 0   Day             26122 non-null  object        \n",
      " 1   Date            26122 non-null  datetime64[ns]\n",
      " 2   Home/Away       26122 non-null  object        \n",
      " 3   Opponent        26122 non-null  object        \n",
      " 4   Score           26122 non-null  object        \n",
      " 5   W/L/T           26122 non-null  object        \n",
      " 6   Overtime        948 non-null    object        \n",
      " 7   Location        26122 non-null  object        \n",
      " 8   Venue           26122 non-null  object        \n",
      " 9   Attendance      26098 non-null  float64       \n",
      " 10  Notes           1061 non-null   object        \n",
      " 11  Opponent Code   26122 non-null  object        \n",
      " 12  Team            26122 non-null  object        \n",
      " 13  Team Code       26122 non-null  object        \n",
      " 14  Team Score      25942 non-null  float64       \n",
      " 15  Opponent Score  25942 non-null  float64       \n",
      " 16  Score Sum       25942 non-null  float64       \n",
      " 17  Score Diff      25942 non-null  float64       \n",
      " 18  Class           26122 non-null  int64         \n",
      "dtypes: datetime64[ns](1), float64(5), int64(1), object(12)\n",
      "memory usage: 4.0+ MB\n"
     ]
    }
   ],
   "source": [
    "cleaned_matches.Date = pd.to_datetime(cleaned_matches.Date)\n",
    "cleaned_matches.sort_values(by='Date',inplace=True,ascending=True)\n",
    "cleaned_matches.info()"
   ]
  },
  {
   "cell_type": "markdown",
   "metadata": {},
   "source": [
    "## Train to classify based on the last-n-games a team played"
   ]
  },
  {
   "cell_type": "code",
   "execution_count": 5,
   "metadata": {},
   "outputs": [
    {
     "name": "stderr",
     "output_type": "stream",
     "text": [
      "c:\\Users\\Eric\\Documents\\Cornell\\Coursework\\ORIE 4741\\ORIE4741_Project\\models\\utility_fns.py:6: NumbaWarning: \u001b[1m\n",
      "Compilation is falling back to object mode WITH looplifting enabled because Internal error in pre-inference rewriting pass encountered during compilation of function \"form_last_n_games\" due to: \u001b[1mNumba's print() function implementation does not support keyword arguments.\n",
      "\u001b[1m\n",
      "File \"utility_fns.py\", line 49:\u001b[0m\n",
      "\u001b[1mdef form_last_n_games(df: pd.DataFrame, n: int, cols_to_grab=['Class'], lookup_cols=['Team Code']):\n",
      "    <source elided>\n",
      "            step_idx += 1\n",
      "\u001b[1m            print(end='.')\n",
      "\u001b[0m            \u001b[1m^\u001b[0m\u001b[0m\n",
      "\u001b[0m\u001b[0m\n",
      "  @jit\n",
      "c:\\Users\\Eric\\Documents\\Cornell\\Coursework\\ORIE 4741\\ORIE4741_Project\\models\\utility_fns.py:6: NumbaWarning: \u001b[1m\n",
      "Compilation is falling back to object mode WITHOUT looplifting enabled because Function \"form_last_n_games\" failed type inference due to: \u001b[1m\u001b[1mCannot determine Numba type of <class 'numba.core.dispatcher.LiftedLoop'>\u001b[0m\n",
      "\u001b[1m\n",
      "File \"utility_fns.py\", line 24:\u001b[0m\n",
      "\u001b[1mdef form_last_n_games(df: pd.DataFrame, n: int, cols_to_grab=['Class'], lookup_cols=['Team Code']):\n",
      "    <source elided>\n",
      "    lookup_dict = {}\n",
      "\u001b[1m    for index, row in df.iterrows():\n",
      "\u001b[0m    \u001b[1m^\u001b[0m\u001b[0m\n",
      "\u001b[0m\u001b[0m\n",
      "  @jit\n",
      "C:\\Users\\Eric\\anaconda3\\envs\\machine_learning\\lib\\site-packages\\numba\\core\\object_mode_passes.py:152: NumbaWarning: \u001b[1mFunction \"form_last_n_games\" was compiled in object mode without forceobj=True, but has lifted loops.\n",
      "\u001b[1m\n",
      "File \"utility_fns.py\", line 13:\u001b[0m\n",
      "\u001b[1mdef form_last_n_games(df: pd.DataFrame, n: int, cols_to_grab=['Class'], lookup_cols=['Team Code']):\n",
      "    <source elided>\n",
      "\n",
      "\u001b[1m    steps = np.linspace(0, len(df), num=50, dtype=int)\n",
      "\u001b[0m    \u001b[1m^\u001b[0m\u001b[0m\n",
      "\u001b[0m\n",
      "  state.func_ir.loc))\n",
      "C:\\Users\\Eric\\anaconda3\\envs\\machine_learning\\lib\\site-packages\\numba\\core\\object_mode_passes.py:162: NumbaDeprecationWarning: \u001b[1m\n",
      "Fall-back from the nopython compilation path to the object mode compilation path has been detected, this is deprecated behaviour.\n",
      "\n",
      "For more information visit https://numba.pydata.org/numba-doc/latest/reference/deprecation.html#deprecation-of-object-mode-fall-back-behaviour-when-using-jit\n",
      "\u001b[1m\n",
      "File \"utility_fns.py\", line 13:\u001b[0m\n",
      "\u001b[1mdef form_last_n_games(df: pd.DataFrame, n: int, cols_to_grab=['Class'], lookup_cols=['Team Code']):\n",
      "    <source elided>\n",
      "\n",
      "\u001b[1m    steps = np.linspace(0, len(df), num=50, dtype=int)\n",
      "\u001b[0m    \u001b[1m^\u001b[0m\u001b[0m\n",
      "\u001b[0m\n",
      "  state.func_ir.loc))\n",
      "c:\\Users\\Eric\\Documents\\Cornell\\Coursework\\ORIE 4741\\ORIE4741_Project\\models\\utility_fns.py:6: NumbaWarning: \u001b[1m\n",
      "Compilation is falling back to object mode WITHOUT looplifting enabled because Function \"form_last_n_games\" failed type inference due to: \u001b[1mUntyped global name 'deque':\u001b[0m \u001b[1m\u001b[1mCannot determine Numba type of <class 'type'>\u001b[0m\n",
      "\u001b[1m\n",
      "File \"utility_fns.py\", line 30:\u001b[0m\n",
      "\u001b[1mdef form_last_n_games(df: pd.DataFrame, n: int, cols_to_grab=['Class'], lookup_cols=['Team Code']):\n",
      "    <source elided>\n",
      "            lkup_key = row[lookup]\n",
      "\u001b[1m            last_n = lookup_dict.get(lkup_key, deque(maxlen=n))\n",
      "\u001b[0m            \u001b[1m^\u001b[0m\u001b[0m\n",
      "\u001b[0m\u001b[0m\n",
      "  @jit\n",
      "C:\\Users\\Eric\\anaconda3\\envs\\machine_learning\\lib\\site-packages\\numba\\core\\object_mode_passes.py:152: NumbaWarning: \u001b[1mFunction \"form_last_n_games\" was compiled in object mode without forceobj=True.\n",
      "\u001b[1m\n",
      "File \"utility_fns.py\", line 24:\u001b[0m\n",
      "\u001b[1mdef form_last_n_games(df: pd.DataFrame, n: int, cols_to_grab=['Class'], lookup_cols=['Team Code']):\n",
      "    <source elided>\n",
      "    lookup_dict = {}\n",
      "\u001b[1m    for index, row in df.iterrows():\n",
      "\u001b[0m    \u001b[1m^\u001b[0m\u001b[0m\n",
      "\u001b[0m\n",
      "  state.func_ir.loc))\n",
      "C:\\Users\\Eric\\anaconda3\\envs\\machine_learning\\lib\\site-packages\\numba\\core\\object_mode_passes.py:162: NumbaDeprecationWarning: \u001b[1m\n",
      "Fall-back from the nopython compilation path to the object mode compilation path has been detected, this is deprecated behaviour.\n",
      "\n",
      "For more information visit https://numba.pydata.org/numba-doc/latest/reference/deprecation.html#deprecation-of-object-mode-fall-back-behaviour-when-using-jit\n",
      "\u001b[1m\n",
      "File \"utility_fns.py\", line 24:\u001b[0m\n",
      "\u001b[1mdef form_last_n_games(df: pd.DataFrame, n: int, cols_to_grab=['Class'], lookup_cols=['Team Code']):\n",
      "    <source elided>\n",
      "    lookup_dict = {}\n",
      "\u001b[1m    for index, row in df.iterrows():\n",
      "\u001b[0m    \u001b[1m^\u001b[0m\u001b[0m\n",
      "\u001b[0m\n",
      "  state.func_ir.loc))\n",
      "C:\\Users\\Eric\\anaconda3\\envs\\machine_learning\\lib\\site-packages\\ipykernel_launcher.py:11: DeprecationWarning: The default dtype for empty Series will be 'object' instead of 'float64' in a future version. Specify a dtype explicitly to silence this warning.\n",
      "  # This is added back by InteractiveShellApp.init_path()\n"
     ]
    },
    {
     "name": "stdout",
     "output_type": "stream",
     "text": [
      "................................................."
     ]
    }
   ],
   "source": [
    "x_cols = [\n",
    "  'Team Code',\n",
    "  'Opponent Code',\n",
    "]\n",
    "y_cols = [\n",
    "  'Class'\n",
    "]\n",
    "\n",
    "played_matches = cleaned_matches.dropna(axis=0, how='any', subset=x_cols + y_cols)\n",
    "\n",
    "last_1_match, new_columns = form_last_n_games(played_matches, 5, ['Class'])"
   ]
  },
  {
   "cell_type": "code",
   "execution_count": 6,
   "metadata": {},
   "outputs": [],
   "source": [
    "\n",
    "X = pd.concat([pd.get_dummies(last_1_match[xcol],prefix='_'.join(xcol.split())+'_') for xcol in x_cols] + [last_1_match[new_columns]], axis=1)\n",
    "y = last_1_match[y_cols]\n"
   ]
  },
  {
   "cell_type": "code",
   "execution_count": 7,
   "metadata": {},
   "outputs": [
    {
     "data": {
      "text/html": [
       "<div>\n",
       "<style scoped>\n",
       "    .dataframe tbody tr th:only-of-type {\n",
       "        vertical-align: middle;\n",
       "    }\n",
       "\n",
       "    .dataframe tbody tr th {\n",
       "        vertical-align: top;\n",
       "    }\n",
       "\n",
       "    .dataframe thead th {\n",
       "        text-align: right;\n",
       "    }\n",
       "</style>\n",
       "<table border=\"1\" class=\"dataframe\">\n",
       "  <thead>\n",
       "    <tr style=\"text-align: right;\">\n",
       "      <th></th>\n",
       "      <th>Team_Code__ari</th>\n",
       "      <th>Team_Code__atl</th>\n",
       "      <th>Team_Code__bal</th>\n",
       "      <th>Team_Code__buf</th>\n",
       "      <th>Team_Code__chib</th>\n",
       "      <th>Team_Code__chic</th>\n",
       "      <th>Team_Code__cin</th>\n",
       "      <th>Team_Code__cle</th>\n",
       "      <th>Team_Code__dal</th>\n",
       "      <th>Team_Code__den</th>\n",
       "      <th>...</th>\n",
       "      <th>Opponent_Code__sea</th>\n",
       "      <th>Opponent_Code__sf</th>\n",
       "      <th>Opponent_Code__stl</th>\n",
       "      <th>Opponent_Code__tb</th>\n",
       "      <th>Opponent_Code__was</th>\n",
       "      <th>Team Code_p_Class</th>\n",
       "      <th>Team Code_pp_Class</th>\n",
       "      <th>Team Code_ppp_Class</th>\n",
       "      <th>Team Code_pppp_Class</th>\n",
       "      <th>Team Code_ppppp_Class</th>\n",
       "    </tr>\n",
       "  </thead>\n",
       "  <tbody>\n",
       "    <tr>\n",
       "      <th>25</th>\n",
       "      <td>0</td>\n",
       "      <td>0</td>\n",
       "      <td>0</td>\n",
       "      <td>0</td>\n",
       "      <td>0</td>\n",
       "      <td>1</td>\n",
       "      <td>0</td>\n",
       "      <td>0</td>\n",
       "      <td>0</td>\n",
       "      <td>0</td>\n",
       "      <td>...</td>\n",
       "      <td>0</td>\n",
       "      <td>0</td>\n",
       "      <td>0</td>\n",
       "      <td>0</td>\n",
       "      <td>0</td>\n",
       "      <td>1.0</td>\n",
       "      <td>1.0</td>\n",
       "      <td>0.0</td>\n",
       "      <td>1.0</td>\n",
       "      <td>1.0</td>\n",
       "    </tr>\n",
       "    <tr>\n",
       "      <th>29</th>\n",
       "      <td>0</td>\n",
       "      <td>0</td>\n",
       "      <td>0</td>\n",
       "      <td>0</td>\n",
       "      <td>0</td>\n",
       "      <td>1</td>\n",
       "      <td>0</td>\n",
       "      <td>0</td>\n",
       "      <td>0</td>\n",
       "      <td>0</td>\n",
       "      <td>...</td>\n",
       "      <td>0</td>\n",
       "      <td>0</td>\n",
       "      <td>0</td>\n",
       "      <td>0</td>\n",
       "      <td>0</td>\n",
       "      <td>1.0</td>\n",
       "      <td>1.0</td>\n",
       "      <td>1.0</td>\n",
       "      <td>0.0</td>\n",
       "      <td>1.0</td>\n",
       "    </tr>\n",
       "    <tr>\n",
       "      <th>31</th>\n",
       "      <td>0</td>\n",
       "      <td>0</td>\n",
       "      <td>0</td>\n",
       "      <td>0</td>\n",
       "      <td>0</td>\n",
       "      <td>1</td>\n",
       "      <td>0</td>\n",
       "      <td>0</td>\n",
       "      <td>0</td>\n",
       "      <td>0</td>\n",
       "      <td>...</td>\n",
       "      <td>0</td>\n",
       "      <td>0</td>\n",
       "      <td>0</td>\n",
       "      <td>0</td>\n",
       "      <td>0</td>\n",
       "      <td>1.0</td>\n",
       "      <td>1.0</td>\n",
       "      <td>1.0</td>\n",
       "      <td>1.0</td>\n",
       "      <td>0.0</td>\n",
       "    </tr>\n",
       "    <tr>\n",
       "      <th>32</th>\n",
       "      <td>0</td>\n",
       "      <td>0</td>\n",
       "      <td>0</td>\n",
       "      <td>1</td>\n",
       "      <td>0</td>\n",
       "      <td>0</td>\n",
       "      <td>0</td>\n",
       "      <td>0</td>\n",
       "      <td>0</td>\n",
       "      <td>0</td>\n",
       "      <td>...</td>\n",
       "      <td>0</td>\n",
       "      <td>0</td>\n",
       "      <td>0</td>\n",
       "      <td>0</td>\n",
       "      <td>0</td>\n",
       "      <td>-1.0</td>\n",
       "      <td>-1.0</td>\n",
       "      <td>1.0</td>\n",
       "      <td>1.0</td>\n",
       "      <td>1.0</td>\n",
       "    </tr>\n",
       "    <tr>\n",
       "      <th>33</th>\n",
       "      <td>0</td>\n",
       "      <td>0</td>\n",
       "      <td>0</td>\n",
       "      <td>0</td>\n",
       "      <td>0</td>\n",
       "      <td>1</td>\n",
       "      <td>0</td>\n",
       "      <td>0</td>\n",
       "      <td>0</td>\n",
       "      <td>0</td>\n",
       "      <td>...</td>\n",
       "      <td>0</td>\n",
       "      <td>0</td>\n",
       "      <td>0</td>\n",
       "      <td>0</td>\n",
       "      <td>0</td>\n",
       "      <td>1.0</td>\n",
       "      <td>1.0</td>\n",
       "      <td>1.0</td>\n",
       "      <td>1.0</td>\n",
       "      <td>1.0</td>\n",
       "    </tr>\n",
       "  </tbody>\n",
       "</table>\n",
       "<p>5 rows × 67 columns</p>\n",
       "</div>"
      ],
      "text/plain": [
       "    Team_Code__ari  Team_Code__atl  Team_Code__bal  Team_Code__buf  \\\n",
       "25               0               0               0               0   \n",
       "29               0               0               0               0   \n",
       "31               0               0               0               0   \n",
       "32               0               0               0               1   \n",
       "33               0               0               0               0   \n",
       "\n",
       "    Team_Code__chib  Team_Code__chic  Team_Code__cin  Team_Code__cle  \\\n",
       "25                0                1               0               0   \n",
       "29                0                1               0               0   \n",
       "31                0                1               0               0   \n",
       "32                0                0               0               0   \n",
       "33                0                1               0               0   \n",
       "\n",
       "    Team_Code__dal  Team_Code__den  ...  Opponent_Code__sea  \\\n",
       "25               0               0  ...                   0   \n",
       "29               0               0  ...                   0   \n",
       "31               0               0  ...                   0   \n",
       "32               0               0  ...                   0   \n",
       "33               0               0  ...                   0   \n",
       "\n",
       "    Opponent_Code__sf  Opponent_Code__stl  Opponent_Code__tb  \\\n",
       "25                  0                   0                  0   \n",
       "29                  0                   0                  0   \n",
       "31                  0                   0                  0   \n",
       "32                  0                   0                  0   \n",
       "33                  0                   0                  0   \n",
       "\n",
       "    Opponent_Code__was  Team Code_p_Class  Team Code_pp_Class  \\\n",
       "25                   0                1.0                 1.0   \n",
       "29                   0                1.0                 1.0   \n",
       "31                   0                1.0                 1.0   \n",
       "32                   0               -1.0                -1.0   \n",
       "33                   0                1.0                 1.0   \n",
       "\n",
       "    Team Code_ppp_Class  Team Code_pppp_Class  Team Code_ppppp_Class  \n",
       "25                  0.0                   1.0                    1.0  \n",
       "29                  1.0                   0.0                    1.0  \n",
       "31                  1.0                   1.0                    0.0  \n",
       "32                  1.0                   1.0                    1.0  \n",
       "33                  1.0                   1.0                    1.0  \n",
       "\n",
       "[5 rows x 67 columns]"
      ]
     },
     "execution_count": 7,
     "metadata": {},
     "output_type": "execute_result"
    }
   ],
   "source": [
    "X.head()"
   ]
  },
  {
   "cell_type": "code",
   "execution_count": 8,
   "metadata": {},
   "outputs": [
    {
     "data": {
      "text/html": [
       "<div>\n",
       "<style scoped>\n",
       "    .dataframe tbody tr th:only-of-type {\n",
       "        vertical-align: middle;\n",
       "    }\n",
       "\n",
       "    .dataframe tbody tr th {\n",
       "        vertical-align: top;\n",
       "    }\n",
       "\n",
       "    .dataframe thead th {\n",
       "        text-align: right;\n",
       "    }\n",
       "</style>\n",
       "<table border=\"1\" class=\"dataframe\">\n",
       "  <thead>\n",
       "    <tr style=\"text-align: right;\">\n",
       "      <th></th>\n",
       "      <th>Class</th>\n",
       "    </tr>\n",
       "  </thead>\n",
       "  <tbody>\n",
       "    <tr>\n",
       "      <th>25</th>\n",
       "      <td>1</td>\n",
       "    </tr>\n",
       "    <tr>\n",
       "      <th>29</th>\n",
       "      <td>1</td>\n",
       "    </tr>\n",
       "    <tr>\n",
       "      <th>31</th>\n",
       "      <td>1</td>\n",
       "    </tr>\n",
       "    <tr>\n",
       "      <th>32</th>\n",
       "      <td>-1</td>\n",
       "    </tr>\n",
       "    <tr>\n",
       "      <th>33</th>\n",
       "      <td>1</td>\n",
       "    </tr>\n",
       "  </tbody>\n",
       "</table>\n",
       "</div>"
      ],
      "text/plain": [
       "    Class\n",
       "25      1\n",
       "29      1\n",
       "31      1\n",
       "32     -1\n",
       "33      1"
      ]
     },
     "execution_count": 8,
     "metadata": {},
     "output_type": "execute_result"
    }
   ],
   "source": [
    "y.head()"
   ]
  },
  {
   "cell_type": "code",
   "execution_count": 9,
   "metadata": {},
   "outputs": [],
   "source": [
    "y=y.dropna()\n",
    "X=X.dropna()"
   ]
  },
  {
   "cell_type": "code",
   "execution_count": 10,
   "metadata": {},
   "outputs": [
    {
     "name": "stdout",
     "output_type": "stream",
     "text": [
      "(15579, 67) (15579,)\n",
      "(5194, 67) (5194,)\n",
      "(5194, 67) (5194,)\n"
     ]
    }
   ],
   "source": [
    "X_train, X_test, y_train, y_test = model_selection.train_test_split(\n",
    "  X.to_numpy(), y.to_numpy(), test_size=0.2, random_state=0\n",
    ")\n",
    "\n",
    "\n",
    "X_train, X_val, y_train, y_val = model_selection.train_test_split(\n",
    "  X_train, y_train, test_size=0.25\n",
    ")\n",
    "\n",
    "y_train=y_train.ravel()\n",
    "y_val=y_val.ravel()\n",
    "y_test=y_test.ravel()\n",
    "\n",
    "print(X_train.shape, y_train.shape)\n",
    "print(X_val.shape, y_val.shape)\n",
    "print(X_test.shape, y_test.shape)"
   ]
  },
  {
   "cell_type": "code",
   "execution_count": 11,
   "metadata": {},
   "outputs": [
    {
     "name": "stdout",
     "output_type": "stream",
     "text": [
      "Evaluating linear kernel for C=0.01\n",
      "Evaluating linear kernel for C=0.03760603093086394\n",
      "Evaluating linear kernel for C=0.1414213562373095\n"
     ]
    },
    {
     "name": "stderr",
     "output_type": "stream",
     "text": [
      "C:\\Users\\Eric\\anaconda3\\envs\\machine_learning\\lib\\site-packages\\sklearn\\svm\\_base.py:289: ConvergenceWarning: Solver terminated early (max_iter=10000).  Consider pre-processing your data with StandardScaler or MinMaxScaler.\n",
      "  ConvergenceWarning,\n"
     ]
    },
    {
     "name": "stdout",
     "output_type": "stream",
     "text": [
      "Evaluating linear kernel for C=0.5318295896944989\n"
     ]
    },
    {
     "name": "stderr",
     "output_type": "stream",
     "text": [
      "C:\\Users\\Eric\\anaconda3\\envs\\machine_learning\\lib\\site-packages\\sklearn\\svm\\_base.py:289: ConvergenceWarning: Solver terminated early (max_iter=10000).  Consider pre-processing your data with StandardScaler or MinMaxScaler.\n",
      "  ConvergenceWarning,\n"
     ]
    },
    {
     "name": "stdout",
     "output_type": "stream",
     "text": [
      "Evaluating linear kernel for C=2.0\n"
     ]
    },
    {
     "name": "stderr",
     "output_type": "stream",
     "text": [
      "C:\\Users\\Eric\\anaconda3\\envs\\machine_learning\\lib\\site-packages\\sklearn\\svm\\_base.py:289: ConvergenceWarning: Solver terminated early (max_iter=10000).  Consider pre-processing your data with StandardScaler or MinMaxScaler.\n",
      "  ConvergenceWarning,\n"
     ]
    },
    {
     "data": {
      "image/png": "[encoded data removed]",
      "text/plain": [
       "<Figure size 720x360 with 1 Axes>"
      ]
     },
     "metadata": {
      "needs_background": "light"
     },
     "output_type": "display_data"
    }
   ],
   "source": [
    "for kernel in ['linear']: #, 'poly','rbf','sigmoid']:\n",
    "  train_scores = []\n",
    "  val_scores = []\n",
    "  val_space = np.geomspace(start=0.01, stop=2, num=5)\n",
    "  for C in val_space:\n",
    "    print(f\"Evaluating {kernel} kernel for C={C}\")\n",
    "    model = pipeline.make_pipeline(\n",
    "      # preprocessing.MinMaxScaler(),\n",
    "      svm.SVC(C=C,max_iter=10_000,kernel=kernel),\n",
    "    )\n",
    "\n",
    "    model.fit(X_train, y_train)\n",
    "    train_scores.append(model.score(X_train, y_train))\n",
    "    val_scores.append(model.score(X_val, y_val))\n",
    "\n",
    "  plt.title(kernel)\n",
    "  plt.plot(val_space, train_scores, label='Train score')\n",
    "  plt.plot(val_space, val_scores, label='Val score')\n",
    "  plt.ylim(0, 1)\n",
    "  plt.legend()\n",
    "  plt.show()"
   ]
  },
  {
   "cell_type": "code",
   "execution_count": 12,
   "metadata": {},
   "outputs": [
    {
     "data": {
      "text/plain": [
       "array([[ 2.20263079, -0.22222054,  1.10339031]])"
      ]
     },
     "execution_count": 12,
     "metadata": {},
     "output_type": "execute_result"
    }
   ],
   "source": [
    "model.decision_function(X_test[0:1])"
   ]
  },
  {
   "cell_type": "code",
   "execution_count": 13,
   "metadata": {},
   "outputs": [
    {
     "name": "stdout",
     "output_type": "stream",
     "text": [
      "................................................................................"
     ]
    }
   ],
   "source": [
    "from sklearn.ensemble import BaggingRegressor\n",
    "from sklearn.tree import DecisionTreeRegressor\n",
    "from sklearn.tree import DecisionTreeClassifier\n",
    "\n",
    "best_config = []\n",
    "best_score = 0\n",
    "best_fit_config = []\n",
    "best_fit_score = 0\n",
    "for estimator in [DecisionTreeClassifier(max_leaf_nodes=3), DecisionTreeClassifier(max_leaf_nodes=5), DecisionTreeClassifier(max_leaf_nodes=62), DecisionTreeClassifier(max_leaf_nodes=124)]:\n",
    "  for nestimators in [10, 31, 62, 93, 124]:\n",
    "    for nsamples in [10, 20, 30, 50]:\n",
    "      regressor = BaggingRegressor(base_estimator=estimator, n_estimators=nestimators, max_samples=nsamples)\n",
    "      regressor.fit(X_train, y_train)\n",
    "      \n",
    "      score = regressor.score(X_val, y_val)\n",
    "      if(score > best_score):\n",
    "        best_config = [estimator, nestimators, nsamples]\n",
    "        best_score = score\n",
    "      \n",
    "      score = regressor.score(X_train, y_train)\n",
    "      if(score > best_fit_score):\n",
    "        best_fit_config = [estimator, nestimators, nsamples]\n",
    "        best_fit_score = score\n",
    "        \n",
    "      print(end='.')"
   ]
  },
  {
   "cell_type": "code",
   "execution_count": 14,
   "metadata": {},
   "outputs": [
    {
     "name": "stdout",
     "output_type": "stream",
     "text": [
      "Best validation: 0.026101124829811972, [DecisionTreeClassifier(max_leaf_nodes=62), 124, 50]\n",
      "Best training: 0.0397171788985784, [DecisionTreeClassifier(max_leaf_nodes=62), 124, 50]\n"
     ]
    }
   ],
   "source": [
    "print(f\"Best validation: {best_score}, {best_config}\")\n",
    "print(f\"Best training: {best_fit_score}, {best_fit_config}\")"
   ]
  },
  {
   "cell_type": "code",
   "execution_count": 15,
   "metadata": {},
   "outputs": [
    {
     "data": {
      "text/plain": [
       "0.5194455140546784"
      ]
     },
     "execution_count": 15,
     "metadata": {},
     "output_type": "execute_result"
    }
   ],
   "source": [
    "clf = DecisionTreeClassifier()\n",
    "clf.fit(X_train, y_train)\n",
    "clf.score(X_val, y_val)"
   ]
  },
  {
   "cell_type": "code",
   "execution_count": 16,
   "metadata": {},
   "outputs": [
    {
     "data": {
      "text/plain": [
       "array([[0.5, 0. , 0.5]])"
      ]
     },
     "execution_count": 16,
     "metadata": {},
     "output_type": "execute_result"
    }
   ],
   "source": [
    "clf.predict_proba(X_test[0:1])"
   ]
  },
  {
   "cell_type": "code",
   "execution_count": null,
   "metadata": {},
   "outputs": [],
   "source": []
  }
 ],
 "metadata": {
  "interpreter": {
   "hash": "43ec02794a5c6caca2187426f9bfbca63869e8dd5c007b90979db8c1bb48c23c"
  },
  "kernelspec": {
   "display_name": "Python 3.7.11 64-bit ('machine_learning': conda)",
   "language": "python",
   "name": "python3"
  },
  "language_info": {
   "codemirror_mode": {
    "name": "ipython",
    "version": 3
   },
   "file_extension": ".py",
   "mimetype": "text/x-python",
   "name": "python",
   "nbconvert_exporter": "python",
   "pygments_lexer": "ipython3",
   "version": "3.7.11"
  },
  "orig_nbformat": 4
 },
 "nbformat": 4,
 "nbformat_minor": 2
}

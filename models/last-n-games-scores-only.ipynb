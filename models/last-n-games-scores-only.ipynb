{
 "cells": [
  {
   "cell_type": "code",
   "execution_count": 1,
   "metadata": {},
   "outputs": [],
   "source": [
    "import os\n",
    "import numpy as np\n",
    "import pandas as pd\n",
    "from matplotlib import pyplot as plt\n",
    "import matplotlib as mpl\n",
    "\n",
    "width, height = 10, 5\n",
    "mpl.rcParams['figure.figsize'] = [width, height]\n"
   ]
  },
  {
   "cell_type": "code",
   "execution_count": 2,
   "metadata": {},
   "outputs": [],
   "source": [
    "from sklearn import svm\n",
    "from sklearn import pipeline\n",
    "from sklearn import preprocessing\n",
    "from sklearn import model_selection\n",
    "\n",
    "from utility_fns import form_last_n_games\n",
    "from utility_fns import make_train_val_test\n"
   ]
  },
  {
   "cell_type": "code",
   "execution_count": 3,
   "metadata": {},
   "outputs": [],
   "source": [
    "from sklearn.model_selection import cross_val_score\n",
    "\n",
    "from sklearn.preprocessing import StandardScaler\n",
    "from sklearn.preprocessing import OneHotEncoder\n",
    "\n",
    "from sklearn.compose import ColumnTransformer\n",
    "\n",
    "from sklearn.pipeline import make_pipeline\n",
    "from sklearn.pipeline import Pipeline\n",
    "\n",
    "from sklearn.metrics import precision_recall_fscore_support\n",
    "\n",
    "from sklearn.ensemble import BaggingClassifier\n",
    "\n",
    "from sklearn.tree import DecisionTreeClassifier\n"
   ]
  },
  {
   "cell_type": "code",
   "execution_count": 4,
   "metadata": {},
   "outputs": [],
   "source": [
    "import xgboost as xgb\n",
    "from catboost import CatBoostClassifier, Pool, metrics, cv\n"
   ]
  },
  {
   "cell_type": "code",
   "execution_count": 5,
   "metadata": {},
   "outputs": [],
   "source": [
    "from catboost.utils import get_gpu_device_count\n",
    "\n",
    "use_gpu = False\n",
    "if get_gpu_device_count():\n",
    "    use_gpu = True\n"
   ]
  },
  {
   "cell_type": "code",
   "execution_count": 6,
   "metadata": {},
   "outputs": [],
   "source": [
    "# Global notebook params (speed processing of stuff we want only once)\n",
    "do_manual_svc = False\n",
    "do_manual_bagging = False\n",
    "do_sklearn_grid_tree = False\n",
    "do_xgboost = True\n",
    "do_catboost = True\n"
   ]
  },
  {
   "cell_type": "code",
   "execution_count": 7,
   "metadata": {},
   "outputs": [],
   "source": [
    "basedir = os.path.dirname(os.getcwd())\n",
    "data = os.path.join(basedir, 'data', 'derived', 'cleaned_matches.csv')\n",
    "defense = os.path.join(basedir, 'data', 'derived', 'stats_categories', 'DEFENSE_stats.csv')\n",
    "snaps = os.path.join(basedir, 'data', 'derived', 'stats_categories', 'SNAP_COUNTS_stats.csv')\n",
    "\n",
    "cleaned_matches = pd.read_csv(data)\n",
    "# defense_stats = pd.read_csv(defense, index_col=[0,1,2])\n",
    "# snaps_stats = pd.read_csv(snaps, index_col=[0,1,2])"
   ]
  },
  {
   "cell_type": "code",
   "execution_count": 8,
   "metadata": {},
   "outputs": [
    {
     "name": "stdout",
     "output_type": "stream",
     "text": [
      "<class 'pandas.core.frame.DataFrame'>\n",
      "Int64Index: 26122 entries, 0 to 26121\n",
      "Data columns (total 19 columns):\n",
      " #   Column          Non-Null Count  Dtype         \n",
      "---  ------          --------------  -----         \n",
      " 0   Day             26122 non-null  object        \n",
      " 1   Date            26122 non-null  datetime64[ns]\n",
      " 2   Home/Away       26122 non-null  object        \n",
      " 3   Opponent        26122 non-null  object        \n",
      " 4   Score           26122 non-null  object        \n",
      " 5   W/L/T           26122 non-null  object        \n",
      " 6   Overtime        948 non-null    object        \n",
      " 7   Location        26122 non-null  object        \n",
      " 8   Venue           26122 non-null  object        \n",
      " 9   Attendance      26098 non-null  float64       \n",
      " 10  Notes           1061 non-null   object        \n",
      " 11  Opponent Code   26122 non-null  object        \n",
      " 12  Team            26122 non-null  object        \n",
      " 13  Team Code       26122 non-null  object        \n",
      " 14  Team Score      25942 non-null  float64       \n",
      " 15  Opponent Score  25942 non-null  float64       \n",
      " 16  Score Sum       25942 non-null  float64       \n",
      " 17  Score Diff      25942 non-null  float64       \n",
      " 18  Class           26122 non-null  int64         \n",
      "dtypes: datetime64[ns](1), float64(5), int64(1), object(12)\n",
      "memory usage: 4.0+ MB\n"
     ]
    }
   ],
   "source": [
    "cleaned_matches.Date = pd.to_datetime(cleaned_matches.Date)\n",
    "cleaned_matches.sort_values(by='Date', inplace=True, ascending=True)\n",
    "cleaned_matches.info()\n"
   ]
  },
  {
   "cell_type": "code",
   "execution_count": 9,
   "metadata": {},
   "outputs": [],
   "source": [
    "cleaned_matches['Pct Team Score'] = cleaned_matches['Team Score'] / \\\n",
    "    (cleaned_matches['Team Score'] + cleaned_matches['Opponent Score'])\n",
    "cleaned_matches['Pct Opponent Score'] = cleaned_matches['Opponent Score'] / \\\n",
    "    (cleaned_matches['Team Score'] + cleaned_matches['Opponent Score'])\n"
   ]
  },
  {
   "cell_type": "markdown",
   "metadata": {},
   "source": [
    "## Train to classify based on the last-n-games a team played"
   ]
  },
  {
   "cell_type": "code",
   "execution_count": 10,
   "metadata": {},
   "outputs": [
    {
     "name": "stdout",
     "output_type": "stream",
     "text": [
      "<class 'pandas.core.frame.DataFrame'>\n",
      "Int64Index: 25914 entries, 0 to 26121\n",
      "Data columns (total 21 columns):\n",
      " #   Column              Non-Null Count  Dtype         \n",
      "---  ------              --------------  -----         \n",
      " 0   Day                 25914 non-null  object        \n",
      " 1   Date                25914 non-null  datetime64[ns]\n",
      " 2   Home/Away           25914 non-null  object        \n",
      " 3   Opponent            25914 non-null  object        \n",
      " 4   Score               25914 non-null  object        \n",
      " 5   W/L/T               25914 non-null  object        \n",
      " 6   Overtime            948 non-null    object        \n",
      " 7   Location            25914 non-null  object        \n",
      " 8   Venue               25914 non-null  object        \n",
      " 9   Attendance          25890 non-null  float64       \n",
      " 10  Notes               1051 non-null   object        \n",
      " 11  Opponent Code       25914 non-null  object        \n",
      " 12  Team                25914 non-null  object        \n",
      " 13  Team Code           25914 non-null  object        \n",
      " 14  Team Score          25914 non-null  float64       \n",
      " 15  Opponent Score      25914 non-null  float64       \n",
      " 16  Score Sum           25914 non-null  float64       \n",
      " 17  Score Diff          25914 non-null  float64       \n",
      " 18  Class               25914 non-null  int64         \n",
      " 19  Pct Team Score      25914 non-null  float64       \n",
      " 20  Pct Opponent Score  25914 non-null  float64       \n",
      "dtypes: datetime64[ns](1), float64(7), int64(1), object(12)\n",
      "memory usage: 4.3+ MB\n"
     ]
    }
   ],
   "source": [
    "x_cols = [\n",
    "    'Team Code',\n",
    "    'Opponent Code',\n",
    "    'Location',\n",
    "    'Home/Away'\n",
    "]\n",
    "lookup_x_cols = [\n",
    "    'Team Score',\n",
    "    'Opponent Score',\n",
    "    'Score Diff',\n",
    "    'Pct Team Score',\n",
    "    'Pct Opponent Score',\n",
    "    'Location',\n",
    "    'Home/Away'\n",
    "]\n",
    "key_x_cols = [\n",
    "    'Team Code',\n",
    "    'Opponent Code'\n",
    "]\n",
    "y_cols = [\n",
    "    'Class'\n",
    "]\n",
    "\n",
    "played_matches = cleaned_matches.dropna(\n",
    "    axis=0, how='any', subset=x_cols + y_cols + lookup_x_cols).copy()\n",
    "\n",
    "played_matches['Class'].where(\n",
    "    played_matches['Class'] > 0, other=0, inplace=True)\n",
    "\n",
    "\n",
    "played_matches.info()\n"
   ]
  },
  {
   "cell_type": "code",
   "execution_count": 11,
   "metadata": {},
   "outputs": [],
   "source": [
    "def dataset_transformer():\n",
    "    return ColumnTransformer([('scaler', StandardScaler(), numeric_columns), ('one-hot', OneHotEncoder(handle_unknown='ignore'), categorical_columns)])\n"
   ]
  },
  {
   "cell_type": "code",
   "execution_count": 12,
   "metadata": {},
   "outputs": [
    {
     "name": "stdout",
     "output_type": "stream",
     "text": [
      ".................................................\n",
      " Done\n"
     ]
    }
   ],
   "source": [
    "last_n_matches, new_columns = form_last_n_games(\n",
    "    played_matches, 5, lookup_x_cols, key_x_cols)\n"
   ]
  },
  {
   "cell_type": "code",
   "execution_count": 13,
   "metadata": {},
   "outputs": [
    {
     "name": "stdout",
     "output_type": "stream",
     "text": [
      "Index(['Team Code', 'Opponent Code', 'Location', 'Home/Away',\n",
      "       'Team Code_p_Location', 'Opponent Code_p_Location',\n",
      "       'Team Code_pp_Location', 'Opponent Code_pp_Location',\n",
      "       'Team Code_ppp_Location', 'Opponent Code_ppp_Location',\n",
      "       'Team Code_pppp_Location', 'Opponent Code_pppp_Location',\n",
      "       'Team Code_ppppp_Location', 'Opponent Code_ppppp_Location',\n",
      "       'Team Code_p_Home/Away', 'Opponent Code_p_Home/Away',\n",
      "       'Team Code_pp_Home/Away', 'Opponent Code_pp_Home/Away',\n",
      "       'Team Code_ppp_Home/Away', 'Opponent Code_ppp_Home/Away',\n",
      "       'Team Code_pppp_Home/Away', 'Opponent Code_pppp_Home/Away',\n",
      "       'Team Code_ppppp_Home/Away', 'Opponent Code_ppppp_Home/Away'],\n",
      "      dtype='object')\n",
      "[ 0  1  2  3 54 55 56 57 58 59 60 61 62 63 64 65 66 67 68 69 70 71 72 73]\n",
      "Index(['Team Code_p_Team Score', 'Opponent Code_p_Team Score',\n",
      "       'Team Code_pp_Team Score', 'Opponent Code_pp_Team Score',\n",
      "       'Team Code_ppp_Team Score', 'Opponent Code_ppp_Team Score',\n",
      "       'Team Code_pppp_Team Score', 'Opponent Code_pppp_Team Score',\n",
      "       'Team Code_ppppp_Team Score', 'Opponent Code_ppppp_Team Score',\n",
      "       'Team Code_p_Opponent Score', 'Opponent Code_p_Opponent Score',\n",
      "       'Team Code_pp_Opponent Score', 'Opponent Code_pp_Opponent Score',\n",
      "       'Team Code_ppp_Opponent Score', 'Opponent Code_ppp_Opponent Score',\n",
      "       'Team Code_pppp_Opponent Score', 'Opponent Code_pppp_Opponent Score',\n",
      "       'Team Code_ppppp_Opponent Score', 'Opponent Code_ppppp_Opponent Score',\n",
      "       'Team Code_p_Score Diff', 'Opponent Code_p_Score Diff',\n",
      "       'Team Code_pp_Score Diff', 'Opponent Code_pp_Score Diff',\n",
      "       'Team Code_ppp_Score Diff', 'Opponent Code_ppp_Score Diff',\n",
      "       'Team Code_pppp_Score Diff', 'Opponent Code_pppp_Score Diff',\n",
      "       'Team Code_ppppp_Score Diff', 'Opponent Code_ppppp_Score Diff',\n",
      "       'Team Code_p_Pct Team Score', 'Opponent Code_p_Pct Team Score',\n",
      "       'Team Code_pp_Pct Team Score', 'Opponent Code_pp_Pct Team Score',\n",
      "       'Team Code_ppp_Pct Team Score', 'Opponent Code_ppp_Pct Team Score',\n",
      "       'Team Code_pppp_Pct Team Score', 'Opponent Code_pppp_Pct Team Score',\n",
      "       'Team Code_ppppp_Pct Team Score', 'Opponent Code_ppppp_Pct Team Score',\n",
      "       'Team Code_p_Pct Opponent Score', 'Opponent Code_p_Pct Opponent Score',\n",
      "       'Team Code_pp_Pct Opponent Score',\n",
      "       'Opponent Code_pp_Pct Opponent Score',\n",
      "       'Team Code_ppp_Pct Opponent Score',\n",
      "       'Opponent Code_ppp_Pct Opponent Score',\n",
      "       'Team Code_pppp_Pct Opponent Score',\n",
      "       'Opponent Code_pppp_Pct Opponent Score',\n",
      "       'Team Code_ppppp_Pct Opponent Score',\n",
      "       'Opponent Code_ppppp_Pct Opponent Score'],\n",
      "      dtype='object')\n"
     ]
    }
   ],
   "source": [
    "X = pd.concat([last_n_matches[x_cols], last_n_matches[new_columns]], axis=1)\n",
    "y = last_n_matches[y_cols]\n",
    "\n",
    "numeric_columns = X.columns[X.columns.str.contains('Score')]\n",
    "categorical_columns = X.columns[~X.columns.str.contains('Score')]\n",
    "categorical_columns_indices = np.where(~X.columns.str.contains('Score'))[0]\n",
    "\n",
    "print(categorical_columns)\n",
    "print(categorical_columns_indices)\n",
    "print(numeric_columns)\n"
   ]
  },
  {
   "cell_type": "code",
   "execution_count": 14,
   "metadata": {},
   "outputs": [
    {
     "data": {
      "text/html": [
       "<div>\n",
       "<style scoped>\n",
       "    .dataframe tbody tr th:only-of-type {\n",
       "        vertical-align: middle;\n",
       "    }\n",
       "\n",
       "    .dataframe tbody tr th {\n",
       "        vertical-align: top;\n",
       "    }\n",
       "\n",
       "    .dataframe thead th {\n",
       "        text-align: right;\n",
       "    }\n",
       "</style>\n",
       "<table border=\"1\" class=\"dataframe\">\n",
       "  <thead>\n",
       "    <tr style=\"text-align: right;\">\n",
       "      <th></th>\n",
       "      <th>Team Code</th>\n",
       "      <th>Opponent Code</th>\n",
       "      <th>Location</th>\n",
       "      <th>Home/Away</th>\n",
       "      <th>Team Code_p_Team Score</th>\n",
       "      <th>Opponent Code_p_Team Score</th>\n",
       "      <th>Team Code_pp_Team Score</th>\n",
       "      <th>Opponent Code_pp_Team Score</th>\n",
       "      <th>Team Code_ppp_Team Score</th>\n",
       "      <th>Opponent Code_ppp_Team Score</th>\n",
       "      <th>...</th>\n",
       "      <th>Team Code_p_Home/Away</th>\n",
       "      <th>Opponent Code_p_Home/Away</th>\n",
       "      <th>Team Code_pp_Home/Away</th>\n",
       "      <th>Opponent Code_pp_Home/Away</th>\n",
       "      <th>Team Code_ppp_Home/Away</th>\n",
       "      <th>Opponent Code_ppp_Home/Away</th>\n",
       "      <th>Team Code_pppp_Home/Away</th>\n",
       "      <th>Opponent Code_pppp_Home/Away</th>\n",
       "      <th>Team Code_ppppp_Home/Away</th>\n",
       "      <th>Opponent Code_ppppp_Home/Away</th>\n",
       "    </tr>\n",
       "  </thead>\n",
       "  <tbody>\n",
       "    <tr>\n",
       "      <th>12</th>\n",
       "      <td>buf</td>\n",
       "      <td>cle</td>\n",
       "      <td>Buffalo, NY</td>\n",
       "      <td>H</td>\n",
       "      <td>6.0</td>\n",
       "      <td>6.0</td>\n",
       "      <td>0.0</td>\n",
       "      <td>28.0</td>\n",
       "      <td>21.0</td>\n",
       "      <td>0.0</td>\n",
       "      <td>...</td>\n",
       "      <td>A</td>\n",
       "      <td>A</td>\n",
       "      <td>A</td>\n",
       "      <td>H</td>\n",
       "      <td>H</td>\n",
       "      <td>A</td>\n",
       "      <td>A</td>\n",
       "      <td>A</td>\n",
       "      <td>H</td>\n",
       "      <td>H</td>\n",
       "    </tr>\n",
       "    <tr>\n",
       "      <th>19</th>\n",
       "      <td>gb</td>\n",
       "      <td>chic</td>\n",
       "      <td>Chicago, IL</td>\n",
       "      <td>A</td>\n",
       "      <td>16.0</td>\n",
       "      <td>16.0</td>\n",
       "      <td>3.0</td>\n",
       "      <td>3.0</td>\n",
       "      <td>3.0</td>\n",
       "      <td>3.0</td>\n",
       "      <td>...</td>\n",
       "      <td>H</td>\n",
       "      <td>H</td>\n",
       "      <td>A</td>\n",
       "      <td>A</td>\n",
       "      <td>H</td>\n",
       "      <td>H</td>\n",
       "      <td>A</td>\n",
       "      <td>A</td>\n",
       "      <td>H</td>\n",
       "      <td>H</td>\n",
       "    </tr>\n",
       "    <tr>\n",
       "      <th>23</th>\n",
       "      <td>min</td>\n",
       "      <td>chic</td>\n",
       "      <td>Chicago, IL</td>\n",
       "      <td>A</td>\n",
       "      <td>3.0</td>\n",
       "      <td>3.0</td>\n",
       "      <td>6.0</td>\n",
       "      <td>3.0</td>\n",
       "      <td>7.0</td>\n",
       "      <td>16.0</td>\n",
       "      <td>...</td>\n",
       "      <td>H</td>\n",
       "      <td>H</td>\n",
       "      <td>A</td>\n",
       "      <td>A</td>\n",
       "      <td>H</td>\n",
       "      <td>H</td>\n",
       "      <td>A</td>\n",
       "      <td>A</td>\n",
       "      <td>H</td>\n",
       "      <td>H</td>\n",
       "    </tr>\n",
       "    <tr>\n",
       "      <th>25</th>\n",
       "      <td>chic</td>\n",
       "      <td>buf</td>\n",
       "      <td>Chicago, IL</td>\n",
       "      <td>H</td>\n",
       "      <td>0.0</td>\n",
       "      <td>7.0</td>\n",
       "      <td>3.0</td>\n",
       "      <td>0.0</td>\n",
       "      <td>3.0</td>\n",
       "      <td>10.0</td>\n",
       "      <td>...</td>\n",
       "      <td>A</td>\n",
       "      <td>H</td>\n",
       "      <td>H</td>\n",
       "      <td>A</td>\n",
       "      <td>A</td>\n",
       "      <td>H</td>\n",
       "      <td>H</td>\n",
       "      <td>A</td>\n",
       "      <td>A</td>\n",
       "      <td>A</td>\n",
       "    </tr>\n",
       "    <tr>\n",
       "      <th>24</th>\n",
       "      <td>buf</td>\n",
       "      <td>chic</td>\n",
       "      <td>Chicago, IL</td>\n",
       "      <td>A</td>\n",
       "      <td>9.0</td>\n",
       "      <td>9.0</td>\n",
       "      <td>7.0</td>\n",
       "      <td>0.0</td>\n",
       "      <td>0.0</td>\n",
       "      <td>3.0</td>\n",
       "      <td>...</td>\n",
       "      <td>H</td>\n",
       "      <td>H</td>\n",
       "      <td>H</td>\n",
       "      <td>A</td>\n",
       "      <td>A</td>\n",
       "      <td>H</td>\n",
       "      <td>H</td>\n",
       "      <td>A</td>\n",
       "      <td>A</td>\n",
       "      <td>H</td>\n",
       "    </tr>\n",
       "  </tbody>\n",
       "</table>\n",
       "<p>5 rows × 74 columns</p>\n",
       "</div>"
      ],
      "text/plain": [
       "   Team Code Opponent Code     Location Home/Away  Team Code_p_Team Score  \\\n",
       "12       buf           cle  Buffalo, NY         H                     6.0   \n",
       "19        gb          chic  Chicago, IL         A                    16.0   \n",
       "23       min          chic  Chicago, IL         A                     3.0   \n",
       "25      chic           buf  Chicago, IL         H                     0.0   \n",
       "24       buf          chic  Chicago, IL         A                     9.0   \n",
       "\n",
       "    Opponent Code_p_Team Score  Team Code_pp_Team Score  \\\n",
       "12                         6.0                      0.0   \n",
       "19                        16.0                      3.0   \n",
       "23                         3.0                      6.0   \n",
       "25                         7.0                      3.0   \n",
       "24                         9.0                      7.0   \n",
       "\n",
       "    Opponent Code_pp_Team Score  Team Code_ppp_Team Score  \\\n",
       "12                         28.0                      21.0   \n",
       "19                          3.0                       3.0   \n",
       "23                          3.0                       7.0   \n",
       "25                          0.0                       3.0   \n",
       "24                          0.0                       0.0   \n",
       "\n",
       "    Opponent Code_ppp_Team Score  ...  Team Code_p_Home/Away  \\\n",
       "12                           0.0  ...                      A   \n",
       "19                           3.0  ...                      H   \n",
       "23                          16.0  ...                      H   \n",
       "25                          10.0  ...                      A   \n",
       "24                           3.0  ...                      H   \n",
       "\n",
       "    Opponent Code_p_Home/Away  Team Code_pp_Home/Away  \\\n",
       "12                          A                       A   \n",
       "19                          H                       A   \n",
       "23                          H                       A   \n",
       "25                          H                       H   \n",
       "24                          H                       H   \n",
       "\n",
       "    Opponent Code_pp_Home/Away  Team Code_ppp_Home/Away  \\\n",
       "12                           H                        H   \n",
       "19                           A                        H   \n",
       "23                           A                        H   \n",
       "25                           A                        A   \n",
       "24                           A                        A   \n",
       "\n",
       "    Opponent Code_ppp_Home/Away  Team Code_pppp_Home/Away  \\\n",
       "12                            A                         A   \n",
       "19                            H                         A   \n",
       "23                            H                         A   \n",
       "25                            H                         H   \n",
       "24                            H                         H   \n",
       "\n",
       "    Opponent Code_pppp_Home/Away  Team Code_ppppp_Home/Away  \\\n",
       "12                             A                          H   \n",
       "19                             A                          H   \n",
       "23                             A                          H   \n",
       "25                             A                          A   \n",
       "24                             A                          A   \n",
       "\n",
       "    Opponent Code_ppppp_Home/Away  \n",
       "12                              H  \n",
       "19                              H  \n",
       "23                              H  \n",
       "25                              A  \n",
       "24                              H  \n",
       "\n",
       "[5 rows x 74 columns]"
      ]
     },
     "execution_count": 14,
     "metadata": {},
     "output_type": "execute_result"
    }
   ],
   "source": [
    "X.head()\n"
   ]
  },
  {
   "cell_type": "code",
   "execution_count": 15,
   "metadata": {},
   "outputs": [
    {
     "name": "stdout",
     "output_type": "stream",
     "text": [
      "<class 'pandas.core.frame.DataFrame'>\n",
      "Int64Index: 25778 entries, 12 to 26121\n",
      "Data columns (total 74 columns):\n",
      " #   Column                                  Non-Null Count  Dtype  \n",
      "---  ------                                  --------------  -----  \n",
      " 0   Team Code                               25778 non-null  object \n",
      " 1   Opponent Code                           25778 non-null  object \n",
      " 2   Location                                25778 non-null  object \n",
      " 3   Home/Away                               25778 non-null  object \n",
      " 4   Team Code_p_Team Score                  25778 non-null  float64\n",
      " 5   Opponent Code_p_Team Score              25778 non-null  float64\n",
      " 6   Team Code_pp_Team Score                 25778 non-null  float64\n",
      " 7   Opponent Code_pp_Team Score             25778 non-null  float64\n",
      " 8   Team Code_ppp_Team Score                25778 non-null  float64\n",
      " 9   Opponent Code_ppp_Team Score            25778 non-null  float64\n",
      " 10  Team Code_pppp_Team Score               25778 non-null  float64\n",
      " 11  Opponent Code_pppp_Team Score           25778 non-null  float64\n",
      " 12  Team Code_ppppp_Team Score              25778 non-null  float64\n",
      " 13  Opponent Code_ppppp_Team Score          25778 non-null  float64\n",
      " 14  Team Code_p_Opponent Score              25778 non-null  float64\n",
      " 15  Opponent Code_p_Opponent Score          25778 non-null  float64\n",
      " 16  Team Code_pp_Opponent Score             25778 non-null  float64\n",
      " 17  Opponent Code_pp_Opponent Score         25778 non-null  float64\n",
      " 18  Team Code_ppp_Opponent Score            25778 non-null  float64\n",
      " 19  Opponent Code_ppp_Opponent Score        25778 non-null  float64\n",
      " 20  Team Code_pppp_Opponent Score           25778 non-null  float64\n",
      " 21  Opponent Code_pppp_Opponent Score       25778 non-null  float64\n",
      " 22  Team Code_ppppp_Opponent Score          25778 non-null  float64\n",
      " 23  Opponent Code_ppppp_Opponent Score      25778 non-null  float64\n",
      " 24  Team Code_p_Score Diff                  25778 non-null  float64\n",
      " 25  Opponent Code_p_Score Diff              25778 non-null  float64\n",
      " 26  Team Code_pp_Score Diff                 25778 non-null  float64\n",
      " 27  Opponent Code_pp_Score Diff             25778 non-null  float64\n",
      " 28  Team Code_ppp_Score Diff                25778 non-null  float64\n",
      " 29  Opponent Code_ppp_Score Diff            25778 non-null  float64\n",
      " 30  Team Code_pppp_Score Diff               25778 non-null  float64\n",
      " 31  Opponent Code_pppp_Score Diff           25778 non-null  float64\n",
      " 32  Team Code_ppppp_Score Diff              25778 non-null  float64\n",
      " 33  Opponent Code_ppppp_Score Diff          25778 non-null  float64\n",
      " 34  Team Code_p_Pct Team Score              25778 non-null  float64\n",
      " 35  Opponent Code_p_Pct Team Score          25778 non-null  float64\n",
      " 36  Team Code_pp_Pct Team Score             25778 non-null  float64\n",
      " 37  Opponent Code_pp_Pct Team Score         25778 non-null  float64\n",
      " 38  Team Code_ppp_Pct Team Score            25778 non-null  float64\n",
      " 39  Opponent Code_ppp_Pct Team Score        25778 non-null  float64\n",
      " 40  Team Code_pppp_Pct Team Score           25778 non-null  float64\n",
      " 41  Opponent Code_pppp_Pct Team Score       25778 non-null  float64\n",
      " 42  Team Code_ppppp_Pct Team Score          25778 non-null  float64\n",
      " 43  Opponent Code_ppppp_Pct Team Score      25778 non-null  float64\n",
      " 44  Team Code_p_Pct Opponent Score          25778 non-null  float64\n",
      " 45  Opponent Code_p_Pct Opponent Score      25778 non-null  float64\n",
      " 46  Team Code_pp_Pct Opponent Score         25778 non-null  float64\n",
      " 47  Opponent Code_pp_Pct Opponent Score     25778 non-null  float64\n",
      " 48  Team Code_ppp_Pct Opponent Score        25778 non-null  float64\n",
      " 49  Opponent Code_ppp_Pct Opponent Score    25778 non-null  float64\n",
      " 50  Team Code_pppp_Pct Opponent Score       25778 non-null  float64\n",
      " 51  Opponent Code_pppp_Pct Opponent Score   25778 non-null  float64\n",
      " 52  Team Code_ppppp_Pct Opponent Score      25778 non-null  float64\n",
      " 53  Opponent Code_ppppp_Pct Opponent Score  25778 non-null  float64\n",
      " 54  Team Code_p_Location                    25778 non-null  object \n",
      " 55  Opponent Code_p_Location                25778 non-null  object \n",
      " 56  Team Code_pp_Location                   25778 non-null  object \n",
      " 57  Opponent Code_pp_Location               25778 non-null  object \n",
      " 58  Team Code_ppp_Location                  25778 non-null  object \n",
      " 59  Opponent Code_ppp_Location              25778 non-null  object \n",
      " 60  Team Code_pppp_Location                 25778 non-null  object \n",
      " 61  Opponent Code_pppp_Location             25778 non-null  object \n",
      " 62  Team Code_ppppp_Location                25778 non-null  object \n",
      " 63  Opponent Code_ppppp_Location            25778 non-null  object \n",
      " 64  Team Code_p_Home/Away                   25778 non-null  object \n",
      " 65  Opponent Code_p_Home/Away               25778 non-null  object \n",
      " 66  Team Code_pp_Home/Away                  25778 non-null  object \n",
      " 67  Opponent Code_pp_Home/Away              25778 non-null  object \n",
      " 68  Team Code_ppp_Home/Away                 25778 non-null  object \n",
      " 69  Opponent Code_ppp_Home/Away             25778 non-null  object \n",
      " 70  Team Code_pppp_Home/Away                25778 non-null  object \n",
      " 71  Opponent Code_pppp_Home/Away            25778 non-null  object \n",
      " 72  Team Code_ppppp_Home/Away               25778 non-null  object \n",
      " 73  Opponent Code_ppppp_Home/Away           25778 non-null  object \n",
      "dtypes: float64(50), object(24)\n",
      "memory usage: 14.8+ MB\n"
     ]
    }
   ],
   "source": [
    "X.info()\n"
   ]
  },
  {
   "cell_type": "code",
   "execution_count": 16,
   "metadata": {},
   "outputs": [
    {
     "data": {
      "text/html": [
       "<div>\n",
       "<style scoped>\n",
       "    .dataframe tbody tr th:only-of-type {\n",
       "        vertical-align: middle;\n",
       "    }\n",
       "\n",
       "    .dataframe tbody tr th {\n",
       "        vertical-align: top;\n",
       "    }\n",
       "\n",
       "    .dataframe thead th {\n",
       "        text-align: right;\n",
       "    }\n",
       "</style>\n",
       "<table border=\"1\" class=\"dataframe\">\n",
       "  <thead>\n",
       "    <tr style=\"text-align: right;\">\n",
       "      <th></th>\n",
       "      <th>Class</th>\n",
       "    </tr>\n",
       "  </thead>\n",
       "  <tbody>\n",
       "    <tr>\n",
       "      <th>12</th>\n",
       "      <td>1</td>\n",
       "    </tr>\n",
       "    <tr>\n",
       "      <th>19</th>\n",
       "      <td>0</td>\n",
       "    </tr>\n",
       "    <tr>\n",
       "      <th>23</th>\n",
       "      <td>0</td>\n",
       "    </tr>\n",
       "    <tr>\n",
       "      <th>25</th>\n",
       "      <td>1</td>\n",
       "    </tr>\n",
       "    <tr>\n",
       "      <th>24</th>\n",
       "      <td>0</td>\n",
       "    </tr>\n",
       "  </tbody>\n",
       "</table>\n",
       "</div>"
      ],
      "text/plain": [
       "    Class\n",
       "12      1\n",
       "19      0\n",
       "23      0\n",
       "25      1\n",
       "24      0"
      ]
     },
     "execution_count": 16,
     "metadata": {},
     "output_type": "execute_result"
    }
   ],
   "source": [
    "y.head()\n"
   ]
  },
  {
   "cell_type": "code",
   "execution_count": 17,
   "metadata": {},
   "outputs": [
    {
     "name": "stdout",
     "output_type": "stream",
     "text": [
      "(15466, 74) (15466, 1)\n",
      "(5156, 74) (5156, 1)\n",
      "(5156, 74) (5156, 1)\n"
     ]
    }
   ],
   "source": [
    "X_train, X_val, X_test, y_train, y_val, y_test = make_train_val_test(\n",
    "    X, y, test_pct=0.2, val_pct=0.2, random_state=0\n",
    ")\n",
    "\n",
    "print(X_train.shape, y_train.shape)\n",
    "print(X_val.shape, y_val.shape)\n",
    "print(X_test.shape, y_test.shape)\n"
   ]
  },
  {
   "cell_type": "code",
   "execution_count": 18,
   "metadata": {},
   "outputs": [],
   "source": [
    "X_cv = pd.concat([X_train, X_val])\n",
    "y_cv = pd.concat([y_train, y_val])\n"
   ]
  },
  {
   "cell_type": "code",
   "execution_count": 19,
   "metadata": {},
   "outputs": [],
   "source": [
    "def manual_grid_search_svc(do=True):\n",
    "    if not do:\n",
    "        return None\n",
    "    best_model = None\n",
    "    for kernel in ['linear', 'poly', 'rbf', 'sigmoid']:\n",
    "        train_scores = []\n",
    "        val_scores = []\n",
    "        val_space = np.geomspace(start=0.01, stop=5, num=3)\n",
    "        for C in val_space:\n",
    "            print(f\"Evaluating {kernel} kernel for C={C}\")\n",
    "            model = make_pipeline(dataset_transformer(), svm.SVC(\n",
    "                C=C, max_iter=10_000, kernel=kernel))\n",
    "\n",
    "            model.fit(X_train, y_train.values.ravel())\n",
    "            train_scores.append(model.score(X_train, y_train.values.ravel()))\n",
    "            val_scores.append(model.score(X_val, y_val.values.ravel()))\n",
    "\n",
    "            if best_model is None or val_scores[-1] == np.max(val_scores):\n",
    "                best_model = model\n",
    "\n",
    "        plt.title(f'Best C for {kernel}: {val_space[np.argmax(val_scores)]}')\n",
    "        plt.plot(val_space, train_scores, label='Train score')\n",
    "        plt.plot(val_space, val_scores, label='Val score')\n",
    "        # plt.ylim(0, 1.1)\n",
    "        plt.xscale('log')\n",
    "        plt.legend()\n",
    "        plt.show()\n",
    "    return best_model\n",
    "\n",
    "\n",
    "best_model = manual_grid_search_svc(do_manual_svc)\n"
   ]
  },
  {
   "cell_type": "code",
   "execution_count": 20,
   "metadata": {},
   "outputs": [],
   "source": [
    "if best_model is not None:\n",
    "    y_pred = best_model.predict(X_test)\n",
    "    precision, recall, fbeta_score, _ = precision_recall_fscore_support(\n",
    "        y_test, y_pred, average='binary')\n",
    "    print(precision, recall, fbeta_score)\n"
   ]
  },
  {
   "cell_type": "code",
   "execution_count": 21,
   "metadata": {},
   "outputs": [],
   "source": [
    "def manual_grid_bagging(do=True):\n",
    "    if not do:\n",
    "        return [], [], 0, 0\n",
    "    best_config = []\n",
    "    best_score = 0\n",
    "    best_fit_config = []\n",
    "    best_fit_score = 0\n",
    "    for estimator in [DecisionTreeClassifier(max_leaf_nodes=3), DecisionTreeClassifier(max_leaf_nodes=5), DecisionTreeClassifier(max_leaf_nodes=10), DecisionTreeClassifier(max_leaf_nodes=50), DecisionTreeClassifier()]:\n",
    "        for nestimators in [10, 31, 62, 93, 124, 200, 300, 400, 500]:\n",
    "            for nsamples in [0.01, 0.02, 0.05, 0.1, 0.2, 0.4, 0.6]:\n",
    "                clf = make_pipeline(dataset_transformer(), BaggingClassifier(\n",
    "                    base_estimator=estimator, n_estimators=nestimators, max_samples=nsamples))\n",
    "                clf.fit(X_train, y_train.values.ravel())\n",
    "\n",
    "                score = clf.score(X_val, y_val.values.ravel())\n",
    "                if(score > best_score):\n",
    "                    best_config = [estimator, nestimators, nsamples]\n",
    "                    best_score = score\n",
    "\n",
    "                score = clf.score(X_train, y_train)\n",
    "                if(score > best_fit_score):\n",
    "                    best_fit_config = [estimator, nestimators, nsamples]\n",
    "                    best_fit_score = score\n",
    "\n",
    "                print(end='.')\n",
    "    return best_config, best_fit_config, best_score, best_fit_score\n",
    "\n",
    "\n",
    "best_config, best_fit_config, best_score, best_fit_score = manual_grid_bagging(\n",
    "    do_manual_bagging)\n"
   ]
  },
  {
   "cell_type": "code",
   "execution_count": 22,
   "metadata": {},
   "outputs": [
    {
     "name": "stdout",
     "output_type": "stream",
     "text": [
      "{'model': <class 'sklearn.ensemble._bagging.BaggingClassifier'>, 'kwargs': {'base_estimator': DecisionTreeClassifier()}, 'cross_vals': 5, 'param_grid': {'bagging_clf__base_estimator__max_leaf_nodes': array([  2,   7,  12,  17,  22,  27,  32,  38,  43,  48,  53,  58,  63,\n",
      "        69,  74,  79,  84,  89,  94, 100]), 'bagging_clf__max_samples': array([0.01      , 0.09777778, 0.18555556, 0.27333333, 0.36111111,\n",
      "       0.44888889, 0.53666667, 0.62444444, 0.71222222, 0.8       ]), 'bagging_clf__n_estimators': array([  10,   12,   16,   20,   26,   33,   42,   54,   69,   88,  112,\n",
      "        143,  183,  233,  297,  379,  483,  615,  784, 1000])}}\n"
     ]
    }
   ],
   "source": [
    "model = {\n",
    "    'model': BaggingClassifier,\n",
    "    'kwargs': {'base_estimator': DecisionTreeClassifier()},\n",
    "    'cross_vals': 5,\n",
    "    'param_grid': {\n",
    "        'bagging_clf__base_estimator__max_leaf_nodes': np.linspace(2, 100, num=20, dtype=int),\n",
    "        'bagging_clf__max_samples': np.linspace(0.01, 0.8, 10),\n",
    "        'bagging_clf__n_estimators': np.geomspace(10, 1000, num=20, dtype=int)\n",
    "    }\n",
    "}\n",
    "\n",
    "pipe = Pipeline([('column_transformer', dataset_transformer()),\n",
    "                 ('bagging_clf', model['model'](**model['kwargs']))])\n",
    "\n",
    "print(model)\n",
    "\n",
    "grid_search_bag_tree = model_selection.GridSearchCV(\n",
    "    pipe, param_grid=model['param_grid'], cv=model['cross_vals'], n_jobs=11, refit=True, verbose=3)\n"
   ]
  },
  {
   "cell_type": "code",
   "execution_count": 23,
   "metadata": {},
   "outputs": [],
   "source": [
    "if do_sklearn_grid_tree:\n",
    "    grid_search_bag_tree.fit(X_train, y_train.values.ravel())\n",
    "    grid_search_bag_tree.cv_results_\n"
   ]
  },
  {
   "cell_type": "code",
   "execution_count": 24,
   "metadata": {},
   "outputs": [
    {
     "name": "stdout",
     "output_type": "stream",
     "text": [
      "Best validation: 0, []\n",
      "Best training: 0, []\n"
     ]
    }
   ],
   "source": [
    "print(f\"Best validation: {best_score}, {best_config}\")\n",
    "print(f\"Best training: {best_fit_score}, {best_fit_config}\")\n",
    "\n",
    "if do_sklearn_grid_tree:\n",
    "    plt.hist(grid_search_bag_tree.best_estimator_.predict_proba(X_test))\n"
   ]
  },
  {
   "cell_type": "code",
   "execution_count": 25,
   "metadata": {},
   "outputs": [
    {
     "data": {
      "text/plain": [
       "0.7492242048099301"
      ]
     },
     "execution_count": 25,
     "metadata": {},
     "output_type": "execute_result"
    }
   ],
   "source": [
    "clf = make_pipeline(dataset_transformer(), DecisionTreeClassifier())\n",
    "clf.fit(X_train, y_train)\n",
    "clf.score(X_val, y_val)\n"
   ]
  },
  {
   "cell_type": "code",
   "execution_count": 26,
   "metadata": {},
   "outputs": [
    {
     "data": {
      "text/plain": [
       "(array([[2561.,    0.,    0.,    0.,    0.,    0.,    0.,    0.,    0.,\n",
       "         2595.],\n",
       "        [2595.,    0.,    0.,    0.,    0.,    0.,    0.,    0.,    0.,\n",
       "         2561.]]),\n",
       " array([0. , 0.1, 0.2, 0.3, 0.4, 0.5, 0.6, 0.7, 0.8, 0.9, 1. ]),\n",
       " <a list of 2 BarContainer objects>)"
      ]
     },
     "execution_count": 26,
     "metadata": {},
     "output_type": "execute_result"
    },
    {
     "data": {
      "image/png": "[encoded data removed]",
      "text/plain": [
       "<Figure size 720x360 with 1 Axes>"
      ]
     },
     "metadata": {
      "needs_background": "light"
     },
     "output_type": "display_data"
    }
   ],
   "source": [
    "plt.hist(clf.predict_proba(X_test))\n"
   ]
  },
  {
   "cell_type": "code",
   "execution_count": 27,
   "metadata": {},
   "outputs": [
    {
     "name": "stdout",
     "output_type": "stream",
     "text": [
      "..........................................................................."
     ]
    }
   ],
   "source": [
    "if do_manual_svc:\n",
    "    Cs = np.geomspace(0.01, 15, num=75)\n",
    "    scores = []\n",
    "    for c in Cs:\n",
    "        model = make_pipeline(dataset_transformer(), svm.LinearSVC(\n",
    "            dual=False, C=c, max_iter=100_000))\n",
    "        scores.append(cross_val_score(\n",
    "            model, X_cv, y_cv.values.ravel(), cv=5))\n",
    "        print(end='.')\n"
   ]
  },
  {
   "cell_type": "code",
   "execution_count": 28,
   "metadata": {},
   "outputs": [],
   "source": [
    "if do_manual_svc:\n",
    "    x = Cs\n",
    "    plt.errorbar(x, np.mean(scores, axis=1), np.std(scores, axis=1),\n",
    "                 label='Mean & Std Dev. of CV Score', linewidth=1)\n",
    "    plt.plot(x, np.sort(scores, axis=1), linewidth=0.2)\n",
    "    plt.legend()\n",
    "    plt.xscale('log')\n",
    "    plt.xlabel('C')\n",
    "    plt.ylabel('Accuracy')\n",
    "    plt.title('Cross-Validation Score')\n",
    "    plt.show()\n"
   ]
  },
  {
   "cell_type": "code",
   "execution_count": 29,
   "metadata": {},
   "outputs": [],
   "source": [
    "if do_manual_svc:\n",
    "    print('Maximum mean:', np.max(np.mean(scores, axis=1)))\n",
    "    print('Corresponding std deviation:', np.std(\n",
    "        scores, axis=1)[np.argmax(np.mean(scores, axis=1))])\n",
    "    print('C:', Cs[np.argmax(np.mean(scores, axis=1))])\n"
   ]
  },
  {
   "cell_type": "code",
   "execution_count": 30,
   "metadata": {},
   "outputs": [],
   "source": [
    "if do_manual_svc:\n",
    "    print('Minimum std deviation:', np.min(np.std(scores, axis=1)))\n",
    "    print('Corresponding mean:', np.mean(scores, axis=1)\n",
    "          [np.argmin(np.std(scores, axis=1))])\n",
    "    print('C:', Cs[np.argmin(np.std(scores, axis=1))])\n"
   ]
  },
  {
   "cell_type": "code",
   "execution_count": 31,
   "metadata": {},
   "outputs": [],
   "source": [
    "if do_manual_svc:\n",
    "    best_mean_cs = np.flip(np.argsort(np.mean(scores, axis=1)))\n",
    "    best_std_cs = np.argsort(np.std(scores, axis=1))\n"
   ]
  },
  {
   "cell_type": "code",
   "execution_count": 32,
   "metadata": {},
   "outputs": [],
   "source": [
    "if do_manual_svc:\n",
    "    # Do some random perturbation of the Cs\n",
    "    scores = []\n",
    "\n",
    "    Cs_to_examine = np.unique(np.concatenate(\n",
    "        (Cs[best_mean_cs[:5]], Cs[best_std_cs[:5]])))\n",
    "    Cs_to_examine = np.unique(np.concatenate([Cs_to_examine, np.abs(\n",
    "        Cs_to_examine + np.random.normal(scale=0.2, size=len(Cs_to_examine)))]))\n",
    "\n",
    "    for c in Cs_to_examine:\n",
    "        model = make_pipeline(dataset_transformer(), svm.LinearSVC(\n",
    "            dual=False, C=c, max_iter=100_000))\n",
    "\n",
    "        scores.append(cross_val_score(\n",
    "            model, X_cv, y_cv.values.ravel(), cv=100, n_jobs=-1))\n",
    "\n",
    "        print(end='.')\n"
   ]
  },
  {
   "cell_type": "code",
   "execution_count": 33,
   "metadata": {},
   "outputs": [],
   "source": [
    "if do_manual_svc:\n",
    "    x = Cs_to_examine\n",
    "    quantiles = [0, 0.1, 0.2, 0.3, 0.4, 0.6, 0.8, 1.0]\n",
    "    plt.errorbar(x, np.mean(scores, axis=1), np.std(scores, axis=1),\n",
    "                 label='Mean & Std Dev. of CV Score', linewidth=1)\n",
    "    plt.plot(x, np.quantile(scores, quantiles, axis=1).T, linewidth=0.2)\n",
    "    plt.legend()\n",
    "    plt.xscale('log')\n",
    "    plt.xlabel('C')\n",
    "    plt.ylabel('Accuracy')\n",
    "    plt.title('Cross-Validation Score')\n",
    "    plt.show()\n"
   ]
  },
  {
   "cell_type": "code",
   "execution_count": 34,
   "metadata": {},
   "outputs": [],
   "source": [
    "if do_manual_svc:\n",
    "    best_mean_idx = np.argmax(np.mean(scores, axis=1))\n",
    "\n",
    "    print(\n",
    "        f'Best C={Cs_to_examine[best_mean_idx]} with mean={np.mean(scores,axis=1)[best_mean_idx]}, std={np.std(scores,axis=1)[best_mean_idx]}')\n"
   ]
  },
  {
   "cell_type": "code",
   "execution_count": 35,
   "metadata": {},
   "outputs": [],
   "source": [
    "if do_manual_svc:\n",
    "    # Train the best model.\n",
    "\n",
    "    model = make_pipeline(dataset_transformer(),\n",
    "                          svm.LinearSVC(dual=False, C=Cs_to_examine[best_mean_idx], max_iter=100_000))\n",
    "    model.fit(X_cv, y_cv.values.ravel())\n",
    "    model.score(X_test, y_test.values.ravel())\n"
   ]
  },
  {
   "cell_type": "code",
   "execution_count": 36,
   "metadata": {},
   "outputs": [],
   "source": [
    "if do_manual_svc:\n",
    "    coefs = model[1].coef_[0]\n",
    "    plt.scatter(x=np.arange(len(coefs)), y=coefs)\n",
    "    plt.show()\n"
   ]
  },
  {
   "cell_type": "code",
   "execution_count": 37,
   "metadata": {},
   "outputs": [],
   "source": [
    "if do_manual_svc:\n",
    "  model.fit(X, y.values.ravel())\n",
    "  confidences = model.decision_function(X)\n"
   ]
  },
  {
   "cell_type": "code",
   "execution_count": 38,
   "metadata": {},
   "outputs": [],
   "source": [
    "if do_manual_svc:\n",
    "    plt.hist(confidences, bins=25)\n",
    "    plt.show()\n"
   ]
  },
  {
   "cell_type": "code",
   "execution_count": 39,
   "metadata": {},
   "outputs": [],
   "source": [
    "if do_manual_svc:\n",
    "    plt.hist(confidences * (2 * y.to_numpy().ravel() - 1), bins=25)\n",
    "    plt.show()\n"
   ]
  },
  {
   "cell_type": "code",
   "execution_count": 40,
   "metadata": {},
   "outputs": [],
   "source": [
    "if do_manual_svc:\n",
    "    np.min(confidences * (2 * y.to_numpy().ravel() - 1))\n"
   ]
  },
  {
   "cell_type": "code",
   "execution_count": 41,
   "metadata": {},
   "outputs": [
    {
     "data": {
      "application/vnd.jupyter.widget-view+json": {
       "model_id": "3289d28e288a4e3e84d8b085eeabc4e2",
       "version_major": 2,
       "version_minor": 0
      },
      "text/plain": [
       "MetricVisualizer(layout=Layout(align_self='stretch', height='500px'))"
      ]
     },
     "metadata": {},
     "output_type": "display_data"
    }
   ],
   "source": [
    "if do_catboost:\n",
    "    model = CatBoostClassifier(\n",
    "        custom_loss=[metrics.Accuracy()],\n",
    "        random_seed=0xdeadbeef,\n",
    "        logging_level='Silent',\n",
    "        task_type='GPU' if use_gpu else 'CPU'\n",
    "    )\n",
    "\n",
    "    model.fit(\n",
    "        X_cv, y_cv,\n",
    "        cat_features=categorical_columns_indices,\n",
    "        eval_set=(X_test, y_test),\n",
    "        early_stopping_rounds=100,\n",
    "        plot=True\n",
    "    )\n"
   ]
  },
  {
   "cell_type": "code",
   "execution_count": 42,
   "metadata": {},
   "outputs": [
    {
     "data": {
      "application/vnd.jupyter.widget-view+json": {
       "model_id": "77b5eedd4e2e4f42b99f0ccb74a7e3fb",
       "version_major": 2,
       "version_minor": 0
      },
      "text/plain": [
       "MetricVisualizer(layout=Layout(align_self='stretch', height='500px'))"
      ]
     },
     "metadata": {},
     "output_type": "display_data"
    }
   ],
   "source": [
    "if do_catboost:\n",
    "    data_pool = Pool(X_cv, y_cv, cat_features=categorical_columns_indices)\n",
    "    cv_params = model.get_params()\n",
    "    cv_params.update({\n",
    "        'loss_function': metrics.Logloss()\n",
    "    })\n",
    "    cv_data = cv(\n",
    "        data_pool,\n",
    "        cv_params,\n",
    "        plot=True,\n",
    "        early_stopping_rounds=100\n",
    "    )\n"
   ]
  },
  {
   "cell_type": "code",
   "execution_count": 43,
   "metadata": {},
   "outputs": [
    {
     "name": "stdout",
     "output_type": "stream",
     "text": [
      "Best validation accuracy score: 0.79±0.00 on step 501\n",
      "\n",
      "Opponent Code_p_Pct Opponent Score: 18.182744764179294\n",
      "Team Code_p_Pct Team Score: 15.067524819610128\n",
      "Team Code_p_Score Diff: 14.994590480404742\n",
      "Team Code_pp_Location: 8.596404491709542\n",
      "Team Code_ppp_Location: 7.014819425362725\n",
      "Opponent Code_p_Pct Team Score: 5.227960511570593\n",
      "Team Code_p_Location: 4.6912828831917555\n",
      "Opponent Code_p_Location: 3.440062862077084\n",
      "Opponent Code_p_Score Diff: 3.3328014668823847\n",
      "Team Code_p_Pct Opponent Score: 3.180526290307309\n",
      "Team Code_pppp_Location: 2.7807355476005773\n",
      "Opponent Code_pp_Location: 2.263915241334354\n",
      "Team Code_ppppp_Location: 2.0307377028431275\n",
      "Location: 1.8621542102387745\n",
      "Opponent Code_pppp_Location: 1.7557100389213667\n",
      "Opponent Code_ppppp_Location: 1.7326586664098198\n",
      "Home/Away: 1.022394170054911\n",
      "Opponent Code_ppp_Location: 0.8775517535713394\n",
      "Team Code: 0.7344587801479019\n",
      "Opponent Code: 0.6144461759831371\n",
      "Opponent Code_ppppp_Team Score: 0.08565291430497918\n",
      "Team Code_pp_Score Diff: 0.08169571697217244\n",
      "Opponent Code_pppp_Opponent Score: 0.07067378802367731\n",
      "Team Code_p_Opponent Score: 0.04141801843336961\n",
      "Opponent Code_pp_Score Diff: 0.031190046620894238\n",
      "Opponent Code_p_Home/Away: 0.029289935308481695\n",
      "Team Code_pppp_Score Diff: 0.028300488924260545\n",
      "Team Code_pp_Pct Opponent Score: 0.024082456498370642\n",
      "Team Code_pppp_Team Score: 0.021716531014079596\n",
      "Team Code_ppp_Score Diff: 0.02092376349793703\n",
      "Team Code_ppp_Home/Away: 0.019198365618212806\n",
      "Opponent Code_ppp_Opponent Score: 0.018798707515891615\n",
      "Team Code_ppppp_Score Diff: 0.018691678435728366\n",
      "Team Code_pp_Opponent Score: 0.014351638900550552\n",
      "Team Code_pp_Pct Team Score: 0.012487251596691264\n",
      "Team Code_ppppp_Opponent Score: 0.010600118392862339\n",
      "Opponent Code_ppp_Pct Team Score: 0.010269270506670987\n",
      "Opponent Code_pp_Pct Team Score: 0.009663029239679174\n",
      "Opponent Code_ppp_Score Diff: 0.009168352414283855\n",
      "Opponent Code_pp_Home/Away: 0.008161443750014362\n",
      "Opponent Code_p_Team Score: 0.006562742757274085\n",
      "Opponent Code_pp_Opponent Score: 0.006051772543486631\n",
      "Team Code_ppp_Opponent Score: 0.005764925331868901\n",
      "Team Code_pppp_Home/Away: 0.004257210271089359\n",
      "Opponent Code_pppp_Score Diff: 0.0022069766745822865\n",
      "Team Code_pp_Home/Away: 0.0019623378748215604\n",
      "Team Code_p_Home/Away: 0.0016234279438669531\n",
      "Opponent Code_ppp_Home/Away: 0.0010568678193824236\n",
      "Opponent Code_pppp_Home/Away: 0.0005122033086619375\n",
      "Opponent Code_ppppp_Opponent Score: 0.00018773710523725602\n",
      "Team Code_ppppp_Team Score: 0.0\n",
      "Team Code_ppppp_Pct Team Score: 0.0\n",
      "Team Code_ppppp_Pct Opponent Score: 0.0\n",
      "Team Code_ppppp_Home/Away: 0.0\n",
      "Team Code_pppp_Pct Team Score: 0.0\n",
      "Team Code_pppp_Pct Opponent Score: 0.0\n",
      "Team Code_pppp_Opponent Score: 0.0\n",
      "Team Code_ppp_Team Score: 0.0\n",
      "Team Code_ppp_Pct Team Score: 0.0\n",
      "Team Code_ppp_Pct Opponent Score: 0.0\n",
      "Team Code_pp_Team Score: 0.0\n",
      "Team Code_p_Team Score: 0.0\n",
      "Opponent Code_ppppp_Score Diff: 0.0\n",
      "Opponent Code_ppppp_Pct Team Score: 0.0\n",
      "Opponent Code_ppppp_Pct Opponent Score: 0.0\n",
      "Opponent Code_ppppp_Home/Away: 0.0\n",
      "Opponent Code_pppp_Team Score: 0.0\n",
      "Opponent Code_pppp_Pct Team Score: 0.0\n",
      "Opponent Code_pppp_Pct Opponent Score: 0.0\n",
      "Opponent Code_ppp_Team Score: 0.0\n",
      "Opponent Code_ppp_Pct Opponent Score: 0.0\n",
      "Opponent Code_pp_Team Score: 0.0\n",
      "Opponent Code_pp_Pct Opponent Score: 0.0\n",
      "Opponent Code_p_Opponent Score: 0.0\n"
     ]
    }
   ],
   "source": [
    "if do_catboost:\n",
    "    print('Best validation accuracy score: {:.2f}±{:.2f} on step {}'.format(\n",
    "        np.max(cv_data['test-Accuracy-mean']),\n",
    "        cv_data['test-Accuracy-std'][np.argmax(cv_data['test-Accuracy-mean'])],\n",
    "        np.argmax(cv_data['test-Accuracy-mean'])\n",
    "    ))\n",
    "    print()\n",
    "    \n",
    "    feature_importances = model.get_feature_importance(data_pool)\n",
    "    feature_names = X_train.columns\n",
    "    for score, name in sorted(zip(feature_importances, feature_names), reverse=True):\n",
    "        print('{}: {}'.format(name, score))\n"
   ]
  },
  {
   "cell_type": "code",
   "execution_count": 44,
   "metadata": {},
   "outputs": [
    {
     "data": {
      "image/png": "[encoded data removed]",
      "text/plain": [
       "<Figure size 720x360 with 1 Axes>"
      ]
     },
     "metadata": {
      "needs_background": "light"
     },
     "output_type": "display_data"
    }
   ],
   "source": [
    "if do_catboost:\n",
    "    confidences = model.predict_proba(X_test)\n",
    "    confidences = np.max(confidences, axis=1) * (2*np.argmax(confidences, axis=1) - 1) * (2 * y_test.values.ravel() - 1)\n",
    "    wrong_preds = confidences[confidences < 0]\n",
    "    right_preds = confidences[confidences > 0]\n",
    "    plt.title(f'Model Confidences for Right and Wrong Predictions, overall accuracy={model.score(X_test, y_test.values.ravel())}')\n",
    "    plt.hist(right_preds, bins=25, label='Right Predictions')\n",
    "    plt.hist(wrong_preds, bins=25, label='Wrong Predictions')\n",
    "    plt.legend()\n",
    "    plt.show()\n"
   ]
  },
  {
   "cell_type": "code",
   "execution_count": 45,
   "metadata": {},
   "outputs": [
    {
     "name": "stdout",
     "output_type": "stream",
     "text": [
      "Train accuracy=0.9571331587624866\n"
     ]
    },
    {
     "data": {
      "image/png": "[encoded data removed]",
      "text/plain": [
       "<Figure size 720x360 with 1 Axes>"
      ]
     },
     "metadata": {
      "needs_background": "light"
     },
     "output_type": "display_data"
    }
   ],
   "source": [
    "if do_xgboost:\n",
    "  model = make_pipeline(dataset_transformer(),xgb.XGBClassifier(use_label_encoder=False, objective='binary:logistic', eval_metric='logloss'))\n",
    "  model.fit(X_cv, y_cv.values.ravel())\n",
    "  print(f'Train accuracy={model.score(X_cv, y_cv.values.ravel())}')\n",
    "  \n",
    "  confidences = model.predict_proba(X_test)\n",
    "  confidences = np.max(confidences, axis=1) * (2*np.argmax(confidences, axis=1) - 1) * (2 * y_test.values.ravel() - 1)\n",
    "  wrong_preds = confidences[confidences < 0]\n",
    "  right_preds = confidences[confidences > 0]\n",
    "  plt.title(f'Model Confidences for Right and Wrong Predictions, overall accuracy={model.score(X_test, y_test.values.ravel())}')\n",
    "  plt.hist(right_preds, bins=25, label='Right Predictions')\n",
    "  plt.hist(wrong_preds, bins=25, label='Wrong Predictions')\n",
    "  plt.legend()\n",
    "  plt.show()"
   ]
  },
  {
   "cell_type": "code",
   "execution_count": null,
   "metadata": {},
   "outputs": [],
   "source": []
  }
 ],
 "metadata": {
  "interpreter": {
   "hash": "43ec02794a5c6caca2187426f9bfbca63869e8dd5c007b90979db8c1bb48c23c"
  },
  "kernelspec": {
   "display_name": "Python 3.7.11 64-bit ('machine_learning': conda)",
   "language": "python",
   "name": "python3"
  },
  "language_info": {
   "codemirror_mode": {
    "name": "ipython",
    "version": 3
   },
   "file_extension": ".py",
   "mimetype": "text/x-python",
   "name": "python",
   "nbconvert_exporter": "python",
   "pygments_lexer": "ipython3",
   "version": "3.7.11"
  },
  "orig_nbformat": 4
 },
 "nbformat": 4,
 "nbformat_minor": 2
}

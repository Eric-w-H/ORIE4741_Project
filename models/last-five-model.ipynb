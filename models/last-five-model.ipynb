{
 "cells": [
  {
   "cell_type": "code",
   "execution_count": 9,
   "metadata": {},
   "outputs": [],
   "source": [
    "import os\n",
    "import numpy as np\n",
    "import pandas as pd\n",
    "from matplotlib import pyplot as plt"
   ]
  },
  {
   "cell_type": "code",
   "execution_count": 10,
   "metadata": {},
   "outputs": [],
   "source": [
    "project_directory = os.path.dirname(os.getcwd())\n",
    "raw_matches = os.path.join(\"data\",\"raw\",\"matches.csv\")\n"
   ]
  },
  {
   "cell_type": "code",
   "execution_count": 11,
   "metadata": {},
   "outputs": [
    {
     "data": {
      "text/html": [
       "<div>\n",
       "<style scoped>\n",
       "    .dataframe tbody tr th:only-of-type {\n",
       "        vertical-align: middle;\n",
       "    }\n",
       "\n",
       "    .dataframe tbody tr th {\n",
       "        vertical-align: top;\n",
       "    }\n",
       "\n",
       "    .dataframe thead th {\n",
       "        text-align: right;\n",
       "    }\n",
       "</style>\n",
       "<table border=\"1\" class=\"dataframe\">\n",
       "  <thead>\n",
       "    <tr style=\"text-align: right;\">\n",
       "      <th></th>\n",
       "      <th>Day</th>\n",
       "      <th>Date</th>\n",
       "      <th>Home/Away</th>\n",
       "      <th>Opponent</th>\n",
       "      <th>Score</th>\n",
       "      <th>W/L/T</th>\n",
       "      <th>Overtime</th>\n",
       "      <th>Location</th>\n",
       "      <th>Venue</th>\n",
       "      <th>Attendance</th>\n",
       "      <th>Notes</th>\n",
       "      <th>Home</th>\n",
       "    </tr>\n",
       "  </thead>\n",
       "  <tbody>\n",
       "    <tr>\n",
       "      <th>0</th>\n",
       "      <td>Sun</td>\n",
       "      <td>10/10/1920</td>\n",
       "      <td>H</td>\n",
       "      <td>Columbus Panhandles</td>\n",
       "      <td>37-0</td>\n",
       "      <td>W</td>\n",
       "      <td>NaN</td>\n",
       "      <td>Akron, OH</td>\n",
       "      <td>League Park</td>\n",
       "      <td>1500.0</td>\n",
       "      <td>NaN</td>\n",
       "      <td>Akron Pros</td>\n",
       "    </tr>\n",
       "    <tr>\n",
       "      <th>1</th>\n",
       "      <td>Sun</td>\n",
       "      <td>10/24/1920</td>\n",
       "      <td>H</td>\n",
       "      <td>Cleveland Tigers</td>\n",
       "      <td>7-0</td>\n",
       "      <td>W</td>\n",
       "      <td>NaN</td>\n",
       "      <td>Akron, OH</td>\n",
       "      <td>League Park</td>\n",
       "      <td>5000.0</td>\n",
       "      <td>NaN</td>\n",
       "      <td>Akron Pros</td>\n",
       "    </tr>\n",
       "    <tr>\n",
       "      <th>2</th>\n",
       "      <td>Sun</td>\n",
       "      <td>10/31/1920</td>\n",
       "      <td>A</td>\n",
       "      <td>Canton Bulldogs</td>\n",
       "      <td>10-0</td>\n",
       "      <td>W</td>\n",
       "      <td>NaN</td>\n",
       "      <td>Canton, OH</td>\n",
       "      <td>Lakeside Athletic Park</td>\n",
       "      <td>6000.0</td>\n",
       "      <td>NaN</td>\n",
       "      <td>Akron Pros</td>\n",
       "    </tr>\n",
       "    <tr>\n",
       "      <th>3</th>\n",
       "      <td>Sun</td>\n",
       "      <td>11/7/1920</td>\n",
       "      <td>A</td>\n",
       "      <td>Rock Island Independents</td>\n",
       "      <td>NaN</td>\n",
       "      <td>-</td>\n",
       "      <td>NaN</td>\n",
       "      <td>Rock Island, IL</td>\n",
       "      <td>Douglas Park</td>\n",
       "      <td>NaN</td>\n",
       "      <td>Canceled</td>\n",
       "      <td>Akron Pros</td>\n",
       "    </tr>\n",
       "    <tr>\n",
       "      <th>4</th>\n",
       "      <td>Sun</td>\n",
       "      <td>11/7/1920</td>\n",
       "      <td>H</td>\n",
       "      <td>Detroit Heralds</td>\n",
       "      <td>NaN</td>\n",
       "      <td>-</td>\n",
       "      <td>NaN</td>\n",
       "      <td>Akron, OH</td>\n",
       "      <td>League Park</td>\n",
       "      <td>NaN</td>\n",
       "      <td>Canceled</td>\n",
       "      <td>Akron Pros</td>\n",
       "    </tr>\n",
       "  </tbody>\n",
       "</table>\n",
       "</div>"
      ],
      "text/plain": [
       "   Day        Date Home/Away                  Opponent Score W/L/T Overtime  \\\n",
       "0  Sun  10/10/1920         H       Columbus Panhandles  37-0     W      NaN   \n",
       "1  Sun  10/24/1920         H          Cleveland Tigers   7-0     W      NaN   \n",
       "2  Sun  10/31/1920         A           Canton Bulldogs  10-0     W      NaN   \n",
       "3  Sun   11/7/1920         A  Rock Island Independents   NaN     -      NaN   \n",
       "4  Sun   11/7/1920         H           Detroit Heralds   NaN     -      NaN   \n",
       "\n",
       "          Location                   Venue  Attendance     Notes        Home  \n",
       "0        Akron, OH             League Park      1500.0       NaN  Akron Pros  \n",
       "1        Akron, OH             League Park      5000.0       NaN  Akron Pros  \n",
       "2       Canton, OH  Lakeside Athletic Park      6000.0       NaN  Akron Pros  \n",
       "3  Rock Island, IL            Douglas Park         NaN  Canceled  Akron Pros  \n",
       "4        Akron, OH             League Park         NaN  Canceled  Akron Pros  "
      ]
     },
     "execution_count": 11,
     "metadata": {},
     "output_type": "execute_result"
    }
   ],
   "source": [
    "df = pd.read_csv(os.path.join(project_directory, raw_matches), index_col=0).reindex()\n",
    "df.head()"
   ]
  },
  {
   "cell_type": "code",
   "execution_count": 12,
   "metadata": {},
   "outputs": [
    {
     "name": "stdout",
     "output_type": "stream",
     "text": [
      "<class 'pandas.core.frame.DataFrame'>\n",
      "Int64Index: 32328 entries, 0 to 15\n",
      "Data columns (total 12 columns):\n",
      " #   Column      Non-Null Count  Dtype  \n",
      "---  ------      --------------  -----  \n",
      " 0   Day         32328 non-null  object \n",
      " 1   Date        32328 non-null  object \n",
      " 2   Home/Away   32323 non-null  object \n",
      " 3   Opponent    32328 non-null  object \n",
      " 4   Score       31852 non-null  object \n",
      " 5   W/L/T       32325 non-null  object \n",
      " 6   Overtime    1090 non-null   object \n",
      " 7   Location    32321 non-null  object \n",
      " 8   Venue       32274 non-null  object \n",
      " 9   Attendance  31538 non-null  float64\n",
      " 10  Notes       1783 non-null   object \n",
      " 11  Home        32328 non-null  object \n",
      "dtypes: float64(1), object(11)\n",
      "memory usage: 3.2+ MB\n"
     ]
    }
   ],
   "source": [
    "df.info()"
   ]
  },
  {
   "cell_type": "code",
   "execution_count": 13,
   "metadata": {},
   "outputs": [],
   "source": [
    "# Keep only games with scores\n",
    "df.dropna(axis=0, subset=['Score'], inplace=True)"
   ]
  },
  {
   "cell_type": "code",
   "execution_count": 16,
   "metadata": {},
   "outputs": [],
   "source": [
    "df['Date'] = pd.to_datetime(df.Date)\n",
    "df[['Team Score', 'Opponent Score']] = df.Score.str.split('-', expand=True)"
   ]
  },
  {
   "cell_type": "code",
   "execution_count": 28,
   "metadata": {},
   "outputs": [
    {
     "data": {
      "text/plain": [
       "<AxesSubplot:ylabel='Frequency'>"
      ]
     },
     "execution_count": 28,
     "metadata": {},
     "output_type": "execute_result"
    },
    {
     "data": {
      "image/png": "[encoded data removed]",
      "text/plain": [
       "<Figure size 432x288 with 1 Axes>"
      ]
     },
     "metadata": {
      "needs_background": "light"
     },
     "output_type": "display_data"
    }
   ],
   "source": [
    "df.Opponent.value_counts().plot.hist()"
   ]
  },
  {
   "cell_type": "code",
   "execution_count": 17,
   "metadata": {},
   "outputs": [
    {
     "data": {
      "text/html": [
       "<div>\n",
       "<style scoped>\n",
       "    .dataframe tbody tr th:only-of-type {\n",
       "        vertical-align: middle;\n",
       "    }\n",
       "\n",
       "    .dataframe tbody tr th {\n",
       "        vertical-align: top;\n",
       "    }\n",
       "\n",
       "    .dataframe thead th {\n",
       "        text-align: right;\n",
       "    }\n",
       "</style>\n",
       "<table border=\"1\" class=\"dataframe\">\n",
       "  <thead>\n",
       "    <tr style=\"text-align: right;\">\n",
       "      <th></th>\n",
       "      <th>Day</th>\n",
       "      <th>Date</th>\n",
       "      <th>Home/Away</th>\n",
       "      <th>Opponent</th>\n",
       "      <th>Score</th>\n",
       "      <th>W/L/T</th>\n",
       "      <th>Overtime</th>\n",
       "      <th>Location</th>\n",
       "      <th>Venue</th>\n",
       "      <th>Attendance</th>\n",
       "      <th>Notes</th>\n",
       "      <th>Home</th>\n",
       "      <th>Team Score</th>\n",
       "      <th>Opponent Score</th>\n",
       "    </tr>\n",
       "  </thead>\n",
       "  <tbody>\n",
       "    <tr>\n",
       "      <th>0</th>\n",
       "      <td>Sun</td>\n",
       "      <td>1920-10-03</td>\n",
       "      <td>A</td>\n",
       "      <td>Rock Island Independents</td>\n",
       "      <td>0-45</td>\n",
       "      <td>L</td>\n",
       "      <td>NaN</td>\n",
       "      <td>Rock Island, IL</td>\n",
       "      <td>Douglas Park</td>\n",
       "      <td>3100.0</td>\n",
       "      <td>NaN</td>\n",
       "      <td>Muncie Flyers</td>\n",
       "      <td>0</td>\n",
       "      <td>45</td>\n",
       "    </tr>\n",
       "    <tr>\n",
       "      <th>0</th>\n",
       "      <td>Sun</td>\n",
       "      <td>1920-10-03</td>\n",
       "      <td>H</td>\n",
       "      <td>Muncie Flyers</td>\n",
       "      <td>45-0</td>\n",
       "      <td>W</td>\n",
       "      <td>NaN</td>\n",
       "      <td>Rock Island, IL</td>\n",
       "      <td>Douglas Park</td>\n",
       "      <td>3100.0</td>\n",
       "      <td>NaN</td>\n",
       "      <td>Rock Island Independents</td>\n",
       "      <td>45</td>\n",
       "      <td>0</td>\n",
       "    </tr>\n",
       "    <tr>\n",
       "      <th>0</th>\n",
       "      <td>Sun</td>\n",
       "      <td>1920-10-03</td>\n",
       "      <td>A</td>\n",
       "      <td>Dayton Triangles</td>\n",
       "      <td>0-14</td>\n",
       "      <td>L</td>\n",
       "      <td>NaN</td>\n",
       "      <td>Dayton, OH</td>\n",
       "      <td>Triangle Park</td>\n",
       "      <td>NaN</td>\n",
       "      <td>NaN</td>\n",
       "      <td>Columbus Panhandles</td>\n",
       "      <td>0</td>\n",
       "      <td>14</td>\n",
       "    </tr>\n",
       "    <tr>\n",
       "      <th>0</th>\n",
       "      <td>Sun</td>\n",
       "      <td>1920-10-03</td>\n",
       "      <td>H</td>\n",
       "      <td>Columbus Panhandles</td>\n",
       "      <td>14-0</td>\n",
       "      <td>W</td>\n",
       "      <td>NaN</td>\n",
       "      <td>Dayton, OH</td>\n",
       "      <td>Triangle Park</td>\n",
       "      <td>NaN</td>\n",
       "      <td>NaN</td>\n",
       "      <td>Dayton Triangles</td>\n",
       "      <td>14</td>\n",
       "      <td>0</td>\n",
       "    </tr>\n",
       "    <tr>\n",
       "      <th>0</th>\n",
       "      <td>Sun</td>\n",
       "      <td>1920-10-10</td>\n",
       "      <td>A</td>\n",
       "      <td>Chicago Tigers</td>\n",
       "      <td>0-0</td>\n",
       "      <td>T</td>\n",
       "      <td>NaN</td>\n",
       "      <td>Chicago, IL</td>\n",
       "      <td>Cubs Park</td>\n",
       "      <td>8000.0</td>\n",
       "      <td>NaN</td>\n",
       "      <td>Chicago Cardinals</td>\n",
       "      <td>0</td>\n",
       "      <td>0</td>\n",
       "    </tr>\n",
       "  </tbody>\n",
       "</table>\n",
       "</div>"
      ],
      "text/plain": [
       "   Day       Date Home/Away                  Opponent Score W/L/T Overtime  \\\n",
       "0  Sun 1920-10-03         A  Rock Island Independents  0-45     L      NaN   \n",
       "0  Sun 1920-10-03         H             Muncie Flyers  45-0     W      NaN   \n",
       "0  Sun 1920-10-03         A          Dayton Triangles  0-14     L      NaN   \n",
       "0  Sun 1920-10-03         H       Columbus Panhandles  14-0     W      NaN   \n",
       "0  Sun 1920-10-10         A            Chicago Tigers   0-0     T      NaN   \n",
       "\n",
       "          Location          Venue  Attendance Notes                      Home  \\\n",
       "0  Rock Island, IL   Douglas Park      3100.0   NaN             Muncie Flyers   \n",
       "0  Rock Island, IL   Douglas Park      3100.0   NaN  Rock Island Independents   \n",
       "0       Dayton, OH  Triangle Park         NaN   NaN       Columbus Panhandles   \n",
       "0       Dayton, OH  Triangle Park         NaN   NaN          Dayton Triangles   \n",
       "0      Chicago, IL      Cubs Park      8000.0   NaN         Chicago Cardinals   \n",
       "\n",
       "  Team Score Opponent Score  \n",
       "0          0             45  \n",
       "0         45              0  \n",
       "0          0             14  \n",
       "0         14              0  \n",
       "0          0              0  "
      ]
     },
     "execution_count": 17,
     "metadata": {},
     "output_type": "execute_result"
    }
   ],
   "source": [
    "sort_by_date = df.sort_values(by=['Date', 'Venue', 'Home/Away'])\n",
    "sort_by_date.head()"
   ]
  },
  {
   "cell_type": "code",
   "execution_count": null,
   "metadata": {},
   "outputs": [],
   "source": []
  }
 ],
 "metadata": {
  "interpreter": {
   "hash": "43ec02794a5c6caca2187426f9bfbca63869e8dd5c007b90979db8c1bb48c23c"
  },
  "kernelspec": {
   "display_name": "Python 3.7.9 64-bit ('machine_learning': conda)",
   "language": "python",
   "name": "python3"
  },
  "language_info": {
   "codemirror_mode": {
    "name": "ipython",
    "version": 3
   },
   "file_extension": ".py",
   "mimetype": "text/x-python",
   "name": "python",
   "nbconvert_exporter": "python",
   "pygments_lexer": "ipython3",
   "version": "3.7.9"
  },
  "orig_nbformat": 4
 },
 "nbformat": 4,
 "nbformat_minor": 2
}

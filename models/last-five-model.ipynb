{
 "cells": [
  {
   "cell_type": "code",
   "execution_count": 57,
   "metadata": {},
   "outputs": [],
   "source": [
    "import os\n",
    "import numpy as np\n",
    "import pandas as pd\n",
    "from scipy import stats\n",
    "import seaborn as sns\n",
    "from matplotlib import pyplot as plt\n"
   ]
  },
  {
   "cell_type": "code",
   "execution_count": 58,
   "metadata": {},
   "outputs": [
    {
     "data": {
      "text/html": [
       "<div>\n",
       "<style scoped>\n",
       "    .dataframe tbody tr th:only-of-type {\n",
       "        vertical-align: middle;\n",
       "    }\n",
       "\n",
       "    .dataframe tbody tr th {\n",
       "        vertical-align: top;\n",
       "    }\n",
       "\n",
       "    .dataframe thead th {\n",
       "        text-align: right;\n",
       "    }\n",
       "</style>\n",
       "<table border=\"1\" class=\"dataframe\">\n",
       "  <thead>\n",
       "    <tr style=\"text-align: right;\">\n",
       "      <th></th>\n",
       "      <th>Day</th>\n",
       "      <th>Date</th>\n",
       "      <th>Home/Away</th>\n",
       "      <th>Opponent</th>\n",
       "      <th>Score</th>\n",
       "      <th>W/L/T</th>\n",
       "      <th>Overtime</th>\n",
       "      <th>Location</th>\n",
       "      <th>Venue</th>\n",
       "      <th>Attendance</th>\n",
       "      <th>Notes</th>\n",
       "      <th>Team</th>\n",
       "      <th>Team Code</th>\n",
       "      <th>Opponent Code</th>\n",
       "    </tr>\n",
       "  </thead>\n",
       "  <tbody>\n",
       "    <tr>\n",
       "      <th>0</th>\n",
       "      <td>Sun</td>\n",
       "      <td>10/10/1920</td>\n",
       "      <td>H</td>\n",
       "      <td>Columbus Panhandles</td>\n",
       "      <td>37-0</td>\n",
       "      <td>W</td>\n",
       "      <td>NaN</td>\n",
       "      <td>Akron, OH</td>\n",
       "      <td>League Park</td>\n",
       "      <td>1500.0</td>\n",
       "      <td>NaN</td>\n",
       "      <td>Akron Pros</td>\n",
       "      <td>akr</td>\n",
       "      <td>col</td>\n",
       "    </tr>\n",
       "    <tr>\n",
       "      <th>1</th>\n",
       "      <td>Sun</td>\n",
       "      <td>10/24/1920</td>\n",
       "      <td>H</td>\n",
       "      <td>Cleveland Tigers</td>\n",
       "      <td>7-0</td>\n",
       "      <td>W</td>\n",
       "      <td>NaN</td>\n",
       "      <td>Akron, OH</td>\n",
       "      <td>League Park</td>\n",
       "      <td>5000.0</td>\n",
       "      <td>NaN</td>\n",
       "      <td>Akron Pros</td>\n",
       "      <td>akr</td>\n",
       "      <td>cle</td>\n",
       "    </tr>\n",
       "    <tr>\n",
       "      <th>2</th>\n",
       "      <td>Sun</td>\n",
       "      <td>10/31/1920</td>\n",
       "      <td>A</td>\n",
       "      <td>Canton Bulldogs</td>\n",
       "      <td>10-0</td>\n",
       "      <td>W</td>\n",
       "      <td>NaN</td>\n",
       "      <td>Canton, OH</td>\n",
       "      <td>Lakeside Athletic Park</td>\n",
       "      <td>6000.0</td>\n",
       "      <td>NaN</td>\n",
       "      <td>Akron Pros</td>\n",
       "      <td>akr</td>\n",
       "      <td>can</td>\n",
       "    </tr>\n",
       "    <tr>\n",
       "      <th>3</th>\n",
       "      <td>Sun</td>\n",
       "      <td>11/7/1920</td>\n",
       "      <td>A</td>\n",
       "      <td>Rock Island Independents</td>\n",
       "      <td>NaN</td>\n",
       "      <td>-</td>\n",
       "      <td>NaN</td>\n",
       "      <td>Rock Island, IL</td>\n",
       "      <td>Douglas Park</td>\n",
       "      <td>NaN</td>\n",
       "      <td>Canceled</td>\n",
       "      <td>Akron Pros</td>\n",
       "      <td>akr</td>\n",
       "      <td>ri</td>\n",
       "    </tr>\n",
       "    <tr>\n",
       "      <th>4</th>\n",
       "      <td>Sun</td>\n",
       "      <td>11/7/1920</td>\n",
       "      <td>H</td>\n",
       "      <td>Detroit Heralds</td>\n",
       "      <td>NaN</td>\n",
       "      <td>-</td>\n",
       "      <td>NaN</td>\n",
       "      <td>Akron, OH</td>\n",
       "      <td>League Park</td>\n",
       "      <td>NaN</td>\n",
       "      <td>Canceled</td>\n",
       "      <td>Akron Pros</td>\n",
       "      <td>akr</td>\n",
       "      <td>det</td>\n",
       "    </tr>\n",
       "  </tbody>\n",
       "</table>\n",
       "</div>"
      ],
      "text/plain": [
       "   Day        Date Home/Away                  Opponent Score W/L/T Overtime  \\\n",
       "0  Sun  10/10/1920         H       Columbus Panhandles  37-0     W      NaN   \n",
       "1  Sun  10/24/1920         H          Cleveland Tigers   7-0     W      NaN   \n",
       "2  Sun  10/31/1920         A           Canton Bulldogs  10-0     W      NaN   \n",
       "3  Sun   11/7/1920         A  Rock Island Independents   NaN     -      NaN   \n",
       "4  Sun   11/7/1920         H           Detroit Heralds   NaN     -      NaN   \n",
       "\n",
       "          Location                   Venue  Attendance     Notes        Team  \\\n",
       "0        Akron, OH             League Park      1500.0       NaN  Akron Pros   \n",
       "1        Akron, OH             League Park      5000.0       NaN  Akron Pros   \n",
       "2       Canton, OH  Lakeside Athletic Park      6000.0       NaN  Akron Pros   \n",
       "3  Rock Island, IL            Douglas Park         NaN  Canceled  Akron Pros   \n",
       "4        Akron, OH             League Park         NaN  Canceled  Akron Pros   \n",
       "\n",
       "  Team Code Opponent Code  \n",
       "0       akr           col  \n",
       "1       akr           cle  \n",
       "2       akr           can  \n",
       "3       akr            ri  \n",
       "4       akr           det  "
      ]
     },
     "execution_count": 58,
     "metadata": {},
     "output_type": "execute_result"
    }
   ],
   "source": [
    "project_directory = os.path.dirname(os.getcwd())\n",
    "raw_matches = os.path.join(\"data\", \"raw\", \"matches.csv\")\n",
    "\n",
    "df = pd.read_csv(os.path.join(project_directory, raw_matches),\n",
    "                 index_col=0).reset_index(drop=True)\n",
    "df.head()\n"
   ]
  },
  {
   "cell_type": "code",
   "execution_count": 59,
   "metadata": {},
   "outputs": [
    {
     "name": "stdout",
     "output_type": "stream",
     "text": [
      "<class 'pandas.core.frame.DataFrame'>\n",
      "Int64Index: 31852 entries, 0 to 32327\n",
      "Data columns (total 16 columns):\n",
      " #   Column          Non-Null Count  Dtype         \n",
      "---  ------          --------------  -----         \n",
      " 0   Day             31852 non-null  object        \n",
      " 1   Date            31852 non-null  datetime64[ns]\n",
      " 2   Home/Away       31852 non-null  object        \n",
      " 3   Opponent        31852 non-null  object        \n",
      " 4   Score           31852 non-null  object        \n",
      " 5   W/L/T           31852 non-null  object        \n",
      " 6   Overtime        1090 non-null   object        \n",
      " 7   Location        31852 non-null  object        \n",
      " 8   Venue           31851 non-null  object        \n",
      " 9   Attendance      31534 non-null  float64       \n",
      " 10  Notes           1307 non-null   object        \n",
      " 11  Team            31852 non-null  object        \n",
      " 12  Team Code       31852 non-null  object        \n",
      " 13  Opponent Code   31852 non-null  object        \n",
      " 14  Team Score      31852 non-null  object        \n",
      " 15  Opponent Score  31852 non-null  object        \n",
      "dtypes: datetime64[ns](1), float64(1), object(14)\n",
      "memory usage: 5.4+ MB\n"
     ]
    }
   ],
   "source": [
    "# Take only home matches, can reconstruct away matches.\n",
    "# Helps filter outliers.\n",
    "\n",
    "# df = df.loc[df['Home/Away'] == 'H']\n",
    "# df.drop(columns='Home/Away', inplace=True)\n",
    "\n",
    "df.dropna(axis=0, subset=['Score'], inplace=True)\n",
    "\n",
    "# Turns out there's a typo, fix by knowing the right answer\n",
    "df.loc[29783, 'Score'] = '9-24'\n",
    "\n",
    "df['Date'] = pd.to_datetime(df.Date)\n",
    "df[['Team Score', 'Opponent Score']] = df.Score.str.split('-', expand=True)\n",
    "\n",
    "df.info()\n"
   ]
  },
  {
   "cell_type": "code",
   "execution_count": 60,
   "metadata": {},
   "outputs": [
    {
     "name": "stdout",
     "output_type": "stream",
     "text": [
      "Day: Index(['Fri', 'Mon', 'Sat', 'Sun', 'Thu', 'Tue', 'Wed'], dtype='object') | len: 7\n",
      "W/L/T: Index(['2', 'L', 'T', 'W'], dtype='object') | len: 4\n",
      "Team Code: Index(['akr', 'ari', 'atl', 'bal', 'bkn', 'bos', 'buf', 'c-p', 'can', 'car',\n",
      "       ...\n",
      "       'sd', 'sea', 'sf', 'si', 'stl', 'tb', 'ten', 'tol', 'ton', 'was'],\n",
      "      dtype='object', length=103) | len: 103\n",
      "Opponent Code: Index(['aflkc', 'aflnyj', 'afloak', 'akr', 'ari', 'atl', 'bal', 'bkn', 'bos',\n",
      "       'buf', 'c-p', 'can', 'car', 'chib', 'chic', 'chit', 'cin', 'cle', 'col',\n",
      "       'dal', 'day', 'dec', 'den', 'det', 'dul', 'eva', 'fra', 'gb', 'ham',\n",
      "       'har', 'hou', 'ind', 'jac', 'kc', 'ken', 'la', 'lac', 'lari', 'larm',\n",
      "       'lou', 'lv', 'mia', 'mil', 'min', 'mun', 'ne', 'new', 'no', 'ny', 'nyb',\n",
      "       'nyg', 'nyj', 'nyy', 'oak', 'oor', 'ora', 'p-p', 'phi', 'phx', 'pit',\n",
      "       'por', 'pot', 'pro', 'rac', 'ri', 'roc', 'sd', 'sea', 'sf', 'si', 'stl',\n",
      "       'tb', 'ten', 'tol', 'ton', 'was'],\n",
      "      dtype='object') | len: 76\n"
     ]
    }
   ],
   "source": [
    "categorical_cols = [\n",
    "    'Day',\n",
    "    'W/L/T',\n",
    "    'Team Code',\n",
    "    'Opponent Code'\n",
    "]\n",
    "numeric_cols = [\n",
    "    'Team Score',\n",
    "    'Opponent Score'\n",
    "]\n",
    "\n",
    "df[categorical_cols] = df[categorical_cols].astype(\n",
    "    'category')\n",
    "\n",
    "for col in categorical_cols:\n",
    "    print(col + ':', df[col].cat.categories,'| len:' , len(df[col].cat.categories))\n",
    "\n",
    "df[numeric_cols] = df[numeric_cols].apply(pd.to_numeric)"
   ]
  },
  {
   "cell_type": "code",
   "execution_count": 61,
   "metadata": {},
   "outputs": [
    {
     "data": {
      "image/png": "[encoded data removed]",
      "text/plain": [
       "<Figure size 432x288 with 1 Axes>"
      ]
     },
     "metadata": {
      "needs_background": "light"
     },
     "output_type": "display_data"
    },
    {
     "name": "stdout",
     "output_type": "stream",
     "text": [
      "Included labels: 31 from gb ... ari\n"
     ]
    }
   ],
   "source": [
    "# Experiment with including only the teams that\n",
    "# played the most games.\n",
    "# In this case, inclusion rate is the cutoff\n",
    "# for the cumulative sum of the teams with\n",
    "# the most played games.\n",
    "inclusion_rate = 0.9\n",
    "\n",
    "code_frequencies = df['Team Code'].value_counts()\n",
    "cumsum_freq = code_frequencies.cumsum()\n",
    "freq_max = cumsum_freq.max()\n",
    "cumsum_freq = cumsum_freq / freq_max\n",
    "\n",
    "included_labels = cumsum_freq.index[cumsum_freq <= inclusion_rate]\n",
    "included_x = cumsum_freq.index.get_loc(included_labels[-1])\n",
    "\n",
    "zero_based = pd.Series([0], index=['zero']).append(cumsum_freq)\n",
    "\n",
    "zero_based.plot()\n",
    "plt.axhline(inclusion_rate, color='k')\n",
    "plt.ylim(-0.1, 1.1)\n",
    "plt.show()\n",
    "print(f'Included labels: {len(included_labels)} from {included_labels[0]} ... {included_labels[-1]}')\n",
    "\n",
    "df_reduced = df[df['Team Code'].isin(included_labels) & df['Opponent Code'].isin(included_labels)].reset_index(drop=True)"
   ]
  },
  {
   "cell_type": "code",
   "execution_count": 62,
   "metadata": {},
   "outputs": [
    {
     "data": {
      "text/html": [
       "<div>\n",
       "<style scoped>\n",
       "    .dataframe tbody tr th:only-of-type {\n",
       "        vertical-align: middle;\n",
       "    }\n",
       "\n",
       "    .dataframe tbody tr th {\n",
       "        vertical-align: top;\n",
       "    }\n",
       "\n",
       "    .dataframe thead th {\n",
       "        text-align: right;\n",
       "    }\n",
       "</style>\n",
       "<table border=\"1\" class=\"dataframe\">\n",
       "  <thead>\n",
       "    <tr style=\"text-align: right;\">\n",
       "      <th></th>\n",
       "      <th>Day</th>\n",
       "      <th>Date</th>\n",
       "      <th>Home/Away</th>\n",
       "      <th>Opponent</th>\n",
       "      <th>Score</th>\n",
       "      <th>W/L/T</th>\n",
       "      <th>Overtime</th>\n",
       "      <th>Location</th>\n",
       "      <th>Venue</th>\n",
       "      <th>Attendance</th>\n",
       "      <th>Notes</th>\n",
       "      <th>Team</th>\n",
       "      <th>Team Code</th>\n",
       "      <th>Opponent Code</th>\n",
       "      <th>Team Score</th>\n",
       "      <th>Opponent Score</th>\n",
       "    </tr>\n",
       "  </thead>\n",
       "  <tbody>\n",
       "    <tr>\n",
       "      <th>0</th>\n",
       "      <td>Sun</td>\n",
       "      <td>1920-11-28</td>\n",
       "      <td>H</td>\n",
       "      <td>Cleveland Tigers</td>\n",
       "      <td>7-0</td>\n",
       "      <td>W</td>\n",
       "      <td>NaN</td>\n",
       "      <td>Buffalo, NY</td>\n",
       "      <td>Buffalo Baseball Park</td>\n",
       "      <td>5000.0</td>\n",
       "      <td>NaN</td>\n",
       "      <td>Buffalo All-Americans</td>\n",
       "      <td>buf</td>\n",
       "      <td>cle</td>\n",
       "      <td>7</td>\n",
       "      <td>0</td>\n",
       "    </tr>\n",
       "    <tr>\n",
       "      <th>1</th>\n",
       "      <td>Sun</td>\n",
       "      <td>1920-10-31</td>\n",
       "      <td>H</td>\n",
       "      <td>Detroit Heralds</td>\n",
       "      <td>21-0</td>\n",
       "      <td>W</td>\n",
       "      <td>NaN</td>\n",
       "      <td>Chicago, IL</td>\n",
       "      <td>Cubs Park</td>\n",
       "      <td>3000.0</td>\n",
       "      <td>NaN</td>\n",
       "      <td>Chicago Cardinals</td>\n",
       "      <td>chic</td>\n",
       "      <td>det</td>\n",
       "      <td>21</td>\n",
       "      <td>0</td>\n",
       "    </tr>\n",
       "    <tr>\n",
       "      <th>2</th>\n",
       "      <td>Sun</td>\n",
       "      <td>1920-10-31</td>\n",
       "      <td>A</td>\n",
       "      <td>Chicago Cardinals</td>\n",
       "      <td>0-21</td>\n",
       "      <td>L</td>\n",
       "      <td>NaN</td>\n",
       "      <td>Chicago, IL</td>\n",
       "      <td>Cubs Park</td>\n",
       "      <td>3000.0</td>\n",
       "      <td>NaN</td>\n",
       "      <td>Detroit Heralds</td>\n",
       "      <td>det</td>\n",
       "      <td>chic</td>\n",
       "      <td>0</td>\n",
       "      <td>21</td>\n",
       "    </tr>\n",
       "    <tr>\n",
       "      <th>3</th>\n",
       "      <td>Sun</td>\n",
       "      <td>1920-11-28</td>\n",
       "      <td>A</td>\n",
       "      <td>Buffalo All-Americans</td>\n",
       "      <td>0-7</td>\n",
       "      <td>L</td>\n",
       "      <td>NaN</td>\n",
       "      <td>Buffalo, NY</td>\n",
       "      <td>Buffalo Baseball Park</td>\n",
       "      <td>5000.0</td>\n",
       "      <td>NaN</td>\n",
       "      <td>Cleveland Tigers</td>\n",
       "      <td>cle</td>\n",
       "      <td>buf</td>\n",
       "      <td>0</td>\n",
       "      <td>7</td>\n",
       "    </tr>\n",
       "    <tr>\n",
       "      <th>4</th>\n",
       "      <td>Sun</td>\n",
       "      <td>1921-10-30</td>\n",
       "      <td>H</td>\n",
       "      <td>Detroit Tigers</td>\n",
       "      <td>21-0</td>\n",
       "      <td>W</td>\n",
       "      <td>NaN</td>\n",
       "      <td>Buffalo, NY</td>\n",
       "      <td>Canisius Villa</td>\n",
       "      <td>7000.0</td>\n",
       "      <td>NaN</td>\n",
       "      <td>Buffalo All-Americans</td>\n",
       "      <td>buf</td>\n",
       "      <td>det</td>\n",
       "      <td>21</td>\n",
       "      <td>0</td>\n",
       "    </tr>\n",
       "  </tbody>\n",
       "</table>\n",
       "</div>"
      ],
      "text/plain": [
       "   Day       Date Home/Away               Opponent Score W/L/T Overtime  \\\n",
       "0  Sun 1920-11-28         H       Cleveland Tigers   7-0     W      NaN   \n",
       "1  Sun 1920-10-31         H        Detroit Heralds  21-0     W      NaN   \n",
       "2  Sun 1920-10-31         A      Chicago Cardinals  0-21     L      NaN   \n",
       "3  Sun 1920-11-28         A  Buffalo All-Americans   0-7     L      NaN   \n",
       "4  Sun 1921-10-30         H         Detroit Tigers  21-0     W      NaN   \n",
       "\n",
       "      Location                  Venue  Attendance Notes  \\\n",
       "0  Buffalo, NY  Buffalo Baseball Park      5000.0   NaN   \n",
       "1  Chicago, IL              Cubs Park      3000.0   NaN   \n",
       "2  Chicago, IL              Cubs Park      3000.0   NaN   \n",
       "3  Buffalo, NY  Buffalo Baseball Park      5000.0   NaN   \n",
       "4  Buffalo, NY         Canisius Villa      7000.0   NaN   \n",
       "\n",
       "                    Team Team Code Opponent Code  Team Score  Opponent Score  \n",
       "0  Buffalo All-Americans       buf           cle           7               0  \n",
       "1      Chicago Cardinals      chic           det          21               0  \n",
       "2        Detroit Heralds       det          chic           0              21  \n",
       "3       Cleveland Tigers       cle           buf           0               7  \n",
       "4  Buffalo All-Americans       buf           det          21               0  "
      ]
     },
     "execution_count": 62,
     "metadata": {},
     "output_type": "execute_result"
    }
   ],
   "source": [
    "def applicable_remove_unused(series:pd.Series):\n",
    "  return series.cat.remove_unused_categories()\n",
    "df_reduced[categorical_cols] = df_reduced[categorical_cols].apply(applicable_remove_unused)\n",
    "df_reduced.head()"
   ]
  },
  {
   "cell_type": "code",
   "execution_count": 63,
   "metadata": {},
   "outputs": [
    {
     "data": {
      "text/html": [
       "<div>\n",
       "<style scoped>\n",
       "    .dataframe tbody tr th:only-of-type {\n",
       "        vertical-align: middle;\n",
       "    }\n",
       "\n",
       "    .dataframe tbody tr th {\n",
       "        vertical-align: top;\n",
       "    }\n",
       "\n",
       "    .dataframe thead th {\n",
       "        text-align: right;\n",
       "    }\n",
       "</style>\n",
       "<table border=\"1\" class=\"dataframe\">\n",
       "  <thead>\n",
       "    <tr style=\"text-align: right;\">\n",
       "      <th></th>\n",
       "      <th>Team Score</th>\n",
       "      <th>Opponent Score</th>\n",
       "    </tr>\n",
       "  </thead>\n",
       "  <tbody>\n",
       "    <tr>\n",
       "      <th>count</th>\n",
       "      <td>26124.000000</td>\n",
       "      <td>26124.000000</td>\n",
       "    </tr>\n",
       "    <tr>\n",
       "      <th>mean</th>\n",
       "      <td>20.646226</td>\n",
       "      <td>20.654188</td>\n",
       "    </tr>\n",
       "    <tr>\n",
       "      <th>std</th>\n",
       "      <td>10.787778</td>\n",
       "      <td>10.981308</td>\n",
       "    </tr>\n",
       "    <tr>\n",
       "      <th>min</th>\n",
       "      <td>0.000000</td>\n",
       "      <td>0.000000</td>\n",
       "    </tr>\n",
       "    <tr>\n",
       "      <th>25%</th>\n",
       "      <td>13.000000</td>\n",
       "      <td>13.000000</td>\n",
       "    </tr>\n",
       "    <tr>\n",
       "      <th>50%</th>\n",
       "      <td>20.000000</td>\n",
       "      <td>20.000000</td>\n",
       "    </tr>\n",
       "    <tr>\n",
       "      <th>75%</th>\n",
       "      <td>27.000000</td>\n",
       "      <td>27.000000</td>\n",
       "    </tr>\n",
       "    <tr>\n",
       "      <th>max</th>\n",
       "      <td>73.000000</td>\n",
       "      <td>347.000000</td>\n",
       "    </tr>\n",
       "  </tbody>\n",
       "</table>\n",
       "</div>"
      ],
      "text/plain": [
       "         Team Score  Opponent Score\n",
       "count  26124.000000    26124.000000\n",
       "mean      20.646226       20.654188\n",
       "std       10.787778       10.981308\n",
       "min        0.000000        0.000000\n",
       "25%       13.000000       13.000000\n",
       "50%       20.000000       20.000000\n",
       "75%       27.000000       27.000000\n",
       "max       73.000000      347.000000"
      ]
     },
     "execution_count": 63,
     "metadata": {},
     "output_type": "execute_result"
    }
   ],
   "source": [
    "df_reduced[numeric_cols].describe()\n"
   ]
  },
  {
   "cell_type": "code",
   "execution_count": 64,
   "metadata": {},
   "outputs": [
    {
     "data": {
      "text/html": [
       "<div>\n",
       "<style scoped>\n",
       "    .dataframe tbody tr th:only-of-type {\n",
       "        vertical-align: middle;\n",
       "    }\n",
       "\n",
       "    .dataframe tbody tr th {\n",
       "        vertical-align: top;\n",
       "    }\n",
       "\n",
       "    .dataframe thead th {\n",
       "        text-align: right;\n",
       "    }\n",
       "</style>\n",
       "<table border=\"1\" class=\"dataframe\">\n",
       "  <thead>\n",
       "    <tr style=\"text-align: right;\">\n",
       "      <th></th>\n",
       "      <th>Day</th>\n",
       "      <th>W/L/T</th>\n",
       "      <th>Team Code</th>\n",
       "      <th>Opponent Code</th>\n",
       "    </tr>\n",
       "  </thead>\n",
       "  <tbody>\n",
       "    <tr>\n",
       "      <th>count</th>\n",
       "      <td>26124</td>\n",
       "      <td>26124</td>\n",
       "      <td>26124</td>\n",
       "      <td>26124</td>\n",
       "    </tr>\n",
       "    <tr>\n",
       "      <th>unique</th>\n",
       "      <td>7</td>\n",
       "      <td>3</td>\n",
       "      <td>31</td>\n",
       "      <td>31</td>\n",
       "    </tr>\n",
       "    <tr>\n",
       "      <th>top</th>\n",
       "      <td>Sun</td>\n",
       "      <td>W</td>\n",
       "      <td>chib</td>\n",
       "      <td>gb</td>\n",
       "    </tr>\n",
       "    <tr>\n",
       "      <th>freq</th>\n",
       "      <td>22902</td>\n",
       "      <td>12901</td>\n",
       "      <td>1290</td>\n",
       "      <td>1290</td>\n",
       "    </tr>\n",
       "  </tbody>\n",
       "</table>\n",
       "</div>"
      ],
      "text/plain": [
       "          Day  W/L/T Team Code Opponent Code\n",
       "count   26124  26124     26124         26124\n",
       "unique      7      3        31            31\n",
       "top       Sun      W      chib            gb\n",
       "freq    22902  12901      1290          1290"
      ]
     },
     "execution_count": 64,
     "metadata": {},
     "output_type": "execute_result"
    }
   ],
   "source": [
    "df_reduced[categorical_cols].describe()"
   ]
  },
  {
   "cell_type": "code",
   "execution_count": 65,
   "metadata": {},
   "outputs": [
    {
     "data": {
      "image/png": "[encoded data removed]",
      "text/plain": [
       "<Figure size 432x288 with 2 Axes>"
      ]
     },
     "metadata": {
      "needs_background": "light"
     },
     "output_type": "display_data"
    }
   ],
   "source": [
    "fig, (ax1, ax2) = plt.subplots(2, sharex=True)\n",
    "df_reduced['Team Code'].value_counts().plot.hist(ax=ax1)\n",
    "df['Team Code'].value_counts().plot.hist(ax=ax2)\n",
    "plt.show()"
   ]
  },
  {
   "cell_type": "code",
   "execution_count": 66,
   "metadata": {},
   "outputs": [
    {
     "data": {
      "text/html": [
       "<div>\n",
       "<style scoped>\n",
       "    .dataframe tbody tr th:only-of-type {\n",
       "        vertical-align: middle;\n",
       "    }\n",
       "\n",
       "    .dataframe tbody tr th {\n",
       "        vertical-align: top;\n",
       "    }\n",
       "\n",
       "    .dataframe thead th {\n",
       "        text-align: right;\n",
       "    }\n",
       "</style>\n",
       "<table border=\"1\" class=\"dataframe\">\n",
       "  <thead>\n",
       "    <tr style=\"text-align: right;\">\n",
       "      <th></th>\n",
       "      <th>Day</th>\n",
       "      <th>Date</th>\n",
       "      <th>Home/Away</th>\n",
       "      <th>Opponent</th>\n",
       "      <th>Score</th>\n",
       "      <th>W/L/T</th>\n",
       "      <th>Overtime</th>\n",
       "      <th>Location</th>\n",
       "      <th>Venue</th>\n",
       "      <th>Attendance</th>\n",
       "      <th>Notes</th>\n",
       "      <th>Team</th>\n",
       "      <th>Team Code</th>\n",
       "      <th>Opponent Code</th>\n",
       "      <th>Team Score</th>\n",
       "      <th>Opponent Score</th>\n",
       "    </tr>\n",
       "  </thead>\n",
       "  <tbody>\n",
       "    <tr>\n",
       "      <th>1</th>\n",
       "      <td>Sun</td>\n",
       "      <td>1920-10-31</td>\n",
       "      <td>H</td>\n",
       "      <td>Detroit Heralds</td>\n",
       "      <td>21-0</td>\n",
       "      <td>W</td>\n",
       "      <td>NaN</td>\n",
       "      <td>Chicago, IL</td>\n",
       "      <td>Cubs Park</td>\n",
       "      <td>3000.0</td>\n",
       "      <td>NaN</td>\n",
       "      <td>Chicago Cardinals</td>\n",
       "      <td>chic</td>\n",
       "      <td>det</td>\n",
       "      <td>21</td>\n",
       "      <td>0</td>\n",
       "    </tr>\n",
       "    <tr>\n",
       "      <th>2</th>\n",
       "      <td>Sun</td>\n",
       "      <td>1920-10-31</td>\n",
       "      <td>A</td>\n",
       "      <td>Chicago Cardinals</td>\n",
       "      <td>0-21</td>\n",
       "      <td>L</td>\n",
       "      <td>NaN</td>\n",
       "      <td>Chicago, IL</td>\n",
       "      <td>Cubs Park</td>\n",
       "      <td>3000.0</td>\n",
       "      <td>NaN</td>\n",
       "      <td>Detroit Heralds</td>\n",
       "      <td>det</td>\n",
       "      <td>chic</td>\n",
       "      <td>0</td>\n",
       "      <td>21</td>\n",
       "    </tr>\n",
       "    <tr>\n",
       "      <th>0</th>\n",
       "      <td>Sun</td>\n",
       "      <td>1920-11-28</td>\n",
       "      <td>H</td>\n",
       "      <td>Cleveland Tigers</td>\n",
       "      <td>7-0</td>\n",
       "      <td>W</td>\n",
       "      <td>NaN</td>\n",
       "      <td>Buffalo, NY</td>\n",
       "      <td>Buffalo Baseball Park</td>\n",
       "      <td>5000.0</td>\n",
       "      <td>NaN</td>\n",
       "      <td>Buffalo All-Americans</td>\n",
       "      <td>buf</td>\n",
       "      <td>cle</td>\n",
       "      <td>7</td>\n",
       "      <td>0</td>\n",
       "    </tr>\n",
       "    <tr>\n",
       "      <th>3</th>\n",
       "      <td>Sun</td>\n",
       "      <td>1920-11-28</td>\n",
       "      <td>A</td>\n",
       "      <td>Buffalo All-Americans</td>\n",
       "      <td>0-7</td>\n",
       "      <td>L</td>\n",
       "      <td>NaN</td>\n",
       "      <td>Buffalo, NY</td>\n",
       "      <td>Buffalo Baseball Park</td>\n",
       "      <td>5000.0</td>\n",
       "      <td>NaN</td>\n",
       "      <td>Cleveland Tigers</td>\n",
       "      <td>cle</td>\n",
       "      <td>buf</td>\n",
       "      <td>0</td>\n",
       "      <td>7</td>\n",
       "    </tr>\n",
       "    <tr>\n",
       "      <th>8</th>\n",
       "      <td>Sun</td>\n",
       "      <td>1921-10-02</td>\n",
       "      <td>H</td>\n",
       "      <td>Minneapolis Marines</td>\n",
       "      <td>20-0</td>\n",
       "      <td>W</td>\n",
       "      <td>NaN</td>\n",
       "      <td>Chicago, IL</td>\n",
       "      <td>Normal Park</td>\n",
       "      <td>4000.0</td>\n",
       "      <td>NaN</td>\n",
       "      <td>Chicago Cardinals</td>\n",
       "      <td>chic</td>\n",
       "      <td>min</td>\n",
       "      <td>20</td>\n",
       "      <td>0</td>\n",
       "    </tr>\n",
       "  </tbody>\n",
       "</table>\n",
       "</div>"
      ],
      "text/plain": [
       "   Day       Date Home/Away               Opponent Score W/L/T Overtime  \\\n",
       "1  Sun 1920-10-31         H        Detroit Heralds  21-0     W      NaN   \n",
       "2  Sun 1920-10-31         A      Chicago Cardinals  0-21     L      NaN   \n",
       "0  Sun 1920-11-28         H       Cleveland Tigers   7-0     W      NaN   \n",
       "3  Sun 1920-11-28         A  Buffalo All-Americans   0-7     L      NaN   \n",
       "8  Sun 1921-10-02         H    Minneapolis Marines  20-0     W      NaN   \n",
       "\n",
       "      Location                  Venue  Attendance Notes  \\\n",
       "1  Chicago, IL              Cubs Park      3000.0   NaN   \n",
       "2  Chicago, IL              Cubs Park      3000.0   NaN   \n",
       "0  Buffalo, NY  Buffalo Baseball Park      5000.0   NaN   \n",
       "3  Buffalo, NY  Buffalo Baseball Park      5000.0   NaN   \n",
       "8  Chicago, IL            Normal Park      4000.0   NaN   \n",
       "\n",
       "                    Team Team Code Opponent Code  Team Score  Opponent Score  \n",
       "1      Chicago Cardinals      chic           det          21               0  \n",
       "2        Detroit Heralds       det          chic           0              21  \n",
       "0  Buffalo All-Americans       buf           cle           7               0  \n",
       "3       Cleveland Tigers       cle           buf           0               7  \n",
       "8      Chicago Cardinals      chic           min          20               0  "
      ]
     },
     "execution_count": 66,
     "metadata": {},
     "output_type": "execute_result"
    }
   ],
   "source": [
    "sort_by_date = df_reduced.sort_values(by=['Date', 'Team Code'])\n",
    "sort_by_date.head()"
   ]
  },
  {
   "cell_type": "code",
   "execution_count": 67,
   "metadata": {},
   "outputs": [
    {
     "data": {
      "text/plain": [
       "<AxesSubplot:xlabel='W/L/T', ylabel='Team Score'>"
      ]
     },
     "execution_count": 67,
     "metadata": {},
     "output_type": "execute_result"
    },
    {
     "data": {
      "image/png": "[encoded data removed]",
      "text/plain": [
       "<Figure size 432x288 with 1 Axes>"
      ]
     },
     "metadata": {
      "needs_background": "light"
     },
     "output_type": "display_data"
    }
   ],
   "source": [
    "sns.violinplot(x='W/L/T', y='Team Score', data=sort_by_date, inner='quartile')\n"
   ]
  },
  {
   "cell_type": "code",
   "execution_count": 68,
   "metadata": {},
   "outputs": [],
   "source": [
    "sort_by_date['Score Sum'] = sort_by_date['Team Score'] + sort_by_date['Opponent Score']"
   ]
  },
  {
   "cell_type": "code",
   "execution_count": 69,
   "metadata": {},
   "outputs": [
    {
     "data": {
      "text/plain": [
       "<AxesSubplot:xlabel='W/L/T', ylabel='Score Sum'>"
      ]
     },
     "execution_count": 69,
     "metadata": {},
     "output_type": "execute_result"
    },
    {
     "data": {
      "image/png": "[encoded data removed]",
      "text/plain": [
       "<Figure size 432x288 with 1 Axes>"
      ]
     },
     "metadata": {
      "needs_background": "light"
     },
     "output_type": "display_data"
    }
   ],
   "source": [
    "sns.violinplot(x='W/L/T', y='Score Sum', data=sort_by_date, inner='quartile')\n"
   ]
  },
  {
   "cell_type": "code",
   "execution_count": 70,
   "metadata": {},
   "outputs": [],
   "source": [
    "# Exclude outliers\n",
    "numerical = sort_by_date[numeric_cols]\n",
    "numerical = numerical[(np.abs(stats.zscore(numerical))<3).all(axis=1)]\n",
    "sort_by_date[numeric_cols] = numerical\n",
    "sort_by_date['Score Sum'] = sort_by_date['Team Score'] + sort_by_date['Opponent Score']\n",
    "sort_by_date['Score Diff'] = sort_by_date['Team Score'] - sort_by_date['Opponent Score']\n"
   ]
  },
  {
   "cell_type": "code",
   "execution_count": 71,
   "metadata": {},
   "outputs": [
    {
     "data": {
      "text/plain": [
       "<AxesSubplot:xlabel='W/L/T', ylabel='Team Score'>"
      ]
     },
     "execution_count": 71,
     "metadata": {},
     "output_type": "execute_result"
    },
    {
     "data": {
      "image/png": "[encoded data removed]",
      "text/plain": [
       "<Figure size 432x288 with 1 Axes>"
      ]
     },
     "metadata": {
      "needs_background": "light"
     },
     "output_type": "display_data"
    }
   ],
   "source": [
    "sns.violinplot(x='W/L/T', y='Team Score', data=sort_by_date, inner='quartile')\n"
   ]
  },
  {
   "cell_type": "code",
   "execution_count": 72,
   "metadata": {},
   "outputs": [
    {
     "data": {
      "text/plain": [
       "<AxesSubplot:xlabel='W/L/T', ylabel='Opponent Score'>"
      ]
     },
     "execution_count": 72,
     "metadata": {},
     "output_type": "execute_result"
    },
    {
     "data": {
      "image/png": "[encoded data removed]",
      "text/plain": [
       "<Figure size 432x288 with 1 Axes>"
      ]
     },
     "metadata": {
      "needs_background": "light"
     },
     "output_type": "display_data"
    }
   ],
   "source": [
    "sns.violinplot(x='W/L/T', y='Opponent Score', data=sort_by_date, inner='quartile')"
   ]
  },
  {
   "cell_type": "code",
   "execution_count": 73,
   "metadata": {},
   "outputs": [
    {
     "data": {
      "text/plain": [
       "<AxesSubplot:xlabel='W/L/T', ylabel='Score Sum'>"
      ]
     },
     "execution_count": 73,
     "metadata": {},
     "output_type": "execute_result"
    },
    {
     "data": {
      "image/png": "[encoded data removed]",
      "text/plain": [
       "<Figure size 432x288 with 1 Axes>"
      ]
     },
     "metadata": {
      "needs_background": "light"
     },
     "output_type": "display_data"
    }
   ],
   "source": [
    "sns.violinplot(x='W/L/T', y='Score Sum', data=sort_by_date, inner='quartile')\n"
   ]
  },
  {
   "cell_type": "code",
   "execution_count": 74,
   "metadata": {},
   "outputs": [
    {
     "data": {
      "text/plain": [
       "<AxesSubplot:xlabel='W/L/T', ylabel='Score Diff'>"
      ]
     },
     "execution_count": 74,
     "metadata": {},
     "output_type": "execute_result"
    },
    {
     "data": {
      "image/png": "[encoded data removed]",
      "text/plain": [
       "<Figure size 432x288 with 1 Axes>"
      ]
     },
     "metadata": {
      "needs_background": "light"
     },
     "output_type": "display_data"
    }
   ],
   "source": [
    "sns.violinplot(x='W/L/T',y='Score Diff',data=sort_by_date, inner='quartile')"
   ]
  },
  {
   "cell_type": "code",
   "execution_count": 82,
   "metadata": {},
   "outputs": [],
   "source": [
    "sort_by_date['sign'] = sort_by_date['W/L/T'].map({'W':1,'L':-1,'T':0}).astype(int)\n",
    "sort_by_date = sort_by_date.loc[~((sort_by_date['sign'] * sort_by_date['Score Diff']) < 0)]"
   ]
  },
  {
   "cell_type": "code",
   "execution_count": 83,
   "metadata": {},
   "outputs": [
    {
     "data": {
      "text/plain": [
       "<AxesSubplot:xlabel='W/L/T', ylabel='Score Diff'>"
      ]
     },
     "execution_count": 83,
     "metadata": {},
     "output_type": "execute_result"
    },
    {
     "data": {
      "image/png": "[encoded data removed]",
      "text/plain": [
       "<Figure size 432x288 with 1 Axes>"
      ]
     },
     "metadata": {
      "needs_background": "light"
     },
     "output_type": "display_data"
    }
   ],
   "source": [
    "sns.violinplot(x='W/L/T',y='Score Diff',data=sort_by_date, inner='quartile')\n"
   ]
  },
  {
   "cell_type": "code",
   "execution_count": null,
   "metadata": {},
   "outputs": [],
   "source": []
  }
 ],
 "metadata": {
  "interpreter": {
   "hash": "43ec02794a5c6caca2187426f9bfbca63869e8dd5c007b90979db8c1bb48c23c"
  },
  "kernelspec": {
   "display_name": "Python 3.7.9 64-bit ('machine_learning': conda)",
   "language": "python",
   "name": "python3"
  },
  "language_info": {
   "codemirror_mode": {
    "name": "ipython",
    "version": 3
   },
   "file_extension": ".py",
   "mimetype": "text/x-python",
   "name": "python",
   "nbconvert_exporter": "python",
   "pygments_lexer": "ipython3",
   "version": "3.7.9"
  },
  "orig_nbformat": 4
 },
 "nbformat": 4,
 "nbformat_minor": 2
}
